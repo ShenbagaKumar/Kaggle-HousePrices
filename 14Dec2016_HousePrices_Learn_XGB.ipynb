{
 "cells": [
  {
   "cell_type": "code",
   "execution_count": 1,
   "metadata": {
    "collapsed": true
   },
   "outputs": [],
   "source": [
    "import pandas as pd\n",
    "import numpy as np\n",
    "\n",
    "import matplotlib as plt"
   ]
  },
  {
   "cell_type": "code",
   "execution_count": 2,
   "metadata": {
    "collapsed": true
   },
   "outputs": [],
   "source": [
    "import matplotlib.pyplot as plt"
   ]
  },
  {
   "cell_type": "code",
   "execution_count": 3,
   "metadata": {
    "collapsed": true
   },
   "outputs": [],
   "source": [
    "%matplotlib inline"
   ]
  },
  {
   "cell_type": "code",
   "execution_count": 4,
   "metadata": {
    "collapsed": true
   },
   "outputs": [],
   "source": [
    "#set the location of the directory with data\n",
    "directory = '/home/shenbaga/data-files/House_Prices/'"
   ]
  },
  {
   "cell_type": "code",
   "execution_count": 5,
   "metadata": {
    "collapsed": true
   },
   "outputs": [],
   "source": [
    "train = pd.read_csv(directory + 'train.csv')"
   ]
  },
  {
   "cell_type": "code",
   "execution_count": 6,
   "metadata": {
    "collapsed": false
   },
   "outputs": [
    {
     "data": {
      "text/html": [
       "<div>\n",
       "<table border=\"1\" class=\"dataframe\">\n",
       "  <thead>\n",
       "    <tr style=\"text-align: right;\">\n",
       "      <th></th>\n",
       "      <th>Id</th>\n",
       "      <th>MSSubClass</th>\n",
       "      <th>MSZoning</th>\n",
       "      <th>LotFrontage</th>\n",
       "      <th>LotArea</th>\n",
       "      <th>Street</th>\n",
       "      <th>Alley</th>\n",
       "      <th>LotShape</th>\n",
       "      <th>LandContour</th>\n",
       "      <th>Utilities</th>\n",
       "      <th>...</th>\n",
       "      <th>PoolArea</th>\n",
       "      <th>PoolQC</th>\n",
       "      <th>Fence</th>\n",
       "      <th>MiscFeature</th>\n",
       "      <th>MiscVal</th>\n",
       "      <th>MoSold</th>\n",
       "      <th>YrSold</th>\n",
       "      <th>SaleType</th>\n",
       "      <th>SaleCondition</th>\n",
       "      <th>SalePrice</th>\n",
       "    </tr>\n",
       "  </thead>\n",
       "  <tbody>\n",
       "    <tr>\n",
       "      <th>0</th>\n",
       "      <td>1</td>\n",
       "      <td>60</td>\n",
       "      <td>RL</td>\n",
       "      <td>65.0</td>\n",
       "      <td>8450</td>\n",
       "      <td>Pave</td>\n",
       "      <td>NaN</td>\n",
       "      <td>Reg</td>\n",
       "      <td>Lvl</td>\n",
       "      <td>AllPub</td>\n",
       "      <td>...</td>\n",
       "      <td>0</td>\n",
       "      <td>NaN</td>\n",
       "      <td>NaN</td>\n",
       "      <td>NaN</td>\n",
       "      <td>0</td>\n",
       "      <td>2</td>\n",
       "      <td>2008</td>\n",
       "      <td>WD</td>\n",
       "      <td>Normal</td>\n",
       "      <td>208500</td>\n",
       "    </tr>\n",
       "    <tr>\n",
       "      <th>1</th>\n",
       "      <td>2</td>\n",
       "      <td>20</td>\n",
       "      <td>RL</td>\n",
       "      <td>80.0</td>\n",
       "      <td>9600</td>\n",
       "      <td>Pave</td>\n",
       "      <td>NaN</td>\n",
       "      <td>Reg</td>\n",
       "      <td>Lvl</td>\n",
       "      <td>AllPub</td>\n",
       "      <td>...</td>\n",
       "      <td>0</td>\n",
       "      <td>NaN</td>\n",
       "      <td>NaN</td>\n",
       "      <td>NaN</td>\n",
       "      <td>0</td>\n",
       "      <td>5</td>\n",
       "      <td>2007</td>\n",
       "      <td>WD</td>\n",
       "      <td>Normal</td>\n",
       "      <td>181500</td>\n",
       "    </tr>\n",
       "    <tr>\n",
       "      <th>2</th>\n",
       "      <td>3</td>\n",
       "      <td>60</td>\n",
       "      <td>RL</td>\n",
       "      <td>68.0</td>\n",
       "      <td>11250</td>\n",
       "      <td>Pave</td>\n",
       "      <td>NaN</td>\n",
       "      <td>IR1</td>\n",
       "      <td>Lvl</td>\n",
       "      <td>AllPub</td>\n",
       "      <td>...</td>\n",
       "      <td>0</td>\n",
       "      <td>NaN</td>\n",
       "      <td>NaN</td>\n",
       "      <td>NaN</td>\n",
       "      <td>0</td>\n",
       "      <td>9</td>\n",
       "      <td>2008</td>\n",
       "      <td>WD</td>\n",
       "      <td>Normal</td>\n",
       "      <td>223500</td>\n",
       "    </tr>\n",
       "    <tr>\n",
       "      <th>3</th>\n",
       "      <td>4</td>\n",
       "      <td>70</td>\n",
       "      <td>RL</td>\n",
       "      <td>60.0</td>\n",
       "      <td>9550</td>\n",
       "      <td>Pave</td>\n",
       "      <td>NaN</td>\n",
       "      <td>IR1</td>\n",
       "      <td>Lvl</td>\n",
       "      <td>AllPub</td>\n",
       "      <td>...</td>\n",
       "      <td>0</td>\n",
       "      <td>NaN</td>\n",
       "      <td>NaN</td>\n",
       "      <td>NaN</td>\n",
       "      <td>0</td>\n",
       "      <td>2</td>\n",
       "      <td>2006</td>\n",
       "      <td>WD</td>\n",
       "      <td>Abnorml</td>\n",
       "      <td>140000</td>\n",
       "    </tr>\n",
       "    <tr>\n",
       "      <th>4</th>\n",
       "      <td>5</td>\n",
       "      <td>60</td>\n",
       "      <td>RL</td>\n",
       "      <td>84.0</td>\n",
       "      <td>14260</td>\n",
       "      <td>Pave</td>\n",
       "      <td>NaN</td>\n",
       "      <td>IR1</td>\n",
       "      <td>Lvl</td>\n",
       "      <td>AllPub</td>\n",
       "      <td>...</td>\n",
       "      <td>0</td>\n",
       "      <td>NaN</td>\n",
       "      <td>NaN</td>\n",
       "      <td>NaN</td>\n",
       "      <td>0</td>\n",
       "      <td>12</td>\n",
       "      <td>2008</td>\n",
       "      <td>WD</td>\n",
       "      <td>Normal</td>\n",
       "      <td>250000</td>\n",
       "    </tr>\n",
       "  </tbody>\n",
       "</table>\n",
       "<p>5 rows × 81 columns</p>\n",
       "</div>"
      ],
      "text/plain": [
       "   Id  MSSubClass MSZoning  LotFrontage  LotArea Street Alley LotShape  \\\n",
       "0   1          60       RL         65.0     8450   Pave   NaN      Reg   \n",
       "1   2          20       RL         80.0     9600   Pave   NaN      Reg   \n",
       "2   3          60       RL         68.0    11250   Pave   NaN      IR1   \n",
       "3   4          70       RL         60.0     9550   Pave   NaN      IR1   \n",
       "4   5          60       RL         84.0    14260   Pave   NaN      IR1   \n",
       "\n",
       "  LandContour Utilities    ...     PoolArea PoolQC Fence MiscFeature MiscVal  \\\n",
       "0         Lvl    AllPub    ...            0    NaN   NaN         NaN       0   \n",
       "1         Lvl    AllPub    ...            0    NaN   NaN         NaN       0   \n",
       "2         Lvl    AllPub    ...            0    NaN   NaN         NaN       0   \n",
       "3         Lvl    AllPub    ...            0    NaN   NaN         NaN       0   \n",
       "4         Lvl    AllPub    ...            0    NaN   NaN         NaN       0   \n",
       "\n",
       "  MoSold YrSold  SaleType  SaleCondition  SalePrice  \n",
       "0      2   2008        WD         Normal     208500  \n",
       "1      5   2007        WD         Normal     181500  \n",
       "2      9   2008        WD         Normal     223500  \n",
       "3      2   2006        WD        Abnorml     140000  \n",
       "4     12   2008        WD         Normal     250000  \n",
       "\n",
       "[5 rows x 81 columns]"
      ]
     },
     "execution_count": 6,
     "metadata": {},
     "output_type": "execute_result"
    }
   ],
   "source": [
    "train.head()"
   ]
  },
  {
   "cell_type": "code",
   "execution_count": 7,
   "metadata": {
    "collapsed": true
   },
   "outputs": [],
   "source": [
    "test = pd.read_csv(directory + 'test.csv')"
   ]
  },
  {
   "cell_type": "code",
   "execution_count": 8,
   "metadata": {
    "collapsed": false
   },
   "outputs": [
    {
     "data": {
      "text/html": [
       "<div>\n",
       "<table border=\"1\" class=\"dataframe\">\n",
       "  <thead>\n",
       "    <tr style=\"text-align: right;\">\n",
       "      <th></th>\n",
       "      <th>Id</th>\n",
       "      <th>MSSubClass</th>\n",
       "      <th>MSZoning</th>\n",
       "      <th>LotFrontage</th>\n",
       "      <th>LotArea</th>\n",
       "      <th>Street</th>\n",
       "      <th>Alley</th>\n",
       "      <th>LotShape</th>\n",
       "      <th>LandContour</th>\n",
       "      <th>Utilities</th>\n",
       "      <th>...</th>\n",
       "      <th>ScreenPorch</th>\n",
       "      <th>PoolArea</th>\n",
       "      <th>PoolQC</th>\n",
       "      <th>Fence</th>\n",
       "      <th>MiscFeature</th>\n",
       "      <th>MiscVal</th>\n",
       "      <th>MoSold</th>\n",
       "      <th>YrSold</th>\n",
       "      <th>SaleType</th>\n",
       "      <th>SaleCondition</th>\n",
       "    </tr>\n",
       "  </thead>\n",
       "  <tbody>\n",
       "    <tr>\n",
       "      <th>0</th>\n",
       "      <td>1461</td>\n",
       "      <td>20</td>\n",
       "      <td>RH</td>\n",
       "      <td>80.0</td>\n",
       "      <td>11622</td>\n",
       "      <td>Pave</td>\n",
       "      <td>NaN</td>\n",
       "      <td>Reg</td>\n",
       "      <td>Lvl</td>\n",
       "      <td>AllPub</td>\n",
       "      <td>...</td>\n",
       "      <td>120</td>\n",
       "      <td>0</td>\n",
       "      <td>NaN</td>\n",
       "      <td>MnPrv</td>\n",
       "      <td>NaN</td>\n",
       "      <td>0</td>\n",
       "      <td>6</td>\n",
       "      <td>2010</td>\n",
       "      <td>WD</td>\n",
       "      <td>Normal</td>\n",
       "    </tr>\n",
       "    <tr>\n",
       "      <th>1</th>\n",
       "      <td>1462</td>\n",
       "      <td>20</td>\n",
       "      <td>RL</td>\n",
       "      <td>81.0</td>\n",
       "      <td>14267</td>\n",
       "      <td>Pave</td>\n",
       "      <td>NaN</td>\n",
       "      <td>IR1</td>\n",
       "      <td>Lvl</td>\n",
       "      <td>AllPub</td>\n",
       "      <td>...</td>\n",
       "      <td>0</td>\n",
       "      <td>0</td>\n",
       "      <td>NaN</td>\n",
       "      <td>NaN</td>\n",
       "      <td>Gar2</td>\n",
       "      <td>12500</td>\n",
       "      <td>6</td>\n",
       "      <td>2010</td>\n",
       "      <td>WD</td>\n",
       "      <td>Normal</td>\n",
       "    </tr>\n",
       "    <tr>\n",
       "      <th>2</th>\n",
       "      <td>1463</td>\n",
       "      <td>60</td>\n",
       "      <td>RL</td>\n",
       "      <td>74.0</td>\n",
       "      <td>13830</td>\n",
       "      <td>Pave</td>\n",
       "      <td>NaN</td>\n",
       "      <td>IR1</td>\n",
       "      <td>Lvl</td>\n",
       "      <td>AllPub</td>\n",
       "      <td>...</td>\n",
       "      <td>0</td>\n",
       "      <td>0</td>\n",
       "      <td>NaN</td>\n",
       "      <td>MnPrv</td>\n",
       "      <td>NaN</td>\n",
       "      <td>0</td>\n",
       "      <td>3</td>\n",
       "      <td>2010</td>\n",
       "      <td>WD</td>\n",
       "      <td>Normal</td>\n",
       "    </tr>\n",
       "    <tr>\n",
       "      <th>3</th>\n",
       "      <td>1464</td>\n",
       "      <td>60</td>\n",
       "      <td>RL</td>\n",
       "      <td>78.0</td>\n",
       "      <td>9978</td>\n",
       "      <td>Pave</td>\n",
       "      <td>NaN</td>\n",
       "      <td>IR1</td>\n",
       "      <td>Lvl</td>\n",
       "      <td>AllPub</td>\n",
       "      <td>...</td>\n",
       "      <td>0</td>\n",
       "      <td>0</td>\n",
       "      <td>NaN</td>\n",
       "      <td>NaN</td>\n",
       "      <td>NaN</td>\n",
       "      <td>0</td>\n",
       "      <td>6</td>\n",
       "      <td>2010</td>\n",
       "      <td>WD</td>\n",
       "      <td>Normal</td>\n",
       "    </tr>\n",
       "    <tr>\n",
       "      <th>4</th>\n",
       "      <td>1465</td>\n",
       "      <td>120</td>\n",
       "      <td>RL</td>\n",
       "      <td>43.0</td>\n",
       "      <td>5005</td>\n",
       "      <td>Pave</td>\n",
       "      <td>NaN</td>\n",
       "      <td>IR1</td>\n",
       "      <td>HLS</td>\n",
       "      <td>AllPub</td>\n",
       "      <td>...</td>\n",
       "      <td>144</td>\n",
       "      <td>0</td>\n",
       "      <td>NaN</td>\n",
       "      <td>NaN</td>\n",
       "      <td>NaN</td>\n",
       "      <td>0</td>\n",
       "      <td>1</td>\n",
       "      <td>2010</td>\n",
       "      <td>WD</td>\n",
       "      <td>Normal</td>\n",
       "    </tr>\n",
       "  </tbody>\n",
       "</table>\n",
       "<p>5 rows × 80 columns</p>\n",
       "</div>"
      ],
      "text/plain": [
       "     Id  MSSubClass MSZoning  LotFrontage  LotArea Street Alley LotShape  \\\n",
       "0  1461          20       RH         80.0    11622   Pave   NaN      Reg   \n",
       "1  1462          20       RL         81.0    14267   Pave   NaN      IR1   \n",
       "2  1463          60       RL         74.0    13830   Pave   NaN      IR1   \n",
       "3  1464          60       RL         78.0     9978   Pave   NaN      IR1   \n",
       "4  1465         120       RL         43.0     5005   Pave   NaN      IR1   \n",
       "\n",
       "  LandContour Utilities      ...       ScreenPorch PoolArea PoolQC  Fence  \\\n",
       "0         Lvl    AllPub      ...               120        0    NaN  MnPrv   \n",
       "1         Lvl    AllPub      ...                 0        0    NaN    NaN   \n",
       "2         Lvl    AllPub      ...                 0        0    NaN  MnPrv   \n",
       "3         Lvl    AllPub      ...                 0        0    NaN    NaN   \n",
       "4         HLS    AllPub      ...               144        0    NaN    NaN   \n",
       "\n",
       "  MiscFeature MiscVal MoSold  YrSold  SaleType  SaleCondition  \n",
       "0         NaN       0      6    2010        WD         Normal  \n",
       "1        Gar2   12500      6    2010        WD         Normal  \n",
       "2         NaN       0      3    2010        WD         Normal  \n",
       "3         NaN       0      6    2010        WD         Normal  \n",
       "4         NaN       0      1    2010        WD         Normal  \n",
       "\n",
       "[5 rows x 80 columns]"
      ]
     },
     "execution_count": 8,
     "metadata": {},
     "output_type": "execute_result"
    }
   ],
   "source": [
    "test.head()"
   ]
  },
  {
   "cell_type": "code",
   "execution_count": 9,
   "metadata": {
    "collapsed": false
   },
   "outputs": [
    {
     "name": "stdout",
     "output_type": "stream",
     "text": [
      "<class 'pandas.core.frame.DataFrame'>\n",
      "RangeIndex: 1460 entries, 0 to 1459\n",
      "Data columns (total 81 columns):\n",
      "Id               1460 non-null int64\n",
      "MSSubClass       1460 non-null int64\n",
      "MSZoning         1460 non-null object\n",
      "LotFrontage      1201 non-null float64\n",
      "LotArea          1460 non-null int64\n",
      "Street           1460 non-null object\n",
      "Alley            91 non-null object\n",
      "LotShape         1460 non-null object\n",
      "LandContour      1460 non-null object\n",
      "Utilities        1460 non-null object\n",
      "LotConfig        1460 non-null object\n",
      "LandSlope        1460 non-null object\n",
      "Neighborhood     1460 non-null object\n",
      "Condition1       1460 non-null object\n",
      "Condition2       1460 non-null object\n",
      "BldgType         1460 non-null object\n",
      "HouseStyle       1460 non-null object\n",
      "OverallQual      1460 non-null int64\n",
      "OverallCond      1460 non-null int64\n",
      "YearBuilt        1460 non-null int64\n",
      "YearRemodAdd     1460 non-null int64\n",
      "RoofStyle        1460 non-null object\n",
      "RoofMatl         1460 non-null object\n",
      "Exterior1st      1460 non-null object\n",
      "Exterior2nd      1460 non-null object\n",
      "MasVnrType       1452 non-null object\n",
      "MasVnrArea       1452 non-null float64\n",
      "ExterQual        1460 non-null object\n",
      "ExterCond        1460 non-null object\n",
      "Foundation       1460 non-null object\n",
      "BsmtQual         1423 non-null object\n",
      "BsmtCond         1423 non-null object\n",
      "BsmtExposure     1422 non-null object\n",
      "BsmtFinType1     1423 non-null object\n",
      "BsmtFinSF1       1460 non-null int64\n",
      "BsmtFinType2     1422 non-null object\n",
      "BsmtFinSF2       1460 non-null int64\n",
      "BsmtUnfSF        1460 non-null int64\n",
      "TotalBsmtSF      1460 non-null int64\n",
      "Heating          1460 non-null object\n",
      "HeatingQC        1460 non-null object\n",
      "CentralAir       1460 non-null object\n",
      "Electrical       1459 non-null object\n",
      "1stFlrSF         1460 non-null int64\n",
      "2ndFlrSF         1460 non-null int64\n",
      "LowQualFinSF     1460 non-null int64\n",
      "GrLivArea        1460 non-null int64\n",
      "BsmtFullBath     1460 non-null int64\n",
      "BsmtHalfBath     1460 non-null int64\n",
      "FullBath         1460 non-null int64\n",
      "HalfBath         1460 non-null int64\n",
      "BedroomAbvGr     1460 non-null int64\n",
      "KitchenAbvGr     1460 non-null int64\n",
      "KitchenQual      1460 non-null object\n",
      "TotRmsAbvGrd     1460 non-null int64\n",
      "Functional       1460 non-null object\n",
      "Fireplaces       1460 non-null int64\n",
      "FireplaceQu      770 non-null object\n",
      "GarageType       1379 non-null object\n",
      "GarageYrBlt      1379 non-null float64\n",
      "GarageFinish     1379 non-null object\n",
      "GarageCars       1460 non-null int64\n",
      "GarageArea       1460 non-null int64\n",
      "GarageQual       1379 non-null object\n",
      "GarageCond       1379 non-null object\n",
      "PavedDrive       1460 non-null object\n",
      "WoodDeckSF       1460 non-null int64\n",
      "OpenPorchSF      1460 non-null int64\n",
      "EnclosedPorch    1460 non-null int64\n",
      "3SsnPorch        1460 non-null int64\n",
      "ScreenPorch      1460 non-null int64\n",
      "PoolArea         1460 non-null int64\n",
      "PoolQC           7 non-null object\n",
      "Fence            281 non-null object\n",
      "MiscFeature      54 non-null object\n",
      "MiscVal          1460 non-null int64\n",
      "MoSold           1460 non-null int64\n",
      "YrSold           1460 non-null int64\n",
      "SaleType         1460 non-null object\n",
      "SaleCondition    1460 non-null object\n",
      "SalePrice        1460 non-null int64\n",
      "dtypes: float64(3), int64(35), object(43)\n",
      "memory usage: 924.0+ KB\n"
     ]
    }
   ],
   "source": [
    "train.info()"
   ]
  },
  {
   "cell_type": "code",
   "execution_count": 11,
   "metadata": {
    "collapsed": false
   },
   "outputs": [
    {
     "name": "stdout",
     "output_type": "stream",
     "text": [
      "<class 'pandas.core.frame.DataFrame'>\n",
      "RangeIndex: 1459 entries, 0 to 1458\n",
      "Data columns (total 80 columns):\n",
      "Id               1459 non-null int64\n",
      "MSSubClass       1459 non-null int64\n",
      "MSZoning         1455 non-null object\n",
      "LotFrontage      1232 non-null float64\n",
      "LotArea          1459 non-null int64\n",
      "Street           1459 non-null object\n",
      "Alley            107 non-null object\n",
      "LotShape         1459 non-null object\n",
      "LandContour      1459 non-null object\n",
      "Utilities        1457 non-null object\n",
      "LotConfig        1459 non-null object\n",
      "LandSlope        1459 non-null object\n",
      "Neighborhood     1459 non-null object\n",
      "Condition1       1459 non-null object\n",
      "Condition2       1459 non-null object\n",
      "BldgType         1459 non-null object\n",
      "HouseStyle       1459 non-null object\n",
      "OverallQual      1459 non-null int64\n",
      "OverallCond      1459 non-null int64\n",
      "YearBuilt        1459 non-null int64\n",
      "YearRemodAdd     1459 non-null int64\n",
      "RoofStyle        1459 non-null object\n",
      "RoofMatl         1459 non-null object\n",
      "Exterior1st      1458 non-null object\n",
      "Exterior2nd      1458 non-null object\n",
      "MasVnrType       1443 non-null object\n",
      "MasVnrArea       1444 non-null float64\n",
      "ExterQual        1459 non-null object\n",
      "ExterCond        1459 non-null object\n",
      "Foundation       1459 non-null object\n",
      "BsmtQual         1415 non-null object\n",
      "BsmtCond         1414 non-null object\n",
      "BsmtExposure     1415 non-null object\n",
      "BsmtFinType1     1417 non-null object\n",
      "BsmtFinSF1       1458 non-null float64\n",
      "BsmtFinType2     1417 non-null object\n",
      "BsmtFinSF2       1458 non-null float64\n",
      "BsmtUnfSF        1458 non-null float64\n",
      "TotalBsmtSF      1458 non-null float64\n",
      "Heating          1459 non-null object\n",
      "HeatingQC        1459 non-null object\n",
      "CentralAir       1459 non-null object\n",
      "Electrical       1459 non-null object\n",
      "1stFlrSF         1459 non-null int64\n",
      "2ndFlrSF         1459 non-null int64\n",
      "LowQualFinSF     1459 non-null int64\n",
      "GrLivArea        1459 non-null int64\n",
      "BsmtFullBath     1457 non-null float64\n",
      "BsmtHalfBath     1457 non-null float64\n",
      "FullBath         1459 non-null int64\n",
      "HalfBath         1459 non-null int64\n",
      "BedroomAbvGr     1459 non-null int64\n",
      "KitchenAbvGr     1459 non-null int64\n",
      "KitchenQual      1458 non-null object\n",
      "TotRmsAbvGrd     1459 non-null int64\n",
      "Functional       1457 non-null object\n",
      "Fireplaces       1459 non-null int64\n",
      "FireplaceQu      729 non-null object\n",
      "GarageType       1383 non-null object\n",
      "GarageYrBlt      1381 non-null float64\n",
      "GarageFinish     1381 non-null object\n",
      "GarageCars       1458 non-null float64\n",
      "GarageArea       1458 non-null float64\n",
      "GarageQual       1381 non-null object\n",
      "GarageCond       1381 non-null object\n",
      "PavedDrive       1459 non-null object\n",
      "WoodDeckSF       1459 non-null int64\n",
      "OpenPorchSF      1459 non-null int64\n",
      "EnclosedPorch    1459 non-null int64\n",
      "3SsnPorch        1459 non-null int64\n",
      "ScreenPorch      1459 non-null int64\n",
      "PoolArea         1459 non-null int64\n",
      "PoolQC           3 non-null object\n",
      "Fence            290 non-null object\n",
      "MiscFeature      51 non-null object\n",
      "MiscVal          1459 non-null int64\n",
      "MoSold           1459 non-null int64\n",
      "YrSold           1459 non-null int64\n",
      "SaleType         1458 non-null object\n",
      "SaleCondition    1459 non-null object\n",
      "dtypes: float64(11), int64(26), object(43)\n",
      "memory usage: 911.9+ KB\n"
     ]
    }
   ],
   "source": [
    "test.info()"
   ]
  },
  {
   "cell_type": "code",
   "execution_count": 10,
   "metadata": {
    "collapsed": true
   },
   "outputs": [],
   "source": [
    "# drop a few columns that have very low data fill rate\n",
    "#poor fill rate in train: Alley, FireplaceQu, PoolQC, Fence, MiscFeature\n",
    "#poor fill rate in test: Alley, FireplaceQu, PoolQC, Fence, MiscFeature"
   ]
  },
  {
   "cell_type": "code",
   "execution_count": 11,
   "metadata": {
    "collapsed": false
   },
   "outputs": [],
   "source": [
    "train.drop(['Alley','FireplaceQu', 'PoolQC', 'Fence', 'MiscFeature'],axis=1,inplace=True)"
   ]
  },
  {
   "cell_type": "code",
   "execution_count": 12,
   "metadata": {
    "collapsed": false
   },
   "outputs": [
    {
     "data": {
      "text/plain": [
       "Index([u'Id', u'MSSubClass', u'MSZoning', u'LotFrontage', u'LotArea',\n",
       "       u'Street', u'LotShape', u'LandContour', u'Utilities', u'LotConfig',\n",
       "       u'LandSlope', u'Neighborhood', u'Condition1', u'Condition2',\n",
       "       u'BldgType', u'HouseStyle', u'OverallQual', u'OverallCond',\n",
       "       u'YearBuilt', u'YearRemodAdd', u'RoofStyle', u'RoofMatl',\n",
       "       u'Exterior1st', u'Exterior2nd', u'MasVnrType', u'MasVnrArea',\n",
       "       u'ExterQual', u'ExterCond', u'Foundation', u'BsmtQual', u'BsmtCond',\n",
       "       u'BsmtExposure', u'BsmtFinType1', u'BsmtFinSF1', u'BsmtFinType2',\n",
       "       u'BsmtFinSF2', u'BsmtUnfSF', u'TotalBsmtSF', u'Heating', u'HeatingQC',\n",
       "       u'CentralAir', u'Electrical', u'1stFlrSF', u'2ndFlrSF', u'LowQualFinSF',\n",
       "       u'GrLivArea', u'BsmtFullBath', u'BsmtHalfBath', u'FullBath',\n",
       "       u'HalfBath', u'BedroomAbvGr', u'KitchenAbvGr', u'KitchenQual',\n",
       "       u'TotRmsAbvGrd', u'Functional', u'Fireplaces', u'GarageType',\n",
       "       u'GarageYrBlt', u'GarageFinish', u'GarageCars', u'GarageArea',\n",
       "       u'GarageQual', u'GarageCond', u'PavedDrive', u'WoodDeckSF',\n",
       "       u'OpenPorchSF', u'EnclosedPorch', u'3SsnPorch', u'ScreenPorch',\n",
       "       u'PoolArea', u'MiscVal', u'MoSold', u'YrSold', u'SaleType',\n",
       "       u'SaleCondition', u'SalePrice'],\n",
       "      dtype='object')"
      ]
     },
     "execution_count": 12,
     "metadata": {},
     "output_type": "execute_result"
    }
   ],
   "source": [
    "train.columns"
   ]
  },
  {
   "cell_type": "code",
   "execution_count": 13,
   "metadata": {
    "collapsed": false
   },
   "outputs": [
    {
     "data": {
      "text/html": [
       "<div>\n",
       "<table border=\"1\" class=\"dataframe\">\n",
       "  <thead>\n",
       "    <tr style=\"text-align: right;\">\n",
       "      <th></th>\n",
       "      <th>Id</th>\n",
       "      <th>MSSubClass</th>\n",
       "      <th>MSZoning</th>\n",
       "      <th>LotFrontage</th>\n",
       "      <th>LotArea</th>\n",
       "      <th>Street</th>\n",
       "      <th>LotShape</th>\n",
       "      <th>LandContour</th>\n",
       "      <th>Utilities</th>\n",
       "      <th>LotConfig</th>\n",
       "      <th>...</th>\n",
       "      <th>EnclosedPorch</th>\n",
       "      <th>3SsnPorch</th>\n",
       "      <th>ScreenPorch</th>\n",
       "      <th>PoolArea</th>\n",
       "      <th>MiscVal</th>\n",
       "      <th>MoSold</th>\n",
       "      <th>YrSold</th>\n",
       "      <th>SaleType</th>\n",
       "      <th>SaleCondition</th>\n",
       "      <th>SalePrice</th>\n",
       "    </tr>\n",
       "  </thead>\n",
       "  <tbody>\n",
       "    <tr>\n",
       "      <th>0</th>\n",
       "      <td>1</td>\n",
       "      <td>60</td>\n",
       "      <td>RL</td>\n",
       "      <td>65.0</td>\n",
       "      <td>8450</td>\n",
       "      <td>Pave</td>\n",
       "      <td>Reg</td>\n",
       "      <td>Lvl</td>\n",
       "      <td>AllPub</td>\n",
       "      <td>Inside</td>\n",
       "      <td>...</td>\n",
       "      <td>0</td>\n",
       "      <td>0</td>\n",
       "      <td>0</td>\n",
       "      <td>0</td>\n",
       "      <td>0</td>\n",
       "      <td>2</td>\n",
       "      <td>2008</td>\n",
       "      <td>WD</td>\n",
       "      <td>Normal</td>\n",
       "      <td>208500</td>\n",
       "    </tr>\n",
       "    <tr>\n",
       "      <th>1</th>\n",
       "      <td>2</td>\n",
       "      <td>20</td>\n",
       "      <td>RL</td>\n",
       "      <td>80.0</td>\n",
       "      <td>9600</td>\n",
       "      <td>Pave</td>\n",
       "      <td>Reg</td>\n",
       "      <td>Lvl</td>\n",
       "      <td>AllPub</td>\n",
       "      <td>FR2</td>\n",
       "      <td>...</td>\n",
       "      <td>0</td>\n",
       "      <td>0</td>\n",
       "      <td>0</td>\n",
       "      <td>0</td>\n",
       "      <td>0</td>\n",
       "      <td>5</td>\n",
       "      <td>2007</td>\n",
       "      <td>WD</td>\n",
       "      <td>Normal</td>\n",
       "      <td>181500</td>\n",
       "    </tr>\n",
       "    <tr>\n",
       "      <th>2</th>\n",
       "      <td>3</td>\n",
       "      <td>60</td>\n",
       "      <td>RL</td>\n",
       "      <td>68.0</td>\n",
       "      <td>11250</td>\n",
       "      <td>Pave</td>\n",
       "      <td>IR1</td>\n",
       "      <td>Lvl</td>\n",
       "      <td>AllPub</td>\n",
       "      <td>Inside</td>\n",
       "      <td>...</td>\n",
       "      <td>0</td>\n",
       "      <td>0</td>\n",
       "      <td>0</td>\n",
       "      <td>0</td>\n",
       "      <td>0</td>\n",
       "      <td>9</td>\n",
       "      <td>2008</td>\n",
       "      <td>WD</td>\n",
       "      <td>Normal</td>\n",
       "      <td>223500</td>\n",
       "    </tr>\n",
       "    <tr>\n",
       "      <th>3</th>\n",
       "      <td>4</td>\n",
       "      <td>70</td>\n",
       "      <td>RL</td>\n",
       "      <td>60.0</td>\n",
       "      <td>9550</td>\n",
       "      <td>Pave</td>\n",
       "      <td>IR1</td>\n",
       "      <td>Lvl</td>\n",
       "      <td>AllPub</td>\n",
       "      <td>Corner</td>\n",
       "      <td>...</td>\n",
       "      <td>272</td>\n",
       "      <td>0</td>\n",
       "      <td>0</td>\n",
       "      <td>0</td>\n",
       "      <td>0</td>\n",
       "      <td>2</td>\n",
       "      <td>2006</td>\n",
       "      <td>WD</td>\n",
       "      <td>Abnorml</td>\n",
       "      <td>140000</td>\n",
       "    </tr>\n",
       "    <tr>\n",
       "      <th>4</th>\n",
       "      <td>5</td>\n",
       "      <td>60</td>\n",
       "      <td>RL</td>\n",
       "      <td>84.0</td>\n",
       "      <td>14260</td>\n",
       "      <td>Pave</td>\n",
       "      <td>IR1</td>\n",
       "      <td>Lvl</td>\n",
       "      <td>AllPub</td>\n",
       "      <td>FR2</td>\n",
       "      <td>...</td>\n",
       "      <td>0</td>\n",
       "      <td>0</td>\n",
       "      <td>0</td>\n",
       "      <td>0</td>\n",
       "      <td>0</td>\n",
       "      <td>12</td>\n",
       "      <td>2008</td>\n",
       "      <td>WD</td>\n",
       "      <td>Normal</td>\n",
       "      <td>250000</td>\n",
       "    </tr>\n",
       "  </tbody>\n",
       "</table>\n",
       "<p>5 rows × 76 columns</p>\n",
       "</div>"
      ],
      "text/plain": [
       "   Id  MSSubClass MSZoning  LotFrontage  LotArea Street LotShape LandContour  \\\n",
       "0   1          60       RL         65.0     8450   Pave      Reg         Lvl   \n",
       "1   2          20       RL         80.0     9600   Pave      Reg         Lvl   \n",
       "2   3          60       RL         68.0    11250   Pave      IR1         Lvl   \n",
       "3   4          70       RL         60.0     9550   Pave      IR1         Lvl   \n",
       "4   5          60       RL         84.0    14260   Pave      IR1         Lvl   \n",
       "\n",
       "  Utilities LotConfig    ...     EnclosedPorch 3SsnPorch ScreenPorch PoolArea  \\\n",
       "0    AllPub    Inside    ...                 0         0           0        0   \n",
       "1    AllPub       FR2    ...                 0         0           0        0   \n",
       "2    AllPub    Inside    ...                 0         0           0        0   \n",
       "3    AllPub    Corner    ...               272         0           0        0   \n",
       "4    AllPub       FR2    ...                 0         0           0        0   \n",
       "\n",
       "  MiscVal MoSold  YrSold  SaleType  SaleCondition  SalePrice  \n",
       "0       0      2    2008        WD         Normal     208500  \n",
       "1       0      5    2007        WD         Normal     181500  \n",
       "2       0      9    2008        WD         Normal     223500  \n",
       "3       0      2    2006        WD        Abnorml     140000  \n",
       "4       0     12    2008        WD         Normal     250000  \n",
       "\n",
       "[5 rows x 76 columns]"
      ]
     },
     "execution_count": 13,
     "metadata": {},
     "output_type": "execute_result"
    }
   ],
   "source": [
    "train.head()"
   ]
  },
  {
   "cell_type": "code",
   "execution_count": 14,
   "metadata": {
    "collapsed": false
   },
   "outputs": [
    {
     "data": {
      "text/html": [
       "<div>\n",
       "<table border=\"1\" class=\"dataframe\">\n",
       "  <thead>\n",
       "    <tr style=\"text-align: right;\">\n",
       "      <th></th>\n",
       "      <th>Id</th>\n",
       "      <th>MSSubClass</th>\n",
       "      <th>MSZoning</th>\n",
       "      <th>LotFrontage</th>\n",
       "      <th>LotArea</th>\n",
       "      <th>Street</th>\n",
       "      <th>LotShape</th>\n",
       "      <th>LandContour</th>\n",
       "      <th>Utilities</th>\n",
       "      <th>LotConfig</th>\n",
       "      <th>...</th>\n",
       "      <th>OpenPorchSF</th>\n",
       "      <th>EnclosedPorch</th>\n",
       "      <th>3SsnPorch</th>\n",
       "      <th>ScreenPorch</th>\n",
       "      <th>PoolArea</th>\n",
       "      <th>MiscVal</th>\n",
       "      <th>MoSold</th>\n",
       "      <th>YrSold</th>\n",
       "      <th>SaleType</th>\n",
       "      <th>SaleCondition</th>\n",
       "    </tr>\n",
       "  </thead>\n",
       "  <tbody>\n",
       "    <tr>\n",
       "      <th>0</th>\n",
       "      <td>1461</td>\n",
       "      <td>20</td>\n",
       "      <td>RH</td>\n",
       "      <td>80.0</td>\n",
       "      <td>11622</td>\n",
       "      <td>Pave</td>\n",
       "      <td>Reg</td>\n",
       "      <td>Lvl</td>\n",
       "      <td>AllPub</td>\n",
       "      <td>Inside</td>\n",
       "      <td>...</td>\n",
       "      <td>0</td>\n",
       "      <td>0</td>\n",
       "      <td>0</td>\n",
       "      <td>120</td>\n",
       "      <td>0</td>\n",
       "      <td>0</td>\n",
       "      <td>6</td>\n",
       "      <td>2010</td>\n",
       "      <td>WD</td>\n",
       "      <td>Normal</td>\n",
       "    </tr>\n",
       "    <tr>\n",
       "      <th>1</th>\n",
       "      <td>1462</td>\n",
       "      <td>20</td>\n",
       "      <td>RL</td>\n",
       "      <td>81.0</td>\n",
       "      <td>14267</td>\n",
       "      <td>Pave</td>\n",
       "      <td>IR1</td>\n",
       "      <td>Lvl</td>\n",
       "      <td>AllPub</td>\n",
       "      <td>Corner</td>\n",
       "      <td>...</td>\n",
       "      <td>36</td>\n",
       "      <td>0</td>\n",
       "      <td>0</td>\n",
       "      <td>0</td>\n",
       "      <td>0</td>\n",
       "      <td>12500</td>\n",
       "      <td>6</td>\n",
       "      <td>2010</td>\n",
       "      <td>WD</td>\n",
       "      <td>Normal</td>\n",
       "    </tr>\n",
       "    <tr>\n",
       "      <th>2</th>\n",
       "      <td>1463</td>\n",
       "      <td>60</td>\n",
       "      <td>RL</td>\n",
       "      <td>74.0</td>\n",
       "      <td>13830</td>\n",
       "      <td>Pave</td>\n",
       "      <td>IR1</td>\n",
       "      <td>Lvl</td>\n",
       "      <td>AllPub</td>\n",
       "      <td>Inside</td>\n",
       "      <td>...</td>\n",
       "      <td>34</td>\n",
       "      <td>0</td>\n",
       "      <td>0</td>\n",
       "      <td>0</td>\n",
       "      <td>0</td>\n",
       "      <td>0</td>\n",
       "      <td>3</td>\n",
       "      <td>2010</td>\n",
       "      <td>WD</td>\n",
       "      <td>Normal</td>\n",
       "    </tr>\n",
       "    <tr>\n",
       "      <th>3</th>\n",
       "      <td>1464</td>\n",
       "      <td>60</td>\n",
       "      <td>RL</td>\n",
       "      <td>78.0</td>\n",
       "      <td>9978</td>\n",
       "      <td>Pave</td>\n",
       "      <td>IR1</td>\n",
       "      <td>Lvl</td>\n",
       "      <td>AllPub</td>\n",
       "      <td>Inside</td>\n",
       "      <td>...</td>\n",
       "      <td>36</td>\n",
       "      <td>0</td>\n",
       "      <td>0</td>\n",
       "      <td>0</td>\n",
       "      <td>0</td>\n",
       "      <td>0</td>\n",
       "      <td>6</td>\n",
       "      <td>2010</td>\n",
       "      <td>WD</td>\n",
       "      <td>Normal</td>\n",
       "    </tr>\n",
       "    <tr>\n",
       "      <th>4</th>\n",
       "      <td>1465</td>\n",
       "      <td>120</td>\n",
       "      <td>RL</td>\n",
       "      <td>43.0</td>\n",
       "      <td>5005</td>\n",
       "      <td>Pave</td>\n",
       "      <td>IR1</td>\n",
       "      <td>HLS</td>\n",
       "      <td>AllPub</td>\n",
       "      <td>Inside</td>\n",
       "      <td>...</td>\n",
       "      <td>82</td>\n",
       "      <td>0</td>\n",
       "      <td>0</td>\n",
       "      <td>144</td>\n",
       "      <td>0</td>\n",
       "      <td>0</td>\n",
       "      <td>1</td>\n",
       "      <td>2010</td>\n",
       "      <td>WD</td>\n",
       "      <td>Normal</td>\n",
       "    </tr>\n",
       "  </tbody>\n",
       "</table>\n",
       "<p>5 rows × 75 columns</p>\n",
       "</div>"
      ],
      "text/plain": [
       "     Id  MSSubClass MSZoning  LotFrontage  LotArea Street LotShape  \\\n",
       "0  1461          20       RH         80.0    11622   Pave      Reg   \n",
       "1  1462          20       RL         81.0    14267   Pave      IR1   \n",
       "2  1463          60       RL         74.0    13830   Pave      IR1   \n",
       "3  1464          60       RL         78.0     9978   Pave      IR1   \n",
       "4  1465         120       RL         43.0     5005   Pave      IR1   \n",
       "\n",
       "  LandContour Utilities LotConfig      ...       OpenPorchSF EnclosedPorch  \\\n",
       "0         Lvl    AllPub    Inside      ...                 0             0   \n",
       "1         Lvl    AllPub    Corner      ...                36             0   \n",
       "2         Lvl    AllPub    Inside      ...                34             0   \n",
       "3         Lvl    AllPub    Inside      ...                36             0   \n",
       "4         HLS    AllPub    Inside      ...                82             0   \n",
       "\n",
       "  3SsnPorch ScreenPorch PoolArea MiscVal  MoSold  YrSold  SaleType  \\\n",
       "0         0         120        0       0       6    2010        WD   \n",
       "1         0           0        0   12500       6    2010        WD   \n",
       "2         0           0        0       0       3    2010        WD   \n",
       "3         0           0        0       0       6    2010        WD   \n",
       "4         0         144        0       0       1    2010        WD   \n",
       "\n",
       "   SaleCondition  \n",
       "0         Normal  \n",
       "1         Normal  \n",
       "2         Normal  \n",
       "3         Normal  \n",
       "4         Normal  \n",
       "\n",
       "[5 rows x 75 columns]"
      ]
     },
     "execution_count": 14,
     "metadata": {},
     "output_type": "execute_result"
    }
   ],
   "source": [
    "test.drop(['Alley','FireplaceQu', 'PoolQC', 'Fence', 'MiscFeature'],axis=1,inplace=True)\n",
    "test.head()"
   ]
  },
  {
   "cell_type": "code",
   "execution_count": 15,
   "metadata": {
    "collapsed": true
   },
   "outputs": [],
   "source": [
    "#concatenate the two dfs and encode object colums"
   ]
  },
  {
   "cell_type": "code",
   "execution_count": 16,
   "metadata": {
    "collapsed": false
   },
   "outputs": [
    {
     "data": {
      "text/plain": [
       "(1460, 1459)"
      ]
     },
     "execution_count": 16,
     "metadata": {},
     "output_type": "execute_result"
    }
   ],
   "source": [
    "ntrain = len(train)\n",
    "ntest = len(test)\n",
    "\n",
    "ntrain, ntest"
   ]
  },
  {
   "cell_type": "code",
   "execution_count": 17,
   "metadata": {
    "collapsed": false
   },
   "outputs": [
    {
     "data": {
      "text/html": [
       "<div>\n",
       "<table border=\"1\" class=\"dataframe\">\n",
       "  <thead>\n",
       "    <tr style=\"text-align: right;\">\n",
       "      <th></th>\n",
       "      <th>1stFlrSF</th>\n",
       "      <th>2ndFlrSF</th>\n",
       "      <th>3SsnPorch</th>\n",
       "      <th>BedroomAbvGr</th>\n",
       "      <th>BldgType</th>\n",
       "      <th>BsmtCond</th>\n",
       "      <th>BsmtExposure</th>\n",
       "      <th>BsmtFinSF1</th>\n",
       "      <th>BsmtFinSF2</th>\n",
       "      <th>BsmtFinType1</th>\n",
       "      <th>...</th>\n",
       "      <th>SaleType</th>\n",
       "      <th>ScreenPorch</th>\n",
       "      <th>Street</th>\n",
       "      <th>TotRmsAbvGrd</th>\n",
       "      <th>TotalBsmtSF</th>\n",
       "      <th>Utilities</th>\n",
       "      <th>WoodDeckSF</th>\n",
       "      <th>YearBuilt</th>\n",
       "      <th>YearRemodAdd</th>\n",
       "      <th>YrSold</th>\n",
       "    </tr>\n",
       "  </thead>\n",
       "  <tbody>\n",
       "    <tr>\n",
       "      <th>0</th>\n",
       "      <td>856</td>\n",
       "      <td>854</td>\n",
       "      <td>0</td>\n",
       "      <td>3</td>\n",
       "      <td>1Fam</td>\n",
       "      <td>TA</td>\n",
       "      <td>No</td>\n",
       "      <td>706.0</td>\n",
       "      <td>0.0</td>\n",
       "      <td>GLQ</td>\n",
       "      <td>...</td>\n",
       "      <td>WD</td>\n",
       "      <td>0</td>\n",
       "      <td>Pave</td>\n",
       "      <td>8</td>\n",
       "      <td>856.0</td>\n",
       "      <td>AllPub</td>\n",
       "      <td>0</td>\n",
       "      <td>2003</td>\n",
       "      <td>2003</td>\n",
       "      <td>2008</td>\n",
       "    </tr>\n",
       "    <tr>\n",
       "      <th>1</th>\n",
       "      <td>1262</td>\n",
       "      <td>0</td>\n",
       "      <td>0</td>\n",
       "      <td>3</td>\n",
       "      <td>1Fam</td>\n",
       "      <td>TA</td>\n",
       "      <td>Gd</td>\n",
       "      <td>978.0</td>\n",
       "      <td>0.0</td>\n",
       "      <td>ALQ</td>\n",
       "      <td>...</td>\n",
       "      <td>WD</td>\n",
       "      <td>0</td>\n",
       "      <td>Pave</td>\n",
       "      <td>6</td>\n",
       "      <td>1262.0</td>\n",
       "      <td>AllPub</td>\n",
       "      <td>298</td>\n",
       "      <td>1976</td>\n",
       "      <td>1976</td>\n",
       "      <td>2007</td>\n",
       "    </tr>\n",
       "    <tr>\n",
       "      <th>2</th>\n",
       "      <td>920</td>\n",
       "      <td>866</td>\n",
       "      <td>0</td>\n",
       "      <td>3</td>\n",
       "      <td>1Fam</td>\n",
       "      <td>TA</td>\n",
       "      <td>Mn</td>\n",
       "      <td>486.0</td>\n",
       "      <td>0.0</td>\n",
       "      <td>GLQ</td>\n",
       "      <td>...</td>\n",
       "      <td>WD</td>\n",
       "      <td>0</td>\n",
       "      <td>Pave</td>\n",
       "      <td>6</td>\n",
       "      <td>920.0</td>\n",
       "      <td>AllPub</td>\n",
       "      <td>0</td>\n",
       "      <td>2001</td>\n",
       "      <td>2002</td>\n",
       "      <td>2008</td>\n",
       "    </tr>\n",
       "    <tr>\n",
       "      <th>3</th>\n",
       "      <td>961</td>\n",
       "      <td>756</td>\n",
       "      <td>0</td>\n",
       "      <td>3</td>\n",
       "      <td>1Fam</td>\n",
       "      <td>Gd</td>\n",
       "      <td>No</td>\n",
       "      <td>216.0</td>\n",
       "      <td>0.0</td>\n",
       "      <td>ALQ</td>\n",
       "      <td>...</td>\n",
       "      <td>WD</td>\n",
       "      <td>0</td>\n",
       "      <td>Pave</td>\n",
       "      <td>7</td>\n",
       "      <td>756.0</td>\n",
       "      <td>AllPub</td>\n",
       "      <td>0</td>\n",
       "      <td>1915</td>\n",
       "      <td>1970</td>\n",
       "      <td>2006</td>\n",
       "    </tr>\n",
       "    <tr>\n",
       "      <th>4</th>\n",
       "      <td>1145</td>\n",
       "      <td>1053</td>\n",
       "      <td>0</td>\n",
       "      <td>4</td>\n",
       "      <td>1Fam</td>\n",
       "      <td>TA</td>\n",
       "      <td>Av</td>\n",
       "      <td>655.0</td>\n",
       "      <td>0.0</td>\n",
       "      <td>GLQ</td>\n",
       "      <td>...</td>\n",
       "      <td>WD</td>\n",
       "      <td>0</td>\n",
       "      <td>Pave</td>\n",
       "      <td>9</td>\n",
       "      <td>1145.0</td>\n",
       "      <td>AllPub</td>\n",
       "      <td>192</td>\n",
       "      <td>2000</td>\n",
       "      <td>2000</td>\n",
       "      <td>2008</td>\n",
       "    </tr>\n",
       "  </tbody>\n",
       "</table>\n",
       "<p>5 rows × 76 columns</p>\n",
       "</div>"
      ],
      "text/plain": [
       "   1stFlrSF  2ndFlrSF  3SsnPorch  BedroomAbvGr BldgType BsmtCond BsmtExposure  \\\n",
       "0       856       854          0             3     1Fam       TA           No   \n",
       "1      1262         0          0             3     1Fam       TA           Gd   \n",
       "2       920       866          0             3     1Fam       TA           Mn   \n",
       "3       961       756          0             3     1Fam       Gd           No   \n",
       "4      1145      1053          0             4     1Fam       TA           Av   \n",
       "\n",
       "   BsmtFinSF1  BsmtFinSF2 BsmtFinType1   ...   SaleType  ScreenPorch  Street  \\\n",
       "0       706.0         0.0          GLQ   ...         WD            0    Pave   \n",
       "1       978.0         0.0          ALQ   ...         WD            0    Pave   \n",
       "2       486.0         0.0          GLQ   ...         WD            0    Pave   \n",
       "3       216.0         0.0          ALQ   ...         WD            0    Pave   \n",
       "4       655.0         0.0          GLQ   ...         WD            0    Pave   \n",
       "\n",
       "  TotRmsAbvGrd  TotalBsmtSF Utilities WoodDeckSF YearBuilt YearRemodAdd  \\\n",
       "0            8        856.0    AllPub          0      2003         2003   \n",
       "1            6       1262.0    AllPub        298      1976         1976   \n",
       "2            6        920.0    AllPub          0      2001         2002   \n",
       "3            7        756.0    AllPub          0      1915         1970   \n",
       "4            9       1145.0    AllPub        192      2000         2000   \n",
       "\n",
       "   YrSold  \n",
       "0    2008  \n",
       "1    2007  \n",
       "2    2008  \n",
       "3    2006  \n",
       "4    2008  \n",
       "\n",
       "[5 rows x 76 columns]"
      ]
     },
     "execution_count": 17,
     "metadata": {},
     "output_type": "execute_result"
    }
   ],
   "source": [
    "concat_df = pd.concat([train, test],axis = 0)\n",
    "concat_df.head()"
   ]
  },
  {
   "cell_type": "code",
   "execution_count": 18,
   "metadata": {
    "collapsed": false
   },
   "outputs": [],
   "source": [
    "#encode object cols\n",
    "for feature in concat_df.columns:\n",
    "    if concat_df[feature].dtype == 'object':\n",
    "        concat_df[feature] = pd.Categorical(concat_df[feature]).codes"
   ]
  },
  {
   "cell_type": "code",
   "execution_count": 19,
   "metadata": {
    "collapsed": false
   },
   "outputs": [
    {
     "data": {
      "text/html": [
       "<div>\n",
       "<table border=\"1\" class=\"dataframe\">\n",
       "  <thead>\n",
       "    <tr style=\"text-align: right;\">\n",
       "      <th></th>\n",
       "      <th>1stFlrSF</th>\n",
       "      <th>2ndFlrSF</th>\n",
       "      <th>3SsnPorch</th>\n",
       "      <th>BedroomAbvGr</th>\n",
       "      <th>BldgType</th>\n",
       "      <th>BsmtCond</th>\n",
       "      <th>BsmtExposure</th>\n",
       "      <th>BsmtFinSF1</th>\n",
       "      <th>BsmtFinSF2</th>\n",
       "      <th>BsmtFinType1</th>\n",
       "      <th>...</th>\n",
       "      <th>SaleType</th>\n",
       "      <th>ScreenPorch</th>\n",
       "      <th>Street</th>\n",
       "      <th>TotRmsAbvGrd</th>\n",
       "      <th>TotalBsmtSF</th>\n",
       "      <th>Utilities</th>\n",
       "      <th>WoodDeckSF</th>\n",
       "      <th>YearBuilt</th>\n",
       "      <th>YearRemodAdd</th>\n",
       "      <th>YrSold</th>\n",
       "    </tr>\n",
       "  </thead>\n",
       "  <tbody>\n",
       "    <tr>\n",
       "      <th>0</th>\n",
       "      <td>856</td>\n",
       "      <td>854</td>\n",
       "      <td>0</td>\n",
       "      <td>3</td>\n",
       "      <td>0</td>\n",
       "      <td>3</td>\n",
       "      <td>3</td>\n",
       "      <td>706.0</td>\n",
       "      <td>0.0</td>\n",
       "      <td>2</td>\n",
       "      <td>...</td>\n",
       "      <td>8</td>\n",
       "      <td>0</td>\n",
       "      <td>1</td>\n",
       "      <td>8</td>\n",
       "      <td>856.0</td>\n",
       "      <td>0</td>\n",
       "      <td>0</td>\n",
       "      <td>2003</td>\n",
       "      <td>2003</td>\n",
       "      <td>2008</td>\n",
       "    </tr>\n",
       "    <tr>\n",
       "      <th>1</th>\n",
       "      <td>1262</td>\n",
       "      <td>0</td>\n",
       "      <td>0</td>\n",
       "      <td>3</td>\n",
       "      <td>0</td>\n",
       "      <td>3</td>\n",
       "      <td>1</td>\n",
       "      <td>978.0</td>\n",
       "      <td>0.0</td>\n",
       "      <td>0</td>\n",
       "      <td>...</td>\n",
       "      <td>8</td>\n",
       "      <td>0</td>\n",
       "      <td>1</td>\n",
       "      <td>6</td>\n",
       "      <td>1262.0</td>\n",
       "      <td>0</td>\n",
       "      <td>298</td>\n",
       "      <td>1976</td>\n",
       "      <td>1976</td>\n",
       "      <td>2007</td>\n",
       "    </tr>\n",
       "    <tr>\n",
       "      <th>2</th>\n",
       "      <td>920</td>\n",
       "      <td>866</td>\n",
       "      <td>0</td>\n",
       "      <td>3</td>\n",
       "      <td>0</td>\n",
       "      <td>3</td>\n",
       "      <td>2</td>\n",
       "      <td>486.0</td>\n",
       "      <td>0.0</td>\n",
       "      <td>2</td>\n",
       "      <td>...</td>\n",
       "      <td>8</td>\n",
       "      <td>0</td>\n",
       "      <td>1</td>\n",
       "      <td>6</td>\n",
       "      <td>920.0</td>\n",
       "      <td>0</td>\n",
       "      <td>0</td>\n",
       "      <td>2001</td>\n",
       "      <td>2002</td>\n",
       "      <td>2008</td>\n",
       "    </tr>\n",
       "    <tr>\n",
       "      <th>3</th>\n",
       "      <td>961</td>\n",
       "      <td>756</td>\n",
       "      <td>0</td>\n",
       "      <td>3</td>\n",
       "      <td>0</td>\n",
       "      <td>1</td>\n",
       "      <td>3</td>\n",
       "      <td>216.0</td>\n",
       "      <td>0.0</td>\n",
       "      <td>0</td>\n",
       "      <td>...</td>\n",
       "      <td>8</td>\n",
       "      <td>0</td>\n",
       "      <td>1</td>\n",
       "      <td>7</td>\n",
       "      <td>756.0</td>\n",
       "      <td>0</td>\n",
       "      <td>0</td>\n",
       "      <td>1915</td>\n",
       "      <td>1970</td>\n",
       "      <td>2006</td>\n",
       "    </tr>\n",
       "    <tr>\n",
       "      <th>4</th>\n",
       "      <td>1145</td>\n",
       "      <td>1053</td>\n",
       "      <td>0</td>\n",
       "      <td>4</td>\n",
       "      <td>0</td>\n",
       "      <td>3</td>\n",
       "      <td>0</td>\n",
       "      <td>655.0</td>\n",
       "      <td>0.0</td>\n",
       "      <td>2</td>\n",
       "      <td>...</td>\n",
       "      <td>8</td>\n",
       "      <td>0</td>\n",
       "      <td>1</td>\n",
       "      <td>9</td>\n",
       "      <td>1145.0</td>\n",
       "      <td>0</td>\n",
       "      <td>192</td>\n",
       "      <td>2000</td>\n",
       "      <td>2000</td>\n",
       "      <td>2008</td>\n",
       "    </tr>\n",
       "  </tbody>\n",
       "</table>\n",
       "<p>5 rows × 76 columns</p>\n",
       "</div>"
      ],
      "text/plain": [
       "   1stFlrSF  2ndFlrSF  3SsnPorch  BedroomAbvGr  BldgType  BsmtCond  \\\n",
       "0       856       854          0             3         0         3   \n",
       "1      1262         0          0             3         0         3   \n",
       "2       920       866          0             3         0         3   \n",
       "3       961       756          0             3         0         1   \n",
       "4      1145      1053          0             4         0         3   \n",
       "\n",
       "   BsmtExposure  BsmtFinSF1  BsmtFinSF2  BsmtFinType1   ...    SaleType  \\\n",
       "0             3       706.0         0.0             2   ...           8   \n",
       "1             1       978.0         0.0             0   ...           8   \n",
       "2             2       486.0         0.0             2   ...           8   \n",
       "3             3       216.0         0.0             0   ...           8   \n",
       "4             0       655.0         0.0             2   ...           8   \n",
       "\n",
       "   ScreenPorch  Street  TotRmsAbvGrd  TotalBsmtSF  Utilities  WoodDeckSF  \\\n",
       "0            0       1             8        856.0          0           0   \n",
       "1            0       1             6       1262.0          0         298   \n",
       "2            0       1             6        920.0          0           0   \n",
       "3            0       1             7        756.0          0           0   \n",
       "4            0       1             9       1145.0          0         192   \n",
       "\n",
       "   YearBuilt  YearRemodAdd  YrSold  \n",
       "0       2003          2003    2008  \n",
       "1       1976          1976    2007  \n",
       "2       2001          2002    2008  \n",
       "3       1915          1970    2006  \n",
       "4       2000          2000    2008  \n",
       "\n",
       "[5 rows x 76 columns]"
      ]
     },
     "execution_count": 19,
     "metadata": {},
     "output_type": "execute_result"
    }
   ],
   "source": [
    "concat_df.head()"
   ]
  },
  {
   "cell_type": "code",
   "execution_count": 20,
   "metadata": {
    "collapsed": true
   },
   "outputs": [],
   "source": [
    "#split the concat back to train and test\n",
    "final_train = concat_df[:ntrain]\n",
    "final_test = concat_df[ntrain:]"
   ]
  },
  {
   "cell_type": "code",
   "execution_count": 21,
   "metadata": {
    "collapsed": false
   },
   "outputs": [
    {
     "data": {
      "text/plain": [
       "(1460, 1459)"
      ]
     },
     "execution_count": 21,
     "metadata": {},
     "output_type": "execute_result"
    }
   ],
   "source": [
    "len(final_train), len(final_test)"
   ]
  },
  {
   "cell_type": "code",
   "execution_count": 22,
   "metadata": {
    "collapsed": false
   },
   "outputs": [
    {
     "data": {
      "text/plain": [
       "Index([u'1stFlrSF', u'2ndFlrSF', u'3SsnPorch', u'BedroomAbvGr', u'BldgType',\n",
       "       u'BsmtCond', u'BsmtExposure', u'BsmtFinSF1', u'BsmtFinSF2',\n",
       "       u'BsmtFinType1', u'BsmtFinType2', u'BsmtFullBath', u'BsmtHalfBath',\n",
       "       u'BsmtQual', u'BsmtUnfSF', u'CentralAir', u'Condition1', u'Condition2',\n",
       "       u'Electrical', u'EnclosedPorch', u'ExterCond', u'ExterQual',\n",
       "       u'Exterior1st', u'Exterior2nd', u'Fireplaces', u'Foundation',\n",
       "       u'FullBath', u'Functional', u'GarageArea', u'GarageCars', u'GarageCond',\n",
       "       u'GarageFinish', u'GarageQual', u'GarageType', u'GarageYrBlt',\n",
       "       u'GrLivArea', u'HalfBath', u'Heating', u'HeatingQC', u'HouseStyle',\n",
       "       u'Id', u'KitchenAbvGr', u'KitchenQual', u'LandContour', u'LandSlope',\n",
       "       u'LotArea', u'LotConfig', u'LotFrontage', u'LotShape', u'LowQualFinSF',\n",
       "       u'MSSubClass', u'MSZoning', u'MasVnrArea', u'MasVnrType', u'MiscVal',\n",
       "       u'MoSold', u'Neighborhood', u'OpenPorchSF', u'OverallCond',\n",
       "       u'OverallQual', u'PavedDrive', u'PoolArea', u'RoofMatl', u'RoofStyle',\n",
       "       u'SaleCondition', u'SalePrice', u'SaleType', u'ScreenPorch', u'Street',\n",
       "       u'TotRmsAbvGrd', u'TotalBsmtSF', u'Utilities', u'WoodDeckSF',\n",
       "       u'YearBuilt', u'YearRemodAdd', u'YrSold'],\n",
       "      dtype='object')"
      ]
     },
     "execution_count": 22,
     "metadata": {},
     "output_type": "execute_result"
    }
   ],
   "source": [
    "final_test.columns"
   ]
  },
  {
   "cell_type": "code",
   "execution_count": 23,
   "metadata": {
    "collapsed": false
   },
   "outputs": [
    {
     "data": {
      "text/html": [
       "<div>\n",
       "<table border=\"1\" class=\"dataframe\">\n",
       "  <thead>\n",
       "    <tr style=\"text-align: right;\">\n",
       "      <th></th>\n",
       "      <th>1stFlrSF</th>\n",
       "      <th>2ndFlrSF</th>\n",
       "      <th>3SsnPorch</th>\n",
       "      <th>BedroomAbvGr</th>\n",
       "      <th>BldgType</th>\n",
       "      <th>BsmtCond</th>\n",
       "      <th>BsmtExposure</th>\n",
       "      <th>BsmtFinSF1</th>\n",
       "      <th>BsmtFinSF2</th>\n",
       "      <th>BsmtFinType1</th>\n",
       "      <th>...</th>\n",
       "      <th>SaleType</th>\n",
       "      <th>ScreenPorch</th>\n",
       "      <th>Street</th>\n",
       "      <th>TotRmsAbvGrd</th>\n",
       "      <th>TotalBsmtSF</th>\n",
       "      <th>Utilities</th>\n",
       "      <th>WoodDeckSF</th>\n",
       "      <th>YearBuilt</th>\n",
       "      <th>YearRemodAdd</th>\n",
       "      <th>YrSold</th>\n",
       "    </tr>\n",
       "  </thead>\n",
       "  <tbody>\n",
       "    <tr>\n",
       "      <th>0</th>\n",
       "      <td>896</td>\n",
       "      <td>0</td>\n",
       "      <td>0</td>\n",
       "      <td>2</td>\n",
       "      <td>0</td>\n",
       "      <td>3</td>\n",
       "      <td>3</td>\n",
       "      <td>468.0</td>\n",
       "      <td>144.0</td>\n",
       "      <td>4</td>\n",
       "      <td>...</td>\n",
       "      <td>8</td>\n",
       "      <td>120</td>\n",
       "      <td>1</td>\n",
       "      <td>5</td>\n",
       "      <td>882.0</td>\n",
       "      <td>0</td>\n",
       "      <td>140</td>\n",
       "      <td>1961</td>\n",
       "      <td>1961</td>\n",
       "      <td>2010</td>\n",
       "    </tr>\n",
       "    <tr>\n",
       "      <th>1</th>\n",
       "      <td>1329</td>\n",
       "      <td>0</td>\n",
       "      <td>0</td>\n",
       "      <td>3</td>\n",
       "      <td>0</td>\n",
       "      <td>3</td>\n",
       "      <td>3</td>\n",
       "      <td>923.0</td>\n",
       "      <td>0.0</td>\n",
       "      <td>0</td>\n",
       "      <td>...</td>\n",
       "      <td>8</td>\n",
       "      <td>0</td>\n",
       "      <td>1</td>\n",
       "      <td>6</td>\n",
       "      <td>1329.0</td>\n",
       "      <td>0</td>\n",
       "      <td>393</td>\n",
       "      <td>1958</td>\n",
       "      <td>1958</td>\n",
       "      <td>2010</td>\n",
       "    </tr>\n",
       "    <tr>\n",
       "      <th>2</th>\n",
       "      <td>928</td>\n",
       "      <td>701</td>\n",
       "      <td>0</td>\n",
       "      <td>3</td>\n",
       "      <td>0</td>\n",
       "      <td>3</td>\n",
       "      <td>3</td>\n",
       "      <td>791.0</td>\n",
       "      <td>0.0</td>\n",
       "      <td>2</td>\n",
       "      <td>...</td>\n",
       "      <td>8</td>\n",
       "      <td>0</td>\n",
       "      <td>1</td>\n",
       "      <td>6</td>\n",
       "      <td>928.0</td>\n",
       "      <td>0</td>\n",
       "      <td>212</td>\n",
       "      <td>1997</td>\n",
       "      <td>1998</td>\n",
       "      <td>2010</td>\n",
       "    </tr>\n",
       "    <tr>\n",
       "      <th>3</th>\n",
       "      <td>926</td>\n",
       "      <td>678</td>\n",
       "      <td>0</td>\n",
       "      <td>3</td>\n",
       "      <td>0</td>\n",
       "      <td>3</td>\n",
       "      <td>3</td>\n",
       "      <td>602.0</td>\n",
       "      <td>0.0</td>\n",
       "      <td>2</td>\n",
       "      <td>...</td>\n",
       "      <td>8</td>\n",
       "      <td>0</td>\n",
       "      <td>1</td>\n",
       "      <td>7</td>\n",
       "      <td>926.0</td>\n",
       "      <td>0</td>\n",
       "      <td>360</td>\n",
       "      <td>1998</td>\n",
       "      <td>1998</td>\n",
       "      <td>2010</td>\n",
       "    </tr>\n",
       "    <tr>\n",
       "      <th>4</th>\n",
       "      <td>1280</td>\n",
       "      <td>0</td>\n",
       "      <td>0</td>\n",
       "      <td>2</td>\n",
       "      <td>4</td>\n",
       "      <td>3</td>\n",
       "      <td>3</td>\n",
       "      <td>263.0</td>\n",
       "      <td>0.0</td>\n",
       "      <td>0</td>\n",
       "      <td>...</td>\n",
       "      <td>8</td>\n",
       "      <td>144</td>\n",
       "      <td>1</td>\n",
       "      <td>5</td>\n",
       "      <td>1280.0</td>\n",
       "      <td>0</td>\n",
       "      <td>0</td>\n",
       "      <td>1992</td>\n",
       "      <td>1992</td>\n",
       "      <td>2010</td>\n",
       "    </tr>\n",
       "  </tbody>\n",
       "</table>\n",
       "<p>5 rows × 76 columns</p>\n",
       "</div>"
      ],
      "text/plain": [
       "   1stFlrSF  2ndFlrSF  3SsnPorch  BedroomAbvGr  BldgType  BsmtCond  \\\n",
       "0       896         0          0             2         0         3   \n",
       "1      1329         0          0             3         0         3   \n",
       "2       928       701          0             3         0         3   \n",
       "3       926       678          0             3         0         3   \n",
       "4      1280         0          0             2         4         3   \n",
       "\n",
       "   BsmtExposure  BsmtFinSF1  BsmtFinSF2  BsmtFinType1   ...    SaleType  \\\n",
       "0             3       468.0       144.0             4   ...           8   \n",
       "1             3       923.0         0.0             0   ...           8   \n",
       "2             3       791.0         0.0             2   ...           8   \n",
       "3             3       602.0         0.0             2   ...           8   \n",
       "4             3       263.0         0.0             0   ...           8   \n",
       "\n",
       "   ScreenPorch  Street  TotRmsAbvGrd  TotalBsmtSF  Utilities  WoodDeckSF  \\\n",
       "0          120       1             5        882.0          0         140   \n",
       "1            0       1             6       1329.0          0         393   \n",
       "2            0       1             6        928.0          0         212   \n",
       "3            0       1             7        926.0          0         360   \n",
       "4          144       1             5       1280.0          0           0   \n",
       "\n",
       "   YearBuilt  YearRemodAdd  YrSold  \n",
       "0       1961          1961    2010  \n",
       "1       1958          1958    2010  \n",
       "2       1997          1998    2010  \n",
       "3       1998          1998    2010  \n",
       "4       1992          1992    2010  \n",
       "\n",
       "[5 rows x 76 columns]"
      ]
     },
     "execution_count": 23,
     "metadata": {},
     "output_type": "execute_result"
    }
   ],
   "source": [
    "final_test.head()"
   ]
  },
  {
   "cell_type": "code",
   "execution_count": 24,
   "metadata": {
    "collapsed": false
   },
   "outputs": [
    {
     "data": {
      "text/html": [
       "<div>\n",
       "<table border=\"1\" class=\"dataframe\">\n",
       "  <thead>\n",
       "    <tr style=\"text-align: right;\">\n",
       "      <th></th>\n",
       "      <th>1stFlrSF</th>\n",
       "      <th>2ndFlrSF</th>\n",
       "      <th>3SsnPorch</th>\n",
       "      <th>BedroomAbvGr</th>\n",
       "      <th>BldgType</th>\n",
       "      <th>BsmtCond</th>\n",
       "      <th>BsmtExposure</th>\n",
       "      <th>BsmtFinSF1</th>\n",
       "      <th>BsmtFinSF2</th>\n",
       "      <th>BsmtFinType1</th>\n",
       "      <th>...</th>\n",
       "      <th>SaleType</th>\n",
       "      <th>ScreenPorch</th>\n",
       "      <th>Street</th>\n",
       "      <th>TotRmsAbvGrd</th>\n",
       "      <th>TotalBsmtSF</th>\n",
       "      <th>Utilities</th>\n",
       "      <th>WoodDeckSF</th>\n",
       "      <th>YearBuilt</th>\n",
       "      <th>YearRemodAdd</th>\n",
       "      <th>YrSold</th>\n",
       "    </tr>\n",
       "  </thead>\n",
       "  <tbody>\n",
       "    <tr>\n",
       "      <th>0</th>\n",
       "      <td>856</td>\n",
       "      <td>854</td>\n",
       "      <td>0</td>\n",
       "      <td>3</td>\n",
       "      <td>0</td>\n",
       "      <td>3</td>\n",
       "      <td>3</td>\n",
       "      <td>706.0</td>\n",
       "      <td>0.0</td>\n",
       "      <td>2</td>\n",
       "      <td>...</td>\n",
       "      <td>8</td>\n",
       "      <td>0</td>\n",
       "      <td>1</td>\n",
       "      <td>8</td>\n",
       "      <td>856.0</td>\n",
       "      <td>0</td>\n",
       "      <td>0</td>\n",
       "      <td>2003</td>\n",
       "      <td>2003</td>\n",
       "      <td>2008</td>\n",
       "    </tr>\n",
       "    <tr>\n",
       "      <th>1</th>\n",
       "      <td>1262</td>\n",
       "      <td>0</td>\n",
       "      <td>0</td>\n",
       "      <td>3</td>\n",
       "      <td>0</td>\n",
       "      <td>3</td>\n",
       "      <td>1</td>\n",
       "      <td>978.0</td>\n",
       "      <td>0.0</td>\n",
       "      <td>0</td>\n",
       "      <td>...</td>\n",
       "      <td>8</td>\n",
       "      <td>0</td>\n",
       "      <td>1</td>\n",
       "      <td>6</td>\n",
       "      <td>1262.0</td>\n",
       "      <td>0</td>\n",
       "      <td>298</td>\n",
       "      <td>1976</td>\n",
       "      <td>1976</td>\n",
       "      <td>2007</td>\n",
       "    </tr>\n",
       "    <tr>\n",
       "      <th>2</th>\n",
       "      <td>920</td>\n",
       "      <td>866</td>\n",
       "      <td>0</td>\n",
       "      <td>3</td>\n",
       "      <td>0</td>\n",
       "      <td>3</td>\n",
       "      <td>2</td>\n",
       "      <td>486.0</td>\n",
       "      <td>0.0</td>\n",
       "      <td>2</td>\n",
       "      <td>...</td>\n",
       "      <td>8</td>\n",
       "      <td>0</td>\n",
       "      <td>1</td>\n",
       "      <td>6</td>\n",
       "      <td>920.0</td>\n",
       "      <td>0</td>\n",
       "      <td>0</td>\n",
       "      <td>2001</td>\n",
       "      <td>2002</td>\n",
       "      <td>2008</td>\n",
       "    </tr>\n",
       "    <tr>\n",
       "      <th>3</th>\n",
       "      <td>961</td>\n",
       "      <td>756</td>\n",
       "      <td>0</td>\n",
       "      <td>3</td>\n",
       "      <td>0</td>\n",
       "      <td>1</td>\n",
       "      <td>3</td>\n",
       "      <td>216.0</td>\n",
       "      <td>0.0</td>\n",
       "      <td>0</td>\n",
       "      <td>...</td>\n",
       "      <td>8</td>\n",
       "      <td>0</td>\n",
       "      <td>1</td>\n",
       "      <td>7</td>\n",
       "      <td>756.0</td>\n",
       "      <td>0</td>\n",
       "      <td>0</td>\n",
       "      <td>1915</td>\n",
       "      <td>1970</td>\n",
       "      <td>2006</td>\n",
       "    </tr>\n",
       "    <tr>\n",
       "      <th>4</th>\n",
       "      <td>1145</td>\n",
       "      <td>1053</td>\n",
       "      <td>0</td>\n",
       "      <td>4</td>\n",
       "      <td>0</td>\n",
       "      <td>3</td>\n",
       "      <td>0</td>\n",
       "      <td>655.0</td>\n",
       "      <td>0.0</td>\n",
       "      <td>2</td>\n",
       "      <td>...</td>\n",
       "      <td>8</td>\n",
       "      <td>0</td>\n",
       "      <td>1</td>\n",
       "      <td>9</td>\n",
       "      <td>1145.0</td>\n",
       "      <td>0</td>\n",
       "      <td>192</td>\n",
       "      <td>2000</td>\n",
       "      <td>2000</td>\n",
       "      <td>2008</td>\n",
       "    </tr>\n",
       "  </tbody>\n",
       "</table>\n",
       "<p>5 rows × 76 columns</p>\n",
       "</div>"
      ],
      "text/plain": [
       "   1stFlrSF  2ndFlrSF  3SsnPorch  BedroomAbvGr  BldgType  BsmtCond  \\\n",
       "0       856       854          0             3         0         3   \n",
       "1      1262         0          0             3         0         3   \n",
       "2       920       866          0             3         0         3   \n",
       "3       961       756          0             3         0         1   \n",
       "4      1145      1053          0             4         0         3   \n",
       "\n",
       "   BsmtExposure  BsmtFinSF1  BsmtFinSF2  BsmtFinType1   ...    SaleType  \\\n",
       "0             3       706.0         0.0             2   ...           8   \n",
       "1             1       978.0         0.0             0   ...           8   \n",
       "2             2       486.0         0.0             2   ...           8   \n",
       "3             3       216.0         0.0             0   ...           8   \n",
       "4             0       655.0         0.0             2   ...           8   \n",
       "\n",
       "   ScreenPorch  Street  TotRmsAbvGrd  TotalBsmtSF  Utilities  WoodDeckSF  \\\n",
       "0            0       1             8        856.0          0           0   \n",
       "1            0       1             6       1262.0          0         298   \n",
       "2            0       1             6        920.0          0           0   \n",
       "3            0       1             7        756.0          0           0   \n",
       "4            0       1             9       1145.0          0         192   \n",
       "\n",
       "   YearBuilt  YearRemodAdd  YrSold  \n",
       "0       2003          2003    2008  \n",
       "1       1976          1976    2007  \n",
       "2       2001          2002    2008  \n",
       "3       1915          1970    2006  \n",
       "4       2000          2000    2008  \n",
       "\n",
       "[5 rows x 76 columns]"
      ]
     },
     "execution_count": 24,
     "metadata": {},
     "output_type": "execute_result"
    }
   ],
   "source": [
    "final_train.head()"
   ]
  },
  {
   "cell_type": "code",
   "execution_count": 25,
   "metadata": {
    "collapsed": false
   },
   "outputs": [
    {
     "data": {
      "text/html": [
       "<div>\n",
       "<table border=\"1\" class=\"dataframe\">\n",
       "  <thead>\n",
       "    <tr style=\"text-align: right;\">\n",
       "      <th></th>\n",
       "      <th>SalePrice</th>\n",
       "    </tr>\n",
       "  </thead>\n",
       "  <tbody>\n",
       "    <tr>\n",
       "      <th>0</th>\n",
       "      <td>NaN</td>\n",
       "    </tr>\n",
       "    <tr>\n",
       "      <th>1</th>\n",
       "      <td>NaN</td>\n",
       "    </tr>\n",
       "    <tr>\n",
       "      <th>2</th>\n",
       "      <td>NaN</td>\n",
       "    </tr>\n",
       "    <tr>\n",
       "      <th>3</th>\n",
       "      <td>NaN</td>\n",
       "    </tr>\n",
       "    <tr>\n",
       "      <th>4</th>\n",
       "      <td>NaN</td>\n",
       "    </tr>\n",
       "  </tbody>\n",
       "</table>\n",
       "</div>"
      ],
      "text/plain": [
       "   SalePrice\n",
       "0        NaN\n",
       "1        NaN\n",
       "2        NaN\n",
       "3        NaN\n",
       "4        NaN"
      ]
     },
     "execution_count": 25,
     "metadata": {},
     "output_type": "execute_result"
    }
   ],
   "source": [
    "final_test[['SalePrice']].head()"
   ]
  },
  {
   "cell_type": "code",
   "execution_count": 26,
   "metadata": {
    "collapsed": false
   },
   "outputs": [],
   "source": [
    "features = final_train.columns[:]"
   ]
  },
  {
   "cell_type": "code",
   "execution_count": 27,
   "metadata": {
    "collapsed": false
   },
   "outputs": [
    {
     "data": {
      "text/plain": [
       "pandas.indexes.base.Index"
      ]
     },
     "execution_count": 27,
     "metadata": {},
     "output_type": "execute_result"
    }
   ],
   "source": [
    "type(features)"
   ]
  },
  {
   "cell_type": "code",
   "execution_count": 28,
   "metadata": {
    "collapsed": false
   },
   "outputs": [
    {
     "data": {
      "text/plain": [
       "pandas.indexes.base.Index"
      ]
     },
     "execution_count": 28,
     "metadata": {},
     "output_type": "execute_result"
    }
   ],
   "source": [
    "type(concat_df.columns)"
   ]
  },
  {
   "cell_type": "code",
   "execution_count": 29,
   "metadata": {
    "collapsed": false
   },
   "outputs": [],
   "source": [
    "features = list(concat_df.columns.values)"
   ]
  },
  {
   "cell_type": "code",
   "execution_count": 30,
   "metadata": {
    "collapsed": false,
    "scrolled": true
   },
   "outputs": [
    {
     "data": {
      "text/plain": [
       "list"
      ]
     },
     "execution_count": 30,
     "metadata": {},
     "output_type": "execute_result"
    }
   ],
   "source": [
    "type(features)"
   ]
  },
  {
   "cell_type": "code",
   "execution_count": 31,
   "metadata": {
    "collapsed": false
   },
   "outputs": [
    {
     "data": {
      "text/plain": [
       "['1stFlrSF',\n",
       " '2ndFlrSF',\n",
       " '3SsnPorch',\n",
       " 'BedroomAbvGr',\n",
       " 'BldgType',\n",
       " 'BsmtCond',\n",
       " 'BsmtExposure',\n",
       " 'BsmtFinSF1',\n",
       " 'BsmtFinSF2',\n",
       " 'BsmtFinType1',\n",
       " 'BsmtFinType2',\n",
       " 'BsmtFullBath',\n",
       " 'BsmtHalfBath',\n",
       " 'BsmtQual',\n",
       " 'BsmtUnfSF',\n",
       " 'CentralAir',\n",
       " 'Condition1',\n",
       " 'Condition2',\n",
       " 'Electrical',\n",
       " 'EnclosedPorch',\n",
       " 'ExterCond',\n",
       " 'ExterQual',\n",
       " 'Exterior1st',\n",
       " 'Exterior2nd',\n",
       " 'Fireplaces',\n",
       " 'Foundation',\n",
       " 'FullBath',\n",
       " 'Functional',\n",
       " 'GarageArea',\n",
       " 'GarageCars',\n",
       " 'GarageCond',\n",
       " 'GarageFinish',\n",
       " 'GarageQual',\n",
       " 'GarageType',\n",
       " 'GarageYrBlt',\n",
       " 'GrLivArea',\n",
       " 'HalfBath',\n",
       " 'Heating',\n",
       " 'HeatingQC',\n",
       " 'HouseStyle',\n",
       " 'Id',\n",
       " 'KitchenAbvGr',\n",
       " 'KitchenQual',\n",
       " 'LandContour',\n",
       " 'LandSlope',\n",
       " 'LotArea',\n",
       " 'LotConfig',\n",
       " 'LotFrontage',\n",
       " 'LotShape',\n",
       " 'LowQualFinSF',\n",
       " 'MSSubClass',\n",
       " 'MSZoning',\n",
       " 'MasVnrArea',\n",
       " 'MasVnrType',\n",
       " 'MiscVal',\n",
       " 'MoSold',\n",
       " 'Neighborhood',\n",
       " 'OpenPorchSF',\n",
       " 'OverallCond',\n",
       " 'OverallQual',\n",
       " 'PavedDrive',\n",
       " 'PoolArea',\n",
       " 'RoofMatl',\n",
       " 'RoofStyle',\n",
       " 'SaleCondition',\n",
       " 'SalePrice',\n",
       " 'SaleType',\n",
       " 'ScreenPorch',\n",
       " 'Street',\n",
       " 'TotRmsAbvGrd',\n",
       " 'TotalBsmtSF',\n",
       " 'Utilities',\n",
       " 'WoodDeckSF',\n",
       " 'YearBuilt',\n",
       " 'YearRemodAdd',\n",
       " 'YrSold']"
      ]
     },
     "execution_count": 31,
     "metadata": {},
     "output_type": "execute_result"
    }
   ],
   "source": [
    "features"
   ]
  },
  {
   "cell_type": "code",
   "execution_count": 32,
   "metadata": {
    "collapsed": false
   },
   "outputs": [],
   "source": [
    "features.remove('SalePrice')"
   ]
  },
  {
   "cell_type": "code",
   "execution_count": 33,
   "metadata": {
    "collapsed": true
   },
   "outputs": [
    {
     "data": {
      "text/plain": [
       "['1stFlrSF',\n",
       " '2ndFlrSF',\n",
       " '3SsnPorch',\n",
       " 'BedroomAbvGr',\n",
       " 'BldgType',\n",
       " 'BsmtCond',\n",
       " 'BsmtExposure',\n",
       " 'BsmtFinSF1',\n",
       " 'BsmtFinSF2',\n",
       " 'BsmtFinType1',\n",
       " 'BsmtFinType2',\n",
       " 'BsmtFullBath',\n",
       " 'BsmtHalfBath',\n",
       " 'BsmtQual',\n",
       " 'BsmtUnfSF',\n",
       " 'CentralAir',\n",
       " 'Condition1',\n",
       " 'Condition2',\n",
       " 'Electrical',\n",
       " 'EnclosedPorch',\n",
       " 'ExterCond',\n",
       " 'ExterQual',\n",
       " 'Exterior1st',\n",
       " 'Exterior2nd',\n",
       " 'Fireplaces',\n",
       " 'Foundation',\n",
       " 'FullBath',\n",
       " 'Functional',\n",
       " 'GarageArea',\n",
       " 'GarageCars',\n",
       " 'GarageCond',\n",
       " 'GarageFinish',\n",
       " 'GarageQual',\n",
       " 'GarageType',\n",
       " 'GarageYrBlt',\n",
       " 'GrLivArea',\n",
       " 'HalfBath',\n",
       " 'Heating',\n",
       " 'HeatingQC',\n",
       " 'HouseStyle',\n",
       " 'Id',\n",
       " 'KitchenAbvGr',\n",
       " 'KitchenQual',\n",
       " 'LandContour',\n",
       " 'LandSlope',\n",
       " 'LotArea',\n",
       " 'LotConfig',\n",
       " 'LotFrontage',\n",
       " 'LotShape',\n",
       " 'LowQualFinSF',\n",
       " 'MSSubClass',\n",
       " 'MSZoning',\n",
       " 'MasVnrArea',\n",
       " 'MasVnrType',\n",
       " 'MiscVal',\n",
       " 'MoSold',\n",
       " 'Neighborhood',\n",
       " 'OpenPorchSF',\n",
       " 'OverallCond',\n",
       " 'OverallQual',\n",
       " 'PavedDrive',\n",
       " 'PoolArea',\n",
       " 'RoofMatl',\n",
       " 'RoofStyle',\n",
       " 'SaleCondition',\n",
       " 'SaleType',\n",
       " 'ScreenPorch',\n",
       " 'Street',\n",
       " 'TotRmsAbvGrd',\n",
       " 'TotalBsmtSF',\n",
       " 'Utilities',\n",
       " 'WoodDeckSF',\n",
       " 'YearBuilt',\n",
       " 'YearRemodAdd',\n",
       " 'YrSold']"
      ]
     },
     "execution_count": 33,
     "metadata": {},
     "output_type": "execute_result"
    }
   ],
   "source": [
    "features"
   ]
  },
  {
   "cell_type": "code",
   "execution_count": 34,
   "metadata": {
    "collapsed": true
   },
   "outputs": [],
   "source": [
    "y_train = final_train['SalePrice']"
   ]
  },
  {
   "cell_type": "code",
   "execution_count": 35,
   "metadata": {
    "collapsed": true
   },
   "outputs": [],
   "source": [
    "#code of 14 Dec 2016"
   ]
  },
  {
   "cell_type": "code",
   "execution_count": 36,
   "metadata": {
    "collapsed": true
   },
   "outputs": [],
   "source": [
    "#native XGB API"
   ]
  },
  {
   "cell_type": "code",
   "execution_count": 38,
   "metadata": {
    "collapsed": false
   },
   "outputs": [],
   "source": [
    "import xgboost as xgb"
   ]
  },
  {
   "cell_type": "code",
   "execution_count": 39,
   "metadata": {
    "collapsed": true
   },
   "outputs": [],
   "source": [
    "#need the data as a DMatrix for XGB\n",
    "dtrain = xgb.DMatrix(final_train[features], y_train)"
   ]
  },
  {
   "cell_type": "code",
   "execution_count": 40,
   "metadata": {
    "collapsed": false
   },
   "outputs": [
    {
     "data": {
      "text/plain": [
       "array([ 208500.,  181500.,  223500., ...,  266500.,  142125.,  147500.], dtype=float32)"
      ]
     },
     "execution_count": 40,
     "metadata": {},
     "output_type": "execute_result"
    }
   ],
   "source": [
    "dtrain.get_label()"
   ]
  },
  {
   "cell_type": "code",
   "execution_count": 42,
   "metadata": {
    "collapsed": true
   },
   "outputs": [
    {
     "data": {
      "text/plain": [
       "[u'1stFlrSF',\n",
       " u'2ndFlrSF',\n",
       " u'3SsnPorch',\n",
       " u'BedroomAbvGr',\n",
       " u'BldgType',\n",
       " u'BsmtCond',\n",
       " u'BsmtExposure',\n",
       " u'BsmtFinSF1',\n",
       " u'BsmtFinSF2',\n",
       " u'BsmtFinType1',\n",
       " u'BsmtFinType2',\n",
       " u'BsmtFullBath',\n",
       " u'BsmtHalfBath',\n",
       " u'BsmtQual',\n",
       " u'BsmtUnfSF',\n",
       " u'CentralAir',\n",
       " u'Condition1',\n",
       " u'Condition2',\n",
       " u'Electrical',\n",
       " u'EnclosedPorch',\n",
       " u'ExterCond',\n",
       " u'ExterQual',\n",
       " u'Exterior1st',\n",
       " u'Exterior2nd',\n",
       " u'Fireplaces',\n",
       " u'Foundation',\n",
       " u'FullBath',\n",
       " u'Functional',\n",
       " u'GarageArea',\n",
       " u'GarageCars',\n",
       " u'GarageCond',\n",
       " u'GarageFinish',\n",
       " u'GarageQual',\n",
       " u'GarageType',\n",
       " u'GarageYrBlt',\n",
       " u'GrLivArea',\n",
       " u'HalfBath',\n",
       " u'Heating',\n",
       " u'HeatingQC',\n",
       " u'HouseStyle',\n",
       " u'Id',\n",
       " u'KitchenAbvGr',\n",
       " u'KitchenQual',\n",
       " u'LandContour',\n",
       " u'LandSlope',\n",
       " u'LotArea',\n",
       " u'LotConfig',\n",
       " u'LotFrontage',\n",
       " u'LotShape',\n",
       " u'LowQualFinSF',\n",
       " u'MSSubClass',\n",
       " u'MSZoning',\n",
       " u'MasVnrArea',\n",
       " u'MasVnrType',\n",
       " u'MiscVal',\n",
       " u'MoSold',\n",
       " u'Neighborhood',\n",
       " u'OpenPorchSF',\n",
       " u'OverallCond',\n",
       " u'OverallQual',\n",
       " u'PavedDrive',\n",
       " u'PoolArea',\n",
       " u'RoofMatl',\n",
       " u'RoofStyle',\n",
       " u'SaleCondition',\n",
       " u'SaleType',\n",
       " u'ScreenPorch',\n",
       " u'Street',\n",
       " u'TotRmsAbvGrd',\n",
       " u'TotalBsmtSF',\n",
       " u'Utilities',\n",
       " u'WoodDeckSF',\n",
       " u'YearBuilt',\n",
       " u'YearRemodAdd',\n",
       " u'YrSold']"
      ]
     },
     "execution_count": 42,
     "metadata": {},
     "output_type": "execute_result"
    }
   ],
   "source": [
    "dtrain.feature_names"
   ]
  },
  {
   "cell_type": "code",
   "execution_count": 43,
   "metadata": {
    "collapsed": true
   },
   "outputs": [],
   "source": [
    "dtest = xgb.DMatrix(final_test[features])"
   ]
  },
  {
   "cell_type": "code",
   "execution_count": 44,
   "metadata": {
    "collapsed": true
   },
   "outputs": [],
   "source": [
    "#create the parameter dict:\n",
    "param = {\n",
    "    'objective':'reg:linear',\n",
    "    'max_depth':'2',\n",
    "    'silent':'1',\n",
    "    'eta':'1'\n",
    "}\n",
    "\n",
    "num_rounds = 5"
   ]
  },
  {
   "cell_type": "code",
   "execution_count": 50,
   "metadata": {
    "collapsed": true
   },
   "outputs": [],
   "source": [
    "watchlist = [(dtest,'test'),(dtrain,'train')]"
   ]
  },
  {
   "cell_type": "code",
   "execution_count": 48,
   "metadata": {
    "collapsed": false
   },
   "outputs": [
    {
     "ename": "SyntaxError",
     "evalue": "non-keyword arg after keyword arg (<ipython-input-48-7c34374947e5>, line 5)",
     "output_type": "error",
     "traceback": [
      "\u001b[0;36m  File \u001b[0;32m\"<ipython-input-48-7c34374947e5>\"\u001b[0;36m, line \u001b[0;32m5\u001b[0m\n\u001b[0;31m    watchlist\u001b[0m\n\u001b[0;31mSyntaxError\u001b[0m\u001b[0;31m:\u001b[0m non-keyword arg after keyword arg\n"
     ]
    }
   ],
   "source": [
    "#train the model\n",
    "xgb_native_model = xgb.train(dtrain=dtrain,\n",
    "                             params=param,\n",
    "                             num_boost_round=num_rounds,\n",
    "                             watchlist\n",
    "                            )"
   ]
  },
  {
   "cell_type": "code",
   "execution_count": 52,
   "metadata": {
    "collapsed": false
   },
   "outputs": [],
   "source": [
    "xgb_native_model = xgb.train(param, dtrain, num_rounds)"
   ]
  },
  {
   "cell_type": "code",
   "execution_count": 53,
   "metadata": {
    "collapsed": true
   },
   "outputs": [],
   "source": [
    "pred_native_model = xgb_native_model.predict(dtest)"
   ]
  },
  {
   "cell_type": "code",
   "execution_count": 54,
   "metadata": {
    "collapsed": false
   },
   "outputs": [
    {
     "data": {
      "text/plain": [
       "array([ 132951.578125,  185902.90625 ,  176377.09375 , ...,  165818.328125,\n",
       "        109140.734375,  229615.265625], dtype=float32)"
      ]
     },
     "execution_count": 54,
     "metadata": {},
     "output_type": "execute_result"
    }
   ],
   "source": [
    "pred_native_model"
   ]
  },
  {
   "cell_type": "code",
   "execution_count": 55,
   "metadata": {
    "collapsed": false
   },
   "outputs": [
    {
     "data": {
      "text/plain": [
       "[<matplotlib.lines.Line2D at 0x7fc699618590>]"
      ]
     },
     "execution_count": 55,
     "metadata": {},
     "output_type": "execute_result"
    },
    {
     "data": {
      "image/png": "[encoded data removed]",
      "text/plain": [
       "<matplotlib.figure.Figure at 0x7fc69961b990>"
      ]
     },
     "metadata": {},
     "output_type": "display_data"
    }
   ],
   "source": [
    "plt.plot(pred_native_model)"
   ]
  },
  {
   "cell_type": "code",
   "execution_count": 56,
   "metadata": {
    "collapsed": true
   },
   "outputs": [],
   "source": [
    "#using the Sklearn wrapper for XGB"
   ]
  },
  {
   "cell_type": "code",
   "execution_count": 57,
   "metadata": {
    "collapsed": true
   },
   "outputs": [],
   "source": [
    "from xgboost.sklearn import XGBRegressor"
   ]
  },
  {
   "cell_type": "code",
   "execution_count": 64,
   "metadata": {
    "collapsed": true
   },
   "outputs": [],
   "source": [
    "param_sklearn = {\n",
    "    'objective':'reg:linear',\n",
    "    'max_depth':2,\n",
    "    'silent':1,\n",
    "    'learning_rate':1.0,\n",
    "    'n_estimators':5\n",
    "}"
   ]
  },
  {
   "cell_type": "code",
   "execution_count": 65,
   "metadata": {
    "collapsed": true
   },
   "outputs": [],
   "source": [
    "sklearn_XGB_model = XGBRegressor(**param_sklearn)"
   ]
  },
  {
   "cell_type": "code",
   "execution_count": 66,
   "metadata": {
    "collapsed": false
   },
   "outputs": [
    {
     "data": {
      "text/plain": [
       "{'base_score': 0.5,\n",
       " 'colsample_bylevel': 1,\n",
       " 'colsample_bytree': 1,\n",
       " 'gamma': 0,\n",
       " 'learning_rate': 1.0,\n",
       " 'max_delta_step': 0,\n",
       " 'max_depth': 2,\n",
       " 'min_child_weight': 1,\n",
       " 'missing': None,\n",
       " 'n_estimators': 5,\n",
       " 'nthread': -1,\n",
       " 'objective': 'reg:linear',\n",
       " 'reg_alpha': 0,\n",
       " 'reg_lambda': 1,\n",
       " 'scale_pos_weight': 1,\n",
       " 'seed': 0,\n",
       " 'silent': 1,\n",
       " 'subsample': 1}"
      ]
     },
     "execution_count": 66,
     "metadata": {},
     "output_type": "execute_result"
    }
   ],
   "source": [
    "sklearn_XGB_model.get_params()"
   ]
  },
  {
   "cell_type": "code",
   "execution_count": 67,
   "metadata": {
    "collapsed": false
   },
   "outputs": [
    {
     "data": {
      "text/plain": [
       "XGBRegressor(base_score=0.5, colsample_bylevel=1, colsample_bytree=1, gamma=0,\n",
       "       learning_rate=1.0, max_delta_step=0, max_depth=2,\n",
       "       min_child_weight=1, missing=None, n_estimators=5, nthread=-1,\n",
       "       objective='reg:linear', reg_alpha=0, reg_lambda=1,\n",
       "       scale_pos_weight=1, seed=0, silent=1, subsample=1)"
      ]
     },
     "execution_count": 67,
     "metadata": {},
     "output_type": "execute_result"
    }
   ],
   "source": [
    "sklearn_XGB_model.fit(final_train[features], y_train)"
   ]
  },
  {
   "cell_type": "code",
   "execution_count": 107,
   "metadata": {
    "collapsed": true
   },
   "outputs": [],
   "source": [
    "#please note that the fit function of sklearn xgb does not take the DMatrix (dtrain) as input,\n",
    "#it rather takes the values as is, i.e., final_train[features], y_train"
   ]
  },
  {
   "cell_type": "code",
   "execution_count": 71,
   "metadata": {
    "collapsed": false
   },
   "outputs": [
    {
     "data": {
      "text/plain": [
       "array([ 132951.578125,  185902.90625 ,  176377.09375 , ...,  165818.328125,\n",
       "        109140.734375,  229615.265625], dtype=float32)"
      ]
     },
     "execution_count": 71,
     "metadata": {},
     "output_type": "execute_result"
    }
   ],
   "source": [
    "sklearn_XGB_model.predict(final_test[features])"
   ]
  },
  {
   "cell_type": "code",
   "execution_count": 72,
   "metadata": {
    "collapsed": true
   },
   "outputs": [],
   "source": [
    "#lets create a train and test in final train itself, so that we can evaluate the imporvement in models\n",
    "#because of tuning"
   ]
  },
  {
   "cell_type": "code",
   "execution_count": 74,
   "metadata": {
    "collapsed": true
   },
   "outputs": [],
   "source": [
    "final_train_copy = final_train.copy()"
   ]
  },
  {
   "cell_type": "code",
   "execution_count": 75,
   "metadata": {
    "collapsed": false
   },
   "outputs": [],
   "source": [
    "train = final_train.sample(frac=0.9,random_state=100)\n",
    "test = final_train.drop(train.index)"
   ]
  },
  {
   "cell_type": "code",
   "execution_count": 76,
   "metadata": {
    "collapsed": false
   },
   "outputs": [
    {
     "data": {
      "text/plain": [
       "(1314, 146)"
      ]
     },
     "execution_count": 76,
     "metadata": {},
     "output_type": "execute_result"
    }
   ],
   "source": [
    "len(train), len(test)"
   ]
  },
  {
   "cell_type": "code",
   "execution_count": 77,
   "metadata": {
    "collapsed": true
   },
   "outputs": [],
   "source": [
    "#create new dtrain and dtest\n",
    "dtrain = xgb.DMatrix(train[features], train['SalePrice'])\n",
    "dtest  = xgb.DMatrix(test[features], test['SalePrice'])"
   ]
  },
  {
   "cell_type": "code",
   "execution_count": 80,
   "metadata": {
    "collapsed": false
   },
   "outputs": [
    {
     "data": {
      "text/plain": [
       "array([ 120500.,  196500.,  176000., ...,  118500.,   96500.,  124500.], dtype=float32)"
      ]
     },
     "execution_count": 80,
     "metadata": {},
     "output_type": "execute_result"
    }
   ],
   "source": [
    "dtrain.get_label()"
   ]
  },
  {
   "cell_type": "code",
   "execution_count": 82,
   "metadata": {
    "collapsed": false
   },
   "outputs": [],
   "source": [
    "watchlist = [(dtest, 'test'),(dtrain, 'train')]"
   ]
  },
  {
   "cell_type": "code",
   "execution_count": 87,
   "metadata": {
    "collapsed": false
   },
   "outputs": [],
   "source": [
    "params = {'eta': 1, \n",
    "         'max_depth': 2, \n",
    "         'objective': 'reg:linear', \n",
    "         'silent': 1}"
   ]
  },
  {
   "cell_type": "code",
   "execution_count": 89,
   "metadata": {
    "collapsed": false
   },
   "outputs": [
    {
     "data": {
      "text/plain": [
       "5"
      ]
     },
     "execution_count": 89,
     "metadata": {},
     "output_type": "execute_result"
    }
   ],
   "source": [
    "num_rounds"
   ]
  },
  {
   "cell_type": "code",
   "execution_count": 90,
   "metadata": {
    "collapsed": false,
    "scrolled": true
   },
   "outputs": [
    {
     "name": "stdout",
     "output_type": "stream",
     "text": [
      "[0]\ttest-rmse:47202.1\ttrain-rmse:48174.4\n",
      "[1]\ttest-rmse:45552.4\ttrain-rmse:40849.9\n",
      "[2]\ttest-rmse:44567.6\ttrain-rmse:38042.2\n",
      "[3]\ttest-rmse:42529.8\ttrain-rmse:35642.5\n",
      "[4]\ttest-rmse:40906.8\ttrain-rmse:33581.3\n"
     ]
    }
   ],
   "source": [
    "xgb_native_model = xgb.train(params, dtrain, num_rounds, watchlist)"
   ]
  },
  {
   "cell_type": "code",
   "execution_count": 92,
   "metadata": {
    "collapsed": false
   },
   "outputs": [
    {
     "name": "stdout",
     "output_type": "stream",
     "text": [
      "[0]\ttest-rmse:47202.1\ttrain-rmse:48174.4\n",
      "[1]\ttest-rmse:45552.4\ttrain-rmse:40849.9\n",
      "[2]\ttest-rmse:44567.6\ttrain-rmse:38042.2\n",
      "[3]\ttest-rmse:42529.8\ttrain-rmse:35642.5\n",
      "[4]\ttest-rmse:40906.8\ttrain-rmse:33581.3\n"
     ]
    }
   ],
   "source": [
    "xgb_native_model = xgb.train(params=params, dtrain=dtrain, num_boost_round=num_rounds,evals=watchlist)"
   ]
  },
  {
   "cell_type": "code",
   "execution_count": 131,
   "metadata": {
    "collapsed": false
   },
   "outputs": [
    {
     "name": "stdout",
     "output_type": "stream",
     "text": [
      "[0]\ttest-rmse:47202.1\ttrain-rmse:48174.4\n",
      "Multiple eval metrics have been passed: 'train-rmse' will be used for early stopping.\n",
      "\n",
      "Will train until train-rmse hasn't improved in 1 rounds.\n",
      "[1]\ttest-rmse:45552.4\ttrain-rmse:40849.9\n",
      "[2]\ttest-rmse:44567.6\ttrain-rmse:38042.2\n",
      "[3]\ttest-rmse:42529.8\ttrain-rmse:35642.5\n",
      "[4]\ttest-rmse:40906.8\ttrain-rmse:33581.3\n",
      "[5]\ttest-rmse:39426.8\ttrain-rmse:31949.5\n",
      "[6]\ttest-rmse:37158.8\ttrain-rmse:30529.4\n",
      "[7]\ttest-rmse:35574\ttrain-rmse:29062.6\n",
      "[8]\ttest-rmse:35414.4\ttrain-rmse:28148.9\n",
      "[9]\ttest-rmse:35193.1\ttrain-rmse:27429.3\n"
     ]
    }
   ],
   "source": [
    "#using early stopping\n",
    "xgb_native_model2 = xgb.train(params=params,\n",
    "                             dtrain = dtrain,\n",
    "                             evals = watchlist,\n",
    "                             early_stopping_rounds=1)"
   ]
  },
  {
   "cell_type": "code",
   "execution_count": 95,
   "metadata": {
    "collapsed": true
   },
   "outputs": [],
   "source": [
    "#lets get the test error rate of this model\n",
    "test_preds = xgb_native_model2.predict(dtest)"
   ]
  },
  {
   "cell_type": "code",
   "execution_count": 96,
   "metadata": {
    "collapsed": true
   },
   "outputs": [
    {
     "data": {
      "text/plain": [
       "array([ 200813.625     ,  218936.484375  ,  114052.7265625 ,\n",
       "        301560.5625    ,  146474.859375  ,  117931.7109375 ,\n",
       "        122812.3046875 ,  349489.625     ,  131999.15625   ,\n",
       "         71324.609375  ,   63892.21484375,  141525.4375    ,\n",
       "        120164.9609375 ,  157054.3125    ,  114052.7265625 ,\n",
       "        229716.96875   ,  172836.71875   ,  257576.078125  ,\n",
       "        200813.625     ,  185284.734375  ,  188365.609375  ,\n",
       "        214769.390625  ,  234465.375     ,  200813.625     ,\n",
       "        199240.5       ,  244546.8125    ,  129077.4296875 ,\n",
       "        157054.3125    ,  164580.4375    ,  122812.3046875 ,\n",
       "        188365.609375  ,  256002.96875   ,  164580.4375    ,\n",
       "        151973.28125   ,  242047.203125  ,  161607.71875   ,\n",
       "        286031.6875    ,  165310.625     ,  109201.1484375 ,\n",
       "        222351.21875   ,  113393.765625  ,  107283.421875  ,\n",
       "        149051.546875  ,  189451.25      ,  298941.84375   ,\n",
       "        185284.734375  ,  122812.3046875 ,  164580.4375    ,\n",
       "         98797.328125  ,  152848.125     ,  125611.421875  ,\n",
       "        186778.03125   ,  242721.078125  ,  341709.40625   ,\n",
       "        122812.3046875 ,  271531.8125    ,  122750.96875   ,\n",
       "         90388.3203125 ,  160878.4375    ,  165310.625     ,\n",
       "        122741.6484375 ,  165310.625     ,  237880.09375   ,\n",
       "        122308.125     ,  305727.65625   ,  232350.03125   ,\n",
       "        149555.734375  ,  116698.2421875 ,  113163.40625   ,\n",
       "        225432.078125  ,  132227.125     ,  190984.21875   ,\n",
       "        144606.3125    ,  185284.734375  ,  298941.84375   ,\n",
       "        326712.78125   ,  199240.5       ,  218936.484375  ,\n",
       "        239640.203125  ,   98867.9921875 ,  200813.625     ,\n",
       "        129077.4296875 ,  200813.625     ,  437061.46875   ,\n",
       "        122812.3046875 ,  178536.203125  ,  137836.984375  ,\n",
       "        162003.75      ,  162003.75      ,  200813.625     ,\n",
       "        188365.609375  ,  164580.4375    ,  160878.4375    ,\n",
       "        145349.546875  ,  176751.9375    ,  188296.5625    ,\n",
       "        105483.6796875 ,   93189.28125   ,  177028.453125  ,\n",
       "        256002.96875   ,  220509.609375  ,  143045.640625  ,\n",
       "        135260.3125    ,  149555.734375  ,  201740.0625    ,\n",
       "        134026.84375   ,   85761.015625  ,  304106.15625   ,\n",
       "        149555.734375  ,  105637.296875  ,  144690.59375   ,\n",
       "        237880.09375   ,  128020.9453125 ,  122812.3046875 ,\n",
       "        180839.5       ,   87309.296875  ,  122812.3046875 ,\n",
       "        135260.3125    ,  125375.4296875 ,  164580.4375    ,\n",
       "        199240.5       ,  144606.3125    ,   89954.8046875 ,\n",
       "        149555.734375  ,  274705.84375   ,  251835.84375   ,\n",
       "        161499.5625    ,  185284.734375  ,  155493.65625   ,\n",
       "        251835.84375   ,  149159.703125  ,  122812.3046875 ,\n",
       "        134026.84375   ,  149555.734375  ,  214769.390625  ,\n",
       "        437061.46875   ,  122812.3046875 ,  135260.3125    ,\n",
       "        185284.734375  ,  107283.421875  ,  381123.4375    ,\n",
       "        177028.453125  ,  120662.        ,   87309.296875  ,\n",
       "        164580.4375    ,  189858.90625   ], dtype=float32)"
      ]
     },
     "execution_count": 96,
     "metadata": {},
     "output_type": "execute_result"
    }
   ],
   "source": [
    "test_preds"
   ]
  },
  {
   "cell_type": "code",
   "execution_count": 98,
   "metadata": {
    "collapsed": true
   },
   "outputs": [
    {
     "data": {
      "text/plain": [
       "array([ 223500.,  279500.,   90000.,  277500.,  145000.,  109000.,\n",
       "        127000.,  385000.,  140000.,   80000.,  110000.,  174000.,\n",
       "        123600.,  185000.,  118964.,  244000.,  174000.,  230000.,\n",
       "        141000.,  183500.,  239000.,  192000.,  311872.,  252678.,\n",
       "        204900.,  290000.,  120000.,  151000.,  139000.,  124500.,\n",
       "        228500.,  244600.,  159000.,  178000.,  270000.,  151500.,\n",
       "        318061.,  198500.,   76000.,  192000.,   81000.,  109000.,\n",
       "        115000.,  177000.,  339750.,  181134.,  142000.,  175000.,\n",
       "        119000.,  110000.,  162900.,  190000.,  280000.,  440000.,\n",
       "        132500.,  297000.,  160000.,   34900.,  141000.,  146000.,\n",
       "        118500.,  151000.,  261500.,  105500.,  314813.,  240000.,\n",
       "        152000.,  108480.,  141500.,  189000.,  179000.,  217000.,\n",
       "        158900.,  215200.,  337000.,  264132.,  216837.,  221500.,\n",
       "        187100.,  107900.,  269790.,  143500.,  189000.,  582933.,\n",
       "        135500.,  157900.,  155000.,  128000.,  130500.,  213000.,\n",
       "        164000.,  152000.,  133000.,  135500.,  149500.,  142953.,\n",
       "         88000.,   75000.,  201000.,  201000.,  239799.,  137500.,\n",
       "        133900.,  135000.,  195000.,  102000.,   85000.,  287000.,\n",
       "        105000.,   97000.,  155000.,  255000.,  138800.,  133000.,\n",
       "        160000.,   60000.,  119500.,  130000.,  140000.,  180000.,\n",
       "        233170.,  158000.,  116050.,  153500.,  271900.,  290000.,\n",
       "        189000.,  175500.,  142500.,  265900.,  169900.,  130000.,\n",
       "        161500.,  144000.,  227000.,  333168.,  111000.,  130500.,\n",
       "        176500.,  123000.,  189000.,  165500.,  163000.,   90000.,\n",
       "        127500.,  182900.])"
      ]
     },
     "execution_count": 98,
     "metadata": {},
     "output_type": "execute_result"
    }
   ],
   "source": [
    "test.SalePrice.values"
   ]
  },
  {
   "cell_type": "code",
   "execution_count": 99,
   "metadata": {
    "collapsed": true
   },
   "outputs": [],
   "source": [
    "from sklearn.metrics import mean_squared_error"
   ]
  },
  {
   "cell_type": "code",
   "execution_count": 100,
   "metadata": {
    "collapsed": false
   },
   "outputs": [
    {
     "data": {
      "text/plain": [
       "35193.07421021544"
      ]
     },
     "execution_count": 100,
     "metadata": {},
     "output_type": "execute_result"
    }
   ],
   "source": [
    "np.sqrt(mean_squared_error(y_true=test.SalePrice.values, y_pred=test_preds))"
   ]
  },
  {
   "cell_type": "code",
   "execution_count": 101,
   "metadata": {
    "collapsed": false
   },
   "outputs": [
    {
     "data": {
      "text/plain": [
       "40906.786761990865"
      ]
     },
     "execution_count": 101,
     "metadata": {},
     "output_type": "execute_result"
    }
   ],
   "source": [
    "np.sqrt(mean_squared_error(y_true=test.SalePrice.values, y_pred=xgb_native_model.predict(dtest)))"
   ]
  },
  {
   "cell_type": "code",
   "execution_count": 102,
   "metadata": {
    "collapsed": true
   },
   "outputs": [],
   "source": [
    "#we see that with increase in num rounds, the accuracy increases (rmse decresese)"
   ]
  },
  {
   "cell_type": "code",
   "execution_count": 103,
   "metadata": {
    "collapsed": true
   },
   "outputs": [],
   "source": [
    "#see the same for sklearn"
   ]
  },
  {
   "cell_type": "code",
   "execution_count": 104,
   "metadata": {
    "collapsed": false
   },
   "outputs": [
    {
     "data": {
      "text/plain": [
       "{'learning_rate': 1.0,\n",
       " 'max_depth': 2,\n",
       " 'n_estimators': 5,\n",
       " 'objective': 'reg:linear',\n",
       " 'silent': 1}"
      ]
     },
     "execution_count": 104,
     "metadata": {},
     "output_type": "execute_result"
    }
   ],
   "source": [
    "param_sklearn"
   ]
  },
  {
   "cell_type": "code",
   "execution_count": 105,
   "metadata": {
    "collapsed": true
   },
   "outputs": [],
   "source": [
    "param_sklearn2 = {'learning_rate': 1.0,\n",
    " 'max_depth': 2,\n",
    " 'objective': 'reg:linear',\n",
    " 'silent': 1}"
   ]
  },
  {
   "cell_type": "code",
   "execution_count": 106,
   "metadata": {
    "collapsed": true
   },
   "outputs": [],
   "source": [
    "xgb_sklearn2_model = XGBRegressor(**param_sklearn2)"
   ]
  },
  {
   "cell_type": "code",
   "execution_count": 110,
   "metadata": {
    "collapsed": false
   },
   "outputs": [
    {
     "data": {
      "text/plain": [
       "XGBRegressor(base_score=0.5, colsample_bylevel=1, colsample_bytree=1, gamma=0,\n",
       "       learning_rate=1.0, max_delta_step=0, max_depth=2,\n",
       "       min_child_weight=1, missing=None, n_estimators=100, nthread=-1,\n",
       "       objective='reg:linear', reg_alpha=0, reg_lambda=1,\n",
       "       scale_pos_weight=1, seed=0, silent=1, subsample=1)"
      ]
     },
     "execution_count": 110,
     "metadata": {},
     "output_type": "execute_result"
    }
   ],
   "source": [
    "xgb_sklearn2_model.fit(X=train[features], y = train.SalePrice)"
   ]
  },
  {
   "cell_type": "code",
   "execution_count": 129,
   "metadata": {
    "collapsed": true
   },
   "outputs": [
    {
     "name": "stdout",
     "output_type": "stream",
     "text": [
      "[0]\tvalidation_0-rmse:47202.1\n",
      "Will train until validation_0-rmse hasn't improved in 10 rounds.\n",
      "[1]\tvalidation_0-rmse:45552.4\n",
      "[2]\tvalidation_0-rmse:44567.6\n",
      "[3]\tvalidation_0-rmse:42529.8\n",
      "[4]\tvalidation_0-rmse:40906.8\n",
      "[5]\tvalidation_0-rmse:39426.8\n",
      "[6]\tvalidation_0-rmse:37158.8\n",
      "[7]\tvalidation_0-rmse:35574\n",
      "[8]\tvalidation_0-rmse:35414.4\n",
      "[9]\tvalidation_0-rmse:35193.1\n",
      "[10]\tvalidation_0-rmse:35213.9\n",
      "[11]\tvalidation_0-rmse:34586.4\n",
      "[12]\tvalidation_0-rmse:34054.1\n",
      "[13]\tvalidation_0-rmse:33391.8\n",
      "[14]\tvalidation_0-rmse:33443.1\n",
      "[15]\tvalidation_0-rmse:33204.4\n",
      "[16]\tvalidation_0-rmse:33091.4\n",
      "[17]\tvalidation_0-rmse:32360\n",
      "[18]\tvalidation_0-rmse:31806.4\n",
      "[19]\tvalidation_0-rmse:32046.8\n",
      "[20]\tvalidation_0-rmse:31333.7\n",
      "[21]\tvalidation_0-rmse:31785.3\n",
      "[22]\tvalidation_0-rmse:30090.3\n",
      "[23]\tvalidation_0-rmse:30253.8\n",
      "[24]\tvalidation_0-rmse:30466.3\n",
      "[25]\tvalidation_0-rmse:30431.8\n",
      "[26]\tvalidation_0-rmse:30247.6\n",
      "[27]\tvalidation_0-rmse:31101\n",
      "[28]\tvalidation_0-rmse:31021.7\n",
      "[29]\tvalidation_0-rmse:31029.8\n",
      "[30]\tvalidation_0-rmse:30395.5\n",
      "[31]\tvalidation_0-rmse:29922.3\n",
      "[32]\tvalidation_0-rmse:30112.4\n",
      "[33]\tvalidation_0-rmse:30113.7\n",
      "[34]\tvalidation_0-rmse:29856.7\n",
      "[35]\tvalidation_0-rmse:29646.2\n",
      "[36]\tvalidation_0-rmse:29926.5\n",
      "[37]\tvalidation_0-rmse:29783\n",
      "[38]\tvalidation_0-rmse:29908.8\n",
      "[39]\tvalidation_0-rmse:29655.1\n",
      "[40]\tvalidation_0-rmse:29722.6\n",
      "[41]\tvalidation_0-rmse:29650\n",
      "[42]\tvalidation_0-rmse:29677.8\n",
      "[43]\tvalidation_0-rmse:30072.9\n",
      "[44]\tvalidation_0-rmse:30066.7\n",
      "[45]\tvalidation_0-rmse:29656\n",
      "Stopping. Best iteration:\n",
      "[35]\tvalidation_0-rmse:29646.2\n",
      "\n"
     ]
    },
    {
     "data": {
      "text/plain": [
       "XGBRegressor(base_score=0.5, colsample_bylevel=1, colsample_bytree=1, gamma=0,\n",
       "       learning_rate=1.0, max_delta_step=0, max_depth=2,\n",
       "       min_child_weight=1, missing=None, n_estimators=100, nthread=-1,\n",
       "       objective='reg:linear', reg_alpha=0, reg_lambda=1,\n",
       "       scale_pos_weight=1, seed=0, silent=1, subsample=1)"
      ]
     },
     "execution_count": 129,
     "metadata": {},
     "output_type": "execute_result"
    }
   ],
   "source": [
    "xgb_sklearn2_model.fit(X=train[features],\n",
    "                       y = train.SalePrice, \n",
    "                       eval_set=[(test[features], test.SalePrice.values)],\n",
    "                       early_stopping_rounds=10\n",
    "                      )"
   ]
  },
  {
   "cell_type": "code",
   "execution_count": 130,
   "metadata": {
    "collapsed": false
   },
   "outputs": [
    {
     "data": {
      "text/plain": [
       "29655.973915620503"
      ]
     },
     "execution_count": 130,
     "metadata": {},
     "output_type": "execute_result"
    }
   ],
   "source": [
    "np.sqrt(mean_squared_error(y_true=test.SalePrice.values, y_pred=xgb_sklearn2_model.predict(test[features])))"
   ]
  },
  {
   "cell_type": "code",
   "execution_count": 132,
   "metadata": {
    "collapsed": true
   },
   "outputs": [],
   "source": [
    "a= pd.DataFrame()\n",
    "a['test_act'] = test.SalePrice.values\n",
    "a['test_pred_sklearn2'] = xgb_sklearn2_model.predict(test[features])"
   ]
  },
  {
   "cell_type": "code",
   "execution_count": 133,
   "metadata": {
    "collapsed": true
   },
   "outputs": [
    {
     "data": {
      "text/html": [
       "<div>\n",
       "<table border=\"1\" class=\"dataframe\">\n",
       "  <thead>\n",
       "    <tr style=\"text-align: right;\">\n",
       "      <th></th>\n",
       "      <th>test_act</th>\n",
       "      <th>test_pred_sklearn2</th>\n",
       "    </tr>\n",
       "  </thead>\n",
       "  <tbody>\n",
       "    <tr>\n",
       "      <th>0</th>\n",
       "      <td>223500.0</td>\n",
       "      <td>179378.015625</td>\n",
       "    </tr>\n",
       "    <tr>\n",
       "      <th>1</th>\n",
       "      <td>279500.0</td>\n",
       "      <td>190302.031250</td>\n",
       "    </tr>\n",
       "    <tr>\n",
       "      <th>2</th>\n",
       "      <td>90000.0</td>\n",
       "      <td>109095.812500</td>\n",
       "    </tr>\n",
       "    <tr>\n",
       "      <th>3</th>\n",
       "      <td>277500.0</td>\n",
       "      <td>272205.687500</td>\n",
       "    </tr>\n",
       "    <tr>\n",
       "      <th>4</th>\n",
       "      <td>145000.0</td>\n",
       "      <td>132788.375000</td>\n",
       "    </tr>\n",
       "    <tr>\n",
       "      <th>5</th>\n",
       "      <td>109000.0</td>\n",
       "      <td>124955.164062</td>\n",
       "    </tr>\n",
       "    <tr>\n",
       "      <th>6</th>\n",
       "      <td>127000.0</td>\n",
       "      <td>128821.117188</td>\n",
       "    </tr>\n",
       "    <tr>\n",
       "      <th>7</th>\n",
       "      <td>385000.0</td>\n",
       "      <td>341542.625000</td>\n",
       "    </tr>\n",
       "    <tr>\n",
       "      <th>8</th>\n",
       "      <td>140000.0</td>\n",
       "      <td>141821.453125</td>\n",
       "    </tr>\n",
       "    <tr>\n",
       "      <th>9</th>\n",
       "      <td>80000.0</td>\n",
       "      <td>55880.386719</td>\n",
       "    </tr>\n",
       "    <tr>\n",
       "      <th>10</th>\n",
       "      <td>110000.0</td>\n",
       "      <td>75636.835938</td>\n",
       "    </tr>\n",
       "    <tr>\n",
       "      <th>11</th>\n",
       "      <td>174000.0</td>\n",
       "      <td>147616.296875</td>\n",
       "    </tr>\n",
       "    <tr>\n",
       "      <th>12</th>\n",
       "      <td>123600.0</td>\n",
       "      <td>118732.515625</td>\n",
       "    </tr>\n",
       "    <tr>\n",
       "      <th>13</th>\n",
       "      <td>185000.0</td>\n",
       "      <td>179130.546875</td>\n",
       "    </tr>\n",
       "    <tr>\n",
       "      <th>14</th>\n",
       "      <td>118964.0</td>\n",
       "      <td>128064.093750</td>\n",
       "    </tr>\n",
       "    <tr>\n",
       "      <th>15</th>\n",
       "      <td>244000.0</td>\n",
       "      <td>216922.343750</td>\n",
       "    </tr>\n",
       "    <tr>\n",
       "      <th>16</th>\n",
       "      <td>174000.0</td>\n",
       "      <td>190173.703125</td>\n",
       "    </tr>\n",
       "    <tr>\n",
       "      <th>17</th>\n",
       "      <td>230000.0</td>\n",
       "      <td>241637.968750</td>\n",
       "    </tr>\n",
       "    <tr>\n",
       "      <th>18</th>\n",
       "      <td>141000.0</td>\n",
       "      <td>178669.359375</td>\n",
       "    </tr>\n",
       "    <tr>\n",
       "      <th>19</th>\n",
       "      <td>183500.0</td>\n",
       "      <td>202331.671875</td>\n",
       "    </tr>\n",
       "    <tr>\n",
       "      <th>20</th>\n",
       "      <td>239000.0</td>\n",
       "      <td>206296.828125</td>\n",
       "    </tr>\n",
       "    <tr>\n",
       "      <th>21</th>\n",
       "      <td>192000.0</td>\n",
       "      <td>196960.765625</td>\n",
       "    </tr>\n",
       "    <tr>\n",
       "      <th>22</th>\n",
       "      <td>311872.0</td>\n",
       "      <td>302672.625000</td>\n",
       "    </tr>\n",
       "    <tr>\n",
       "      <th>23</th>\n",
       "      <td>252678.0</td>\n",
       "      <td>246287.421875</td>\n",
       "    </tr>\n",
       "    <tr>\n",
       "      <th>24</th>\n",
       "      <td>204900.0</td>\n",
       "      <td>211393.343750</td>\n",
       "    </tr>\n",
       "    <tr>\n",
       "      <th>25</th>\n",
       "      <td>290000.0</td>\n",
       "      <td>247267.031250</td>\n",
       "    </tr>\n",
       "    <tr>\n",
       "      <th>26</th>\n",
       "      <td>120000.0</td>\n",
       "      <td>127293.062500</td>\n",
       "    </tr>\n",
       "    <tr>\n",
       "      <th>27</th>\n",
       "      <td>151000.0</td>\n",
       "      <td>174420.671875</td>\n",
       "    </tr>\n",
       "    <tr>\n",
       "      <th>28</th>\n",
       "      <td>139000.0</td>\n",
       "      <td>174051.296875</td>\n",
       "    </tr>\n",
       "    <tr>\n",
       "      <th>29</th>\n",
       "      <td>124500.0</td>\n",
       "      <td>121770.312500</td>\n",
       "    </tr>\n",
       "    <tr>\n",
       "      <th>...</th>\n",
       "      <td>...</td>\n",
       "      <td>...</td>\n",
       "    </tr>\n",
       "    <tr>\n",
       "      <th>116</th>\n",
       "      <td>119500.0</td>\n",
       "      <td>114943.625000</td>\n",
       "    </tr>\n",
       "    <tr>\n",
       "      <th>117</th>\n",
       "      <td>130000.0</td>\n",
       "      <td>140514.312500</td>\n",
       "    </tr>\n",
       "    <tr>\n",
       "      <th>118</th>\n",
       "      <td>140000.0</td>\n",
       "      <td>109299.507812</td>\n",
       "    </tr>\n",
       "    <tr>\n",
       "      <th>119</th>\n",
       "      <td>180000.0</td>\n",
       "      <td>158920.375000</td>\n",
       "    </tr>\n",
       "    <tr>\n",
       "      <th>120</th>\n",
       "      <td>233170.0</td>\n",
       "      <td>211555.140625</td>\n",
       "    </tr>\n",
       "    <tr>\n",
       "      <th>121</th>\n",
       "      <td>158000.0</td>\n",
       "      <td>151865.015625</td>\n",
       "    </tr>\n",
       "    <tr>\n",
       "      <th>122</th>\n",
       "      <td>116050.0</td>\n",
       "      <td>88947.609375</td>\n",
       "    </tr>\n",
       "    <tr>\n",
       "      <th>123</th>\n",
       "      <td>153500.0</td>\n",
       "      <td>137234.703125</td>\n",
       "    </tr>\n",
       "    <tr>\n",
       "      <th>124</th>\n",
       "      <td>271900.0</td>\n",
       "      <td>266108.968750</td>\n",
       "    </tr>\n",
       "    <tr>\n",
       "      <th>125</th>\n",
       "      <td>290000.0</td>\n",
       "      <td>266950.812500</td>\n",
       "    </tr>\n",
       "    <tr>\n",
       "      <th>126</th>\n",
       "      <td>189000.0</td>\n",
       "      <td>182646.937500</td>\n",
       "    </tr>\n",
       "    <tr>\n",
       "      <th>127</th>\n",
       "      <td>175500.0</td>\n",
       "      <td>158335.562500</td>\n",
       "    </tr>\n",
       "    <tr>\n",
       "      <th>128</th>\n",
       "      <td>142500.0</td>\n",
       "      <td>143432.390625</td>\n",
       "    </tr>\n",
       "    <tr>\n",
       "      <th>129</th>\n",
       "      <td>265900.0</td>\n",
       "      <td>230789.015625</td>\n",
       "    </tr>\n",
       "    <tr>\n",
       "      <th>130</th>\n",
       "      <td>169900.0</td>\n",
       "      <td>131257.078125</td>\n",
       "    </tr>\n",
       "    <tr>\n",
       "      <th>131</th>\n",
       "      <td>130000.0</td>\n",
       "      <td>120360.859375</td>\n",
       "    </tr>\n",
       "    <tr>\n",
       "      <th>132</th>\n",
       "      <td>161500.0</td>\n",
       "      <td>143556.000000</td>\n",
       "    </tr>\n",
       "    <tr>\n",
       "      <th>133</th>\n",
       "      <td>144000.0</td>\n",
       "      <td>126730.132812</td>\n",
       "    </tr>\n",
       "    <tr>\n",
       "      <th>134</th>\n",
       "      <td>227000.0</td>\n",
       "      <td>213299.234375</td>\n",
       "    </tr>\n",
       "    <tr>\n",
       "      <th>135</th>\n",
       "      <td>333168.0</td>\n",
       "      <td>382369.843750</td>\n",
       "    </tr>\n",
       "    <tr>\n",
       "      <th>136</th>\n",
       "      <td>111000.0</td>\n",
       "      <td>114943.625000</td>\n",
       "    </tr>\n",
       "    <tr>\n",
       "      <th>137</th>\n",
       "      <td>130500.0</td>\n",
       "      <td>117658.390625</td>\n",
       "    </tr>\n",
       "    <tr>\n",
       "      <th>138</th>\n",
       "      <td>176500.0</td>\n",
       "      <td>193963.968750</td>\n",
       "    </tr>\n",
       "    <tr>\n",
       "      <th>139</th>\n",
       "      <td>123000.0</td>\n",
       "      <td>107434.898438</td>\n",
       "    </tr>\n",
       "    <tr>\n",
       "      <th>140</th>\n",
       "      <td>189000.0</td>\n",
       "      <td>329710.468750</td>\n",
       "    </tr>\n",
       "    <tr>\n",
       "      <th>141</th>\n",
       "      <td>165500.0</td>\n",
       "      <td>195901.953125</td>\n",
       "    </tr>\n",
       "    <tr>\n",
       "      <th>142</th>\n",
       "      <td>163000.0</td>\n",
       "      <td>163257.187500</td>\n",
       "    </tr>\n",
       "    <tr>\n",
       "      <th>143</th>\n",
       "      <td>90000.0</td>\n",
       "      <td>94336.648438</td>\n",
       "    </tr>\n",
       "    <tr>\n",
       "      <th>144</th>\n",
       "      <td>127500.0</td>\n",
       "      <td>139430.843750</td>\n",
       "    </tr>\n",
       "    <tr>\n",
       "      <th>145</th>\n",
       "      <td>182900.0</td>\n",
       "      <td>176815.453125</td>\n",
       "    </tr>\n",
       "  </tbody>\n",
       "</table>\n",
       "<p>146 rows × 2 columns</p>\n",
       "</div>"
      ],
      "text/plain": [
       "     test_act  test_pred_sklearn2\n",
       "0    223500.0       179378.015625\n",
       "1    279500.0       190302.031250\n",
       "2     90000.0       109095.812500\n",
       "3    277500.0       272205.687500\n",
       "4    145000.0       132788.375000\n",
       "5    109000.0       124955.164062\n",
       "6    127000.0       128821.117188\n",
       "7    385000.0       341542.625000\n",
       "8    140000.0       141821.453125\n",
       "9     80000.0        55880.386719\n",
       "10   110000.0        75636.835938\n",
       "11   174000.0       147616.296875\n",
       "12   123600.0       118732.515625\n",
       "13   185000.0       179130.546875\n",
       "14   118964.0       128064.093750\n",
       "15   244000.0       216922.343750\n",
       "16   174000.0       190173.703125\n",
       "17   230000.0       241637.968750\n",
       "18   141000.0       178669.359375\n",
       "19   183500.0       202331.671875\n",
       "20   239000.0       206296.828125\n",
       "21   192000.0       196960.765625\n",
       "22   311872.0       302672.625000\n",
       "23   252678.0       246287.421875\n",
       "24   204900.0       211393.343750\n",
       "25   290000.0       247267.031250\n",
       "26   120000.0       127293.062500\n",
       "27   151000.0       174420.671875\n",
       "28   139000.0       174051.296875\n",
       "29   124500.0       121770.312500\n",
       "..        ...                 ...\n",
       "116  119500.0       114943.625000\n",
       "117  130000.0       140514.312500\n",
       "118  140000.0       109299.507812\n",
       "119  180000.0       158920.375000\n",
       "120  233170.0       211555.140625\n",
       "121  158000.0       151865.015625\n",
       "122  116050.0        88947.609375\n",
       "123  153500.0       137234.703125\n",
       "124  271900.0       266108.968750\n",
       "125  290000.0       266950.812500\n",
       "126  189000.0       182646.937500\n",
       "127  175500.0       158335.562500\n",
       "128  142500.0       143432.390625\n",
       "129  265900.0       230789.015625\n",
       "130  169900.0       131257.078125\n",
       "131  130000.0       120360.859375\n",
       "132  161500.0       143556.000000\n",
       "133  144000.0       126730.132812\n",
       "134  227000.0       213299.234375\n",
       "135  333168.0       382369.843750\n",
       "136  111000.0       114943.625000\n",
       "137  130500.0       117658.390625\n",
       "138  176500.0       193963.968750\n",
       "139  123000.0       107434.898438\n",
       "140  189000.0       329710.468750\n",
       "141  165500.0       195901.953125\n",
       "142  163000.0       163257.187500\n",
       "143   90000.0        94336.648438\n",
       "144  127500.0       139430.843750\n",
       "145  182900.0       176815.453125\n",
       "\n",
       "[146 rows x 2 columns]"
      ]
     },
     "execution_count": 133,
     "metadata": {},
     "output_type": "execute_result"
    }
   ],
   "source": [
    "a"
   ]
  },
  {
   "cell_type": "code",
   "execution_count": 144,
   "metadata": {
    "collapsed": true
   },
   "outputs": [],
   "source": [
    "a['test_pred_native'] = xgb_native_model2.predict(dtest)"
   ]
  },
  {
   "cell_type": "code",
   "execution_count": 146,
   "metadata": {
    "collapsed": true
   },
   "outputs": [],
   "source": [
    "a.to_csv('test_act_preds')"
   ]
  },
  {
   "cell_type": "code",
   "execution_count": 145,
   "metadata": {
    "collapsed": false
   },
   "outputs": [
    {
     "data": {
      "text/html": [
       "<div>\n",
       "<table border=\"1\" class=\"dataframe\">\n",
       "  <thead>\n",
       "    <tr style=\"text-align: right;\">\n",
       "      <th></th>\n",
       "      <th>test_act</th>\n",
       "      <th>test_pred_sklearn2</th>\n",
       "      <th>test_pred_native</th>\n",
       "    </tr>\n",
       "  </thead>\n",
       "  <tbody>\n",
       "    <tr>\n",
       "      <th>0</th>\n",
       "      <td>223500.0</td>\n",
       "      <td>179378.015625</td>\n",
       "      <td>200813.625000</td>\n",
       "    </tr>\n",
       "    <tr>\n",
       "      <th>1</th>\n",
       "      <td>279500.0</td>\n",
       "      <td>190302.031250</td>\n",
       "      <td>218936.484375</td>\n",
       "    </tr>\n",
       "    <tr>\n",
       "      <th>2</th>\n",
       "      <td>90000.0</td>\n",
       "      <td>109095.812500</td>\n",
       "      <td>114052.726562</td>\n",
       "    </tr>\n",
       "    <tr>\n",
       "      <th>3</th>\n",
       "      <td>277500.0</td>\n",
       "      <td>272205.687500</td>\n",
       "      <td>301560.562500</td>\n",
       "    </tr>\n",
       "    <tr>\n",
       "      <th>4</th>\n",
       "      <td>145000.0</td>\n",
       "      <td>132788.375000</td>\n",
       "      <td>146474.859375</td>\n",
       "    </tr>\n",
       "  </tbody>\n",
       "</table>\n",
       "</div>"
      ],
      "text/plain": [
       "   test_act  test_pred_sklearn2  test_pred_native\n",
       "0  223500.0       179378.015625     200813.625000\n",
       "1  279500.0       190302.031250     218936.484375\n",
       "2   90000.0       109095.812500     114052.726562\n",
       "3  277500.0       272205.687500     301560.562500\n",
       "4  145000.0       132788.375000     146474.859375"
      ]
     },
     "execution_count": 145,
     "metadata": {},
     "output_type": "execute_result"
    }
   ],
   "source": [
    "a.head()"
   ]
  },
  {
   "cell_type": "code",
   "execution_count": 138,
   "metadata": {
    "collapsed": true
   },
   "outputs": [],
   "source": [
    "#we see that the preds are different between sklearn and native\n",
    "#see if there is difference in default params between the two"
   ]
  },
  {
   "cell_type": "code",
   "execution_count": 139,
   "metadata": {
    "collapsed": false
   },
   "outputs": [
    {
     "data": {
      "text/plain": [
       "{'base_score': 0.5,\n",
       " 'colsample_bylevel': 1,\n",
       " 'colsample_bytree': 1,\n",
       " 'gamma': 0,\n",
       " 'learning_rate': 1.0,\n",
       " 'max_delta_step': 0,\n",
       " 'max_depth': 2,\n",
       " 'min_child_weight': 1,\n",
       " 'missing': None,\n",
       " 'n_estimators': 100,\n",
       " 'objective': 'reg:linear',\n",
       " 'reg_alpha': 0,\n",
       " 'reg_lambda': 1,\n",
       " 'scale_pos_weight': 1,\n",
       " 'seed': 0,\n",
       " 'silent': 1,\n",
       " 'subsample': 1}"
      ]
     },
     "execution_count": 139,
     "metadata": {},
     "output_type": "execute_result"
    }
   ],
   "source": [
    "xgb_sklearn2_model.get_xgb_params()"
   ]
  },
  {
   "cell_type": "code",
   "execution_count": 143,
   "metadata": {
    "collapsed": false
   },
   "outputs": [
    {
     "data": {
      "text/plain": [
       "{'best_iteration': '9',\n",
       " 'best_msg': '[9]\\ttest-rmse:35193.1\\ttrain-rmse:27429.3',\n",
       " 'best_score': '27429.269531'}"
      ]
     },
     "execution_count": 143,
     "metadata": {},
     "output_type": "execute_result"
    }
   ],
   "source": [
    "xgb_native_model2.attributes()"
   ]
  },
  {
   "cell_type": "code",
   "execution_count": 147,
   "metadata": {
    "collapsed": true
   },
   "outputs": [],
   "source": [
    "from sklearn.grid_search import GridSearchCV"
   ]
  },
  {
   "cell_type": "code",
   "execution_count": 148,
   "metadata": {
    "collapsed": true
   },
   "outputs": [],
   "source": [
    "#do a grid search to find optimal params\n",
    "\n",
    "cv_params = {'max_depth': [3,5,7], 'min_child_weight': [1,3,5]}\n",
    "\n",
    "ind_params = {'learning_rate': 0.1, 'n_estimators': 1000,\n",
    "              'seed':0, 'subsample': 0.8, \n",
    "              'colsample_bytree': 0.8, \n",
    "             'objective': 'reg:linear'}"
   ]
  },
  {
   "cell_type": "code",
   "execution_count": 149,
   "metadata": {
    "collapsed": true
   },
   "outputs": [],
   "source": [
    "optimized_GBM = GridSearchCV(xgb.XGBRegressor(**ind_params), \n",
    "                            cv_params, \n",
    "                             cv = 5) "
   ]
  },
  {
   "cell_type": "code",
   "execution_count": 150,
   "metadata": {
    "collapsed": false
   },
   "outputs": [
    {
     "data": {
      "text/plain": [
       "GridSearchCV(cv=5, error_score='raise',\n",
       "       estimator=XGBRegressor(base_score=0.5, colsample_bylevel=1, colsample_bytree=0.8,\n",
       "       gamma=0, learning_rate=0.1, max_delta_step=0, max_depth=3,\n",
       "       min_child_weight=1, missing=None, n_estimators=1000, nthread=-1,\n",
       "       objective='reg:linear', reg_alpha=0, reg_lambda=1,\n",
       "       scale_pos_weight=1, seed=0, silent=True, subsample=0.8),\n",
       "       fit_params={}, iid=True, n_jobs=1,\n",
       "       param_grid={'max_depth': [3, 5, 7], 'min_child_weight': [1, 3, 5]},\n",
       "       pre_dispatch='2*n_jobs', refit=True, scoring=None, verbose=0)"
      ]
     },
     "execution_count": 150,
     "metadata": {},
     "output_type": "execute_result"
    }
   ],
   "source": [
    "optimized_GBM.fit(train[features],train.SalePrice)"
   ]
  },
  {
   "cell_type": "code",
   "execution_count": 151,
   "metadata": {
    "collapsed": false
   },
   "outputs": [
    {
     "data": {
      "text/plain": [
       "[mean: 0.84726, std: 0.10340, params: {'max_depth': 3, 'min_child_weight': 1},\n",
       " mean: 0.84282, std: 0.09852, params: {'max_depth': 3, 'min_child_weight': 3},\n",
       " mean: 0.84785, std: 0.10103, params: {'max_depth': 3, 'min_child_weight': 5},\n",
       " mean: 0.86035, std: 0.07726, params: {'max_depth': 5, 'min_child_weight': 1},\n",
       " mean: 0.84874, std: 0.08563, params: {'max_depth': 5, 'min_child_weight': 3},\n",
       " mean: 0.85497, std: 0.08454, params: {'max_depth': 5, 'min_child_weight': 5},\n",
       " mean: 0.85918, std: 0.07346, params: {'max_depth': 7, 'min_child_weight': 1},\n",
       " mean: 0.84986, std: 0.07719, params: {'max_depth': 7, 'min_child_weight': 3},\n",
       " mean: 0.85651, std: 0.08242, params: {'max_depth': 7, 'min_child_weight': 5}]"
      ]
     },
     "execution_count": 151,
     "metadata": {},
     "output_type": "execute_result"
    }
   ],
   "source": [
    "optimized_GBM.grid_scores_"
   ]
  },
  {
   "cell_type": "code",
   "execution_count": 155,
   "metadata": {
    "collapsed": false
   },
   "outputs": [
    {
     "data": {
      "text/plain": [
       "'raise'"
      ]
     },
     "execution_count": 155,
     "metadata": {},
     "output_type": "execute_result"
    }
   ],
   "source": [
    "optimized_GBM.error_score"
   ]
  },
  {
   "cell_type": "code",
   "execution_count": 156,
   "metadata": {
    "collapsed": false
   },
   "outputs": [
    {
     "data": {
      "text/plain": [
       "{'max_depth': 5, 'min_child_weight': 1}"
      ]
     },
     "execution_count": 156,
     "metadata": {},
     "output_type": "execute_result"
    }
   ],
   "source": [
    "optimized_GBM.best_params_"
   ]
  },
  {
   "cell_type": "code",
   "execution_count": 157,
   "metadata": {
    "collapsed": true
   },
   "outputs": [],
   "source": [
    "#the best params returns the one with highest mean which might not be right\n",
    "#as this is the mean of error and we would like to minimize\n",
    "#check if this hypothesis is right by creating two models with the two extreme vals\n",
    "#and finding the train rmse for them both"
   ]
  },
  {
   "cell_type": "code",
   "execution_count": 159,
   "metadata": {
    "collapsed": false
   },
   "outputs": [],
   "source": [
    "params_min_mean = {'learning_rate': 0.1, 'n_estimators': 1000,\n",
    "                   'seed':0, 'subsample': 0.8,\n",
    "                   'colsample_bytree': 0.8,\n",
    "                   'objective': 'reg:linear',\n",
    "                   'max_depth': 3,\n",
    "                   'min_child_weight': 3\n",
    "                  }"
   ]
  },
  {
   "cell_type": "code",
   "execution_count": 160,
   "metadata": {
    "collapsed": true
   },
   "outputs": [],
   "source": [
    "xgb_xklearn_min_model = XGBRegressor(**params_min_mean)"
   ]
  },
  {
   "cell_type": "code",
   "execution_count": 161,
   "metadata": {
    "collapsed": false
   },
   "outputs": [
    {
     "data": {
      "text/plain": [
       "XGBRegressor(base_score=0.5, colsample_bylevel=1, colsample_bytree=0.8,\n",
       "       gamma=0, learning_rate=0.1, max_delta_step=0, max_depth=3,\n",
       "       min_child_weight=3, missing=None, n_estimators=1000, nthread=-1,\n",
       "       objective='reg:linear', reg_alpha=0, reg_lambda=1,\n",
       "       scale_pos_weight=1, seed=0, silent=True, subsample=0.8)"
      ]
     },
     "execution_count": 161,
     "metadata": {},
     "output_type": "execute_result"
    }
   ],
   "source": [
    "xgb_xklearn_min_model.fit(X=train[features],y=train.SalePrice)"
   ]
  },
  {
   "cell_type": "code",
   "execution_count": 162,
   "metadata": {
    "collapsed": true
   },
   "outputs": [],
   "source": [
    "train_min_model_preds = xgb_xklearn_min_model.predict(data=train[features])"
   ]
  },
  {
   "cell_type": "code",
   "execution_count": 163,
   "metadata": {
    "collapsed": false
   },
   "outputs": [
    {
     "data": {
      "text/plain": [
       "2913.4343282595532"
      ]
     },
     "execution_count": 163,
     "metadata": {},
     "output_type": "execute_result"
    }
   ],
   "source": [
    "np.sqrt(mean_squared_error(y_true=train.SalePrice, y_pred=train_min_model_preds))"
   ]
  },
  {
   "cell_type": "code",
   "execution_count": 164,
   "metadata": {
    "collapsed": true
   },
   "outputs": [],
   "source": [
    "params_max_mean = {'learning_rate': 0.1, 'n_estimators': 1000,\n",
    "                   'seed':0, 'subsample': 0.8,\n",
    "                   'colsample_bytree': 0.8,\n",
    "                   'objective': 'reg:linear',\n",
    "                   'max_depth': 5,\n",
    "                   'min_child_weight': 1\n",
    "                  }"
   ]
  },
  {
   "cell_type": "code",
   "execution_count": 165,
   "metadata": {
    "collapsed": true
   },
   "outputs": [],
   "source": [
    "xgb_xklearn_max_model = XGBRegressor(**params_max_mean)"
   ]
  },
  {
   "cell_type": "code",
   "execution_count": 166,
   "metadata": {
    "collapsed": false
   },
   "outputs": [
    {
     "data": {
      "text/plain": [
       "XGBRegressor(base_score=0.5, colsample_bylevel=1, colsample_bytree=0.8,\n",
       "       gamma=0, learning_rate=0.1, max_delta_step=0, max_depth=5,\n",
       "       min_child_weight=1, missing=None, n_estimators=1000, nthread=-1,\n",
       "       objective='reg:linear', reg_alpha=0, reg_lambda=1,\n",
       "       scale_pos_weight=1, seed=0, silent=True, subsample=0.8)"
      ]
     },
     "execution_count": 166,
     "metadata": {},
     "output_type": "execute_result"
    }
   ],
   "source": [
    "xgb_xklearn_max_model.fit(X=train[features],y=train.SalePrice)"
   ]
  },
  {
   "cell_type": "code",
   "execution_count": 167,
   "metadata": {
    "collapsed": false
   },
   "outputs": [
    {
     "data": {
      "text/plain": [
       "58.450831564407459"
      ]
     },
     "execution_count": 167,
     "metadata": {},
     "output_type": "execute_result"
    }
   ],
   "source": [
    "np.sqrt(mean_squared_error(y_true=train.SalePrice, y_pred=xgb_xklearn_max_model.predict(train[features])))"
   ]
  },
  {
   "cell_type": "code",
   "execution_count": 168,
   "metadata": {
    "collapsed": true
   },
   "outputs": [],
   "source": [
    "#the rmse of max mean params are the best, i.e, the best scores by the Grid Search is actually the best"
   ]
  },
  {
   "cell_type": "code",
   "execution_count": 169,
   "metadata": {
    "collapsed": true
   },
   "outputs": [],
   "source": [
    "#move on to further tune the other params"
   ]
  },
  {
   "cell_type": "code",
   "execution_count": 172,
   "metadata": {
    "collapsed": false
   },
   "outputs": [
    {
     "data": {
      "text/plain": [
       "GridSearchCV(cv=5, error_score='raise',\n",
       "       estimator=XGBRegressor(base_score=0.5, colsample_bylevel=1, colsample_bytree=0.8,\n",
       "       gamma=0, learning_rate=0.1, max_delta_step=0, max_depth=5,\n",
       "       min_child_weight=1, missing=None, n_estimators=1000, nthread=-1,\n",
       "       objective='reg:linear', reg_alpha=0, reg_lambda=1,\n",
       "       scale_pos_weight=1, seed=0, silent=True, subsample=1),\n",
       "       fit_params={}, iid=True, n_jobs=1,\n",
       "       param_grid={'subsample': [0.7, 0.8, 0.9], 'learning_rate': [0.1, 0.01]},\n",
       "       pre_dispatch='2*n_jobs', refit=True, scoring=None, verbose=0)"
      ]
     },
     "execution_count": 172,
     "metadata": {},
     "output_type": "execute_result"
    }
   ],
   "source": [
    "cv_params = {'learning_rate': [0.1, 0.01], 'subsample': [0.7,0.8,0.9]}\n",
    "ind_params = {'n_estimators': 1000, 'seed':0, 'colsample_bytree': 0.8, \n",
    "             'objective': 'reg:linear', 'max_depth': 5, 'min_child_weight': 1}\n",
    "\n",
    "\n",
    "optimized_GBM2 = GridSearchCV(xgb.XGBRegressor(**ind_params), cv_params, cv = 5)\n",
    "optimized_GBM2.fit(train[features], train.SalePrice)"
   ]
  },
  {
   "cell_type": "code",
   "execution_count": 173,
   "metadata": {
    "collapsed": false
   },
   "outputs": [
    {
     "data": {
      "text/plain": [
       "[mean: 0.86516, std: 0.08192, params: {'subsample': 0.7, 'learning_rate': 0.1},\n",
       " mean: 0.86035, std: 0.07726, params: {'subsample': 0.8, 'learning_rate': 0.1},\n",
       " mean: 0.86043, std: 0.08228, params: {'subsample': 0.9, 'learning_rate': 0.1},\n",
       " mean: 0.86679, std: 0.08031, params: {'subsample': 0.7, 'learning_rate': 0.01},\n",
       " mean: 0.86790, std: 0.07666, params: {'subsample': 0.8, 'learning_rate': 0.01},\n",
       " mean: 0.86432, std: 0.08055, params: {'subsample': 0.9, 'learning_rate': 0.01}]"
      ]
     },
     "execution_count": 173,
     "metadata": {},
     "output_type": "execute_result"
    }
   ],
   "source": [
    "optimized_GBM2.grid_scores_"
   ]
  },
  {
   "cell_type": "code",
   "execution_count": 177,
   "metadata": {
    "collapsed": false
   },
   "outputs": [
    {
     "data": {
      "text/plain": [
       "{'learning_rate': 0.01, 'subsample': 0.8}"
      ]
     },
     "execution_count": 177,
     "metadata": {},
     "output_type": "execute_result"
    }
   ],
   "source": [
    "optimized_GBM2.best_params_"
   ]
  },
  {
   "cell_type": "code",
   "execution_count": 178,
   "metadata": {
    "collapsed": true
   },
   "outputs": [],
   "source": [
    "best_params = {'n_estimators': 1000, 'seed':0, 'colsample_bytree': 0.8, \n",
    "             'objective': 'reg:linear', 'max_depth': 5, 'min_child_weight': 1,\n",
    "               'learning_rate': 0.01, 'subsample': 0.8\n",
    "               }"
   ]
  },
  {
   "cell_type": "code",
   "execution_count": 179,
   "metadata": {
    "collapsed": true
   },
   "outputs": [],
   "source": [
    "sklearn_best_XGB_model = XGBRegressor(**best_params)"
   ]
  },
  {
   "cell_type": "code",
   "execution_count": 180,
   "metadata": {
    "collapsed": false
   },
   "outputs": [
    {
     "data": {
      "text/plain": [
       "XGBRegressor(base_score=0.5, colsample_bylevel=1, colsample_bytree=0.8,\n",
       "       gamma=0, learning_rate=0.01, max_delta_step=0, max_depth=5,\n",
       "       min_child_weight=1, missing=None, n_estimators=1000, nthread=-1,\n",
       "       objective='reg:linear', reg_alpha=0, reg_lambda=1,\n",
       "       scale_pos_weight=1, seed=0, silent=True, subsample=0.8)"
      ]
     },
     "execution_count": 180,
     "metadata": {},
     "output_type": "execute_result"
    }
   ],
   "source": [
    "sklearn_best_XGB_model.fit(train[features], train.SalePrice)"
   ]
  },
  {
   "cell_type": "code",
   "execution_count": 181,
   "metadata": {
    "collapsed": false
   },
   "outputs": [
    {
     "data": {
      "text/plain": [
       "7704.8819154763205"
      ]
     },
     "execution_count": 181,
     "metadata": {},
     "output_type": "execute_result"
    }
   ],
   "source": [
    "np.sqrt(mean_squared_error(y_true=train.SalePrice, y_pred=sklearn_best_XGB_model.predict(train[features])))"
   ]
  },
  {
   "cell_type": "code",
   "execution_count": 182,
   "metadata": {
    "collapsed": true
   },
   "outputs": [],
   "source": [
    "best_params = {'n_estimators': 1000, 'seed':0, 'colsample_bytree': 0.8, \n",
    "             'objective': 'reg:linear', 'max_depth': 5, 'min_child_weight': 1,\n",
    "               'learning_rate': 0.1, 'subsample': 0.8\n",
    "               }"
   ]
  },
  {
   "cell_type": "code",
   "execution_count": 183,
   "metadata": {
    "collapsed": true
   },
   "outputs": [],
   "source": [
    "sklearn_best_XGB_model = XGBRegressor(**best_params)"
   ]
  },
  {
   "cell_type": "code",
   "execution_count": 184,
   "metadata": {
    "collapsed": false
   },
   "outputs": [
    {
     "data": {
      "text/plain": [
       "58.450831564407459"
      ]
     },
     "execution_count": 184,
     "metadata": {},
     "output_type": "execute_result"
    }
   ],
   "source": [
    "sklearn_best_XGB_model.fit(train[features], train.SalePrice)\n",
    "np.sqrt(mean_squared_error(y_true=train.SalePrice, y_pred=sklearn_best_XGB_model.predict(train[features])))"
   ]
  },
  {
   "cell_type": "code",
   "execution_count": 185,
   "metadata": {
    "collapsed": true
   },
   "outputs": [],
   "source": [
    "import datetime"
   ]
  },
  {
   "cell_type": "code",
   "execution_count": 186,
   "metadata": {
    "collapsed": false
   },
   "outputs": [
    {
     "name": "stdout",
     "output_type": "stream",
     "text": [
      "2016-12-14 22:00:40.640646\n",
      "2016-12-14 22:53:55.697133\n"
     ]
    }
   ],
   "source": [
    "cv_params = {'learning_rate': [0.1, 0.01],\n",
    "             'subsample': [0.7,0.8,0.9],\n",
    "             'max_depth': [1,3,5,7],\n",
    "             'min_child_weight': [1,3,5],\n",
    "             'colsample_bytree': [0.6,0.8,1.0]\n",
    "            }\n",
    "ind_params = {'n_estimators': 1000, 'seed':0,'objective': 'reg:linear'}\n",
    "\n",
    "\n",
    "optimized_GBM3 = GridSearchCV(xgb.XGBRegressor(**ind_params), cv_params, cv = 5)\n",
    "print datetime.datetime.now()\n",
    "optimized_GBM3.fit(train[features], train.SalePrice)\n",
    "print datetime.datetime.now()"
   ]
  },
  {
   "cell_type": "code",
   "execution_count": 188,
   "metadata": {
    "collapsed": false
   },
   "outputs": [
    {
     "data": {
      "text/plain": [
       "list"
      ]
     },
     "execution_count": 188,
     "metadata": {},
     "output_type": "execute_result"
    }
   ],
   "source": [
    "type(optimized_GBM3.grid_scores_)"
   ]
  },
  {
   "cell_type": "code",
   "execution_count": 189,
   "metadata": {
    "collapsed": false
   },
   "outputs": [
    {
     "data": {
      "text/plain": [
       "216"
      ]
     },
     "execution_count": 189,
     "metadata": {},
     "output_type": "execute_result"
    }
   ],
   "source": [
    "len(optimized_GBM3.grid_scores_)"
   ]
  },
  {
   "cell_type": "code",
   "execution_count": 191,
   "metadata": {
    "collapsed": true
   },
   "outputs": [
    {
     "name": "stdout",
     "output_type": "stream",
     "text": [
      "mean: 0.83487, std: 0.08753, params: {'subsample': 0.7, 'learning_rate': 0.1, 'colsample_bytree': 0.6, 'max_depth': 1, 'min_child_weight': 1}\n",
      "mean: 0.83222, std: 0.09402, params: {'subsample': 0.8, 'learning_rate': 0.1, 'colsample_bytree': 0.6, 'max_depth': 1, 'min_child_weight': 1}\n",
      "mean: 0.83012, std: 0.09495, params: {'subsample': 0.9, 'learning_rate': 0.1, 'colsample_bytree': 0.6, 'max_depth': 1, 'min_child_weight': 1}\n",
      "mean: 0.82196, std: 0.09124, params: {'subsample': 0.7, 'learning_rate': 0.1, 'colsample_bytree': 0.6, 'max_depth': 1, 'min_child_weight': 3}\n",
      "mean: 0.82485, std: 0.09055, params: {'subsample': 0.8, 'learning_rate': 0.1, 'colsample_bytree': 0.6, 'max_depth': 1, 'min_child_weight': 3}\n"
     ]
    }
   ],
   "source": [
    "for i in range(5):\n",
    "    print optimized_GBM3.grid_scores_[i]"
   ]
  },
  {
   "cell_type": "code",
   "execution_count": 192,
   "metadata": {
    "collapsed": false
   },
   "outputs": [
    {
     "data": {
      "text/plain": [
       "{'colsample_bytree': 0.6,\n",
       " 'learning_rate': 0.01,\n",
       " 'max_depth': 7,\n",
       " 'min_child_weight': 1,\n",
       " 'subsample': 0.7}"
      ]
     },
     "execution_count": 192,
     "metadata": {},
     "output_type": "execute_result"
    }
   ],
   "source": [
    "optimized_GBM3.best_params_"
   ]
  },
  {
   "cell_type": "code",
   "execution_count": 193,
   "metadata": {
    "collapsed": false
   },
   "outputs": [
    {
     "data": {
      "text/plain": [
       "0.8711851722660862"
      ]
     },
     "execution_count": 193,
     "metadata": {},
     "output_type": "execute_result"
    }
   ],
   "source": [
    "optimized_GBM3.best_score_"
   ]
  },
  {
   "cell_type": "code",
   "execution_count": 194,
   "metadata": {
    "collapsed": true
   },
   "outputs": [],
   "source": [
    "params = {'n_estimators': 1000, 'seed':0,'objective': 'reg:linear',\n",
    "         'colsample_bytree': 0.6,\n",
    " 'learning_rate': 0.01,\n",
    " 'max_depth': 7,\n",
    " 'min_child_weight': 1,\n",
    " 'subsample': 0.7}"
   ]
  },
  {
   "cell_type": "code",
   "execution_count": 195,
   "metadata": {
    "collapsed": true
   },
   "outputs": [],
   "source": [
    "sklearn_xgb_model4 = XGBRegressor(**params)"
   ]
  },
  {
   "cell_type": "code",
   "execution_count": 196,
   "metadata": {
    "collapsed": false
   },
   "outputs": [
    {
     "data": {
      "text/plain": [
       "XGBRegressor(base_score=0.5, colsample_bylevel=1, colsample_bytree=0.6,\n",
       "       gamma=0, learning_rate=0.01, max_delta_step=0, max_depth=7,\n",
       "       min_child_weight=1, missing=None, n_estimators=1000, nthread=-1,\n",
       "       objective='reg:linear', reg_alpha=0, reg_lambda=1,\n",
       "       scale_pos_weight=1, seed=0, silent=True, subsample=0.7)"
      ]
     },
     "execution_count": 196,
     "metadata": {},
     "output_type": "execute_result"
    }
   ],
   "source": [
    "sklearn_xgb_model4.fit(train[features], train.SalePrice)"
   ]
  },
  {
   "cell_type": "code",
   "execution_count": 197,
   "metadata": {
    "collapsed": false
   },
   "outputs": [
    {
     "data": {
      "text/plain": [
       "4375.9308943604892"
      ]
     },
     "execution_count": 197,
     "metadata": {},
     "output_type": "execute_result"
    }
   ],
   "source": [
    "np.sqrt(mean_squared_error(y_true=train.SalePrice, y_pred=sklearn_xgb_model4.predict(train[features])))"
   ]
  },
  {
   "cell_type": "code",
   "execution_count": 198,
   "metadata": {
    "collapsed": true
   },
   "outputs": [],
   "source": [
    "a = optimized_GBM3.grid_scores_"
   ]
  },
  {
   "cell_type": "code",
   "execution_count": 199,
   "metadata": {
    "collapsed": false
   },
   "outputs": [
    {
     "data": {
      "text/plain": [
       "mean: 0.83487, std: 0.08753, params: {'subsample': 0.7, 'learning_rate': 0.1, 'colsample_bytree': 0.6, 'max_depth': 1, 'min_child_weight': 1}"
      ]
     },
     "execution_count": 199,
     "metadata": {},
     "output_type": "execute_result"
    }
   ],
   "source": [
    "a[0]"
   ]
  },
  {
   "cell_type": "code",
   "execution_count": 200,
   "metadata": {
    "collapsed": false
   },
   "outputs": [
    {
     "data": {
      "text/plain": [
       "sklearn.grid_search._CVScoreTuple"
      ]
     },
     "execution_count": 200,
     "metadata": {},
     "output_type": "execute_result"
    }
   ],
   "source": [
    "type(a[0])"
   ]
  },
  {
   "cell_type": "code",
   "execution_count": 201,
   "metadata": {
    "collapsed": false
   },
   "outputs": [
    {
     "data": {
      "text/plain": [
       "mean: 0.83487, std: 0.08753, params: {'subsample': 0.7, 'learning_rate': 0.1, 'colsample_bytree': 0.6, 'max_depth': 1, 'min_child_weight': 1}"
      ]
     },
     "execution_count": 201,
     "metadata": {},
     "output_type": "execute_result"
    }
   ],
   "source": [
    "b = a[0]\n",
    "b"
   ]
  },
  {
   "cell_type": "code",
   "execution_count": 202,
   "metadata": {
    "collapsed": false
   },
   "outputs": [
    {
     "data": {
      "text/plain": [
       "{'colsample_bytree': 0.6,\n",
       " 'learning_rate': 0.1,\n",
       " 'max_depth': 1,\n",
       " 'min_child_weight': 1,\n",
       " 'subsample': 0.7}"
      ]
     },
     "execution_count": 202,
     "metadata": {},
     "output_type": "execute_result"
    }
   ],
   "source": [
    "b[0]"
   ]
  },
  {
   "cell_type": "code",
   "execution_count": 203,
   "metadata": {
    "collapsed": false
   },
   "outputs": [
    {
     "data": {
      "text/plain": [
       "0.8348689363491211"
      ]
     },
     "execution_count": 203,
     "metadata": {},
     "output_type": "execute_result"
    }
   ],
   "source": [
    "b[1]"
   ]
  },
  {
   "cell_type": "code",
   "execution_count": 204,
   "metadata": {
    "collapsed": false
   },
   "outputs": [
    {
     "data": {
      "text/plain": [
       "array([ 0.87373545,  0.81059033,  0.90446979,  0.67493356,  0.91090466])"
      ]
     },
     "execution_count": 204,
     "metadata": {},
     "output_type": "execute_result"
    }
   ],
   "source": [
    "b[2]"
   ]
  },
  {
   "cell_type": "code",
   "execution_count": 206,
   "metadata": {
    "collapsed": true
   },
   "outputs": [],
   "source": [
    "c = np.array([ 0.87373545,  0.81059033,  0.90446979,  0.67493356,  0.91090466])"
   ]
  },
  {
   "cell_type": "code",
   "execution_count": 207,
   "metadata": {
    "collapsed": false
   },
   "outputs": [
    {
     "data": {
      "text/plain": [
       "0.087527223880221258"
      ]
     },
     "execution_count": 207,
     "metadata": {},
     "output_type": "execute_result"
    }
   ],
   "source": [
    "np.std(c)"
   ]
  },
  {
   "cell_type": "code",
   "execution_count": 222,
   "metadata": {
    "collapsed": false
   },
   "outputs": [],
   "source": [
    "minm = 1\n",
    "min_index = 0\n",
    "for i in range(len(a)):\n",
    "    x = a[i][1]\n",
    "    if x < minm:\n",
    "        minm = x\n",
    "        min_index = i"
   ]
  },
  {
   "cell_type": "code",
   "execution_count": 223,
   "metadata": {
    "collapsed": false
   },
   "outputs": [
    {
     "data": {
      "text/plain": [
       "0.8093609664383348"
      ]
     },
     "execution_count": 223,
     "metadata": {},
     "output_type": "execute_result"
    }
   ],
   "source": [
    "minm"
   ]
  },
  {
   "cell_type": "code",
   "execution_count": 224,
   "metadata": {
    "collapsed": false
   },
   "outputs": [
    {
     "data": {
      "text/plain": [
       "184"
      ]
     },
     "execution_count": 224,
     "metadata": {},
     "output_type": "execute_result"
    }
   ],
   "source": [
    "min_index"
   ]
  },
  {
   "cell_type": "code",
   "execution_count": 225,
   "metadata": {
    "collapsed": false
   },
   "outputs": [
    {
     "data": {
      "text/plain": [
       "mean: 0.80936, std: 0.05804, params: {'subsample': 0.8, 'learning_rate': 0.01, 'colsample_bytree': 1.0, 'max_depth': 1, 'min_child_weight': 3}"
      ]
     },
     "execution_count": 225,
     "metadata": {},
     "output_type": "execute_result"
    }
   ],
   "source": [
    "a[184]"
   ]
  },
  {
   "cell_type": "code",
   "execution_count": 226,
   "metadata": {
    "collapsed": true
   },
   "outputs": [],
   "source": [
    "#create xgb with these params\n",
    "params = {'n_estimators': 1000, 'seed':0,'objective': 'reg:linear',\n",
    "         'subsample': 0.8, 'learning_rate': 0.01, 'colsample_bytree': 1.0, 'max_depth': 1, 'min_child_weight': 3}"
   ]
  },
  {
   "cell_type": "code",
   "execution_count": 227,
   "metadata": {
    "collapsed": true
   },
   "outputs": [],
   "source": [
    "sklearn_xgb_model5 = XGBRegressor(**params)"
   ]
  },
  {
   "cell_type": "code",
   "execution_count": 228,
   "metadata": {
    "collapsed": false
   },
   "outputs": [
    {
     "data": {
      "text/plain": [
       "XGBRegressor(base_score=0.5, colsample_bylevel=1, colsample_bytree=1.0,\n",
       "       gamma=0, learning_rate=0.01, max_delta_step=0, max_depth=1,\n",
       "       min_child_weight=3, missing=None, n_estimators=1000, nthread=-1,\n",
       "       objective='reg:linear', reg_alpha=0, reg_lambda=1,\n",
       "       scale_pos_weight=1, seed=0, silent=True, subsample=0.8)"
      ]
     },
     "execution_count": 228,
     "metadata": {},
     "output_type": "execute_result"
    }
   ],
   "source": [
    "sklearn_xgb_model5.fit(train[features], train.SalePrice)"
   ]
  },
  {
   "cell_type": "code",
   "execution_count": 229,
   "metadata": {
    "collapsed": false
   },
   "outputs": [
    {
     "data": {
      "text/plain": [
       "27948.193441190957"
      ]
     },
     "execution_count": 229,
     "metadata": {},
     "output_type": "execute_result"
    }
   ],
   "source": [
    "np.sqrt(mean_squared_error(y_true=train.SalePrice, y_pred=sklearn_xgb_model5.predict(train[features])))"
   ]
  },
  {
   "cell_type": "code",
   "execution_count": 230,
   "metadata": {
    "collapsed": false
   },
   "outputs": [
    {
     "data": {
      "text/plain": [
       "4375.9308943604892"
      ]
     },
     "execution_count": 230,
     "metadata": {},
     "output_type": "execute_result"
    }
   ],
   "source": [
    "np.sqrt(mean_squared_error(y_true=train.SalePrice, y_pred=sklearn_xgb_model4.predict(train[features])))"
   ]
  },
  {
   "cell_type": "code",
   "execution_count": 231,
   "metadata": {
    "collapsed": true
   },
   "outputs": [],
   "source": [
    "#once again, taking the best params gives the lowest rmse"
   ]
  },
  {
   "cell_type": "code",
   "execution_count": 232,
   "metadata": {
    "collapsed": true
   },
   "outputs": [],
   "source": [
    "#15 Dec 2016 - Use XGB CV"
   ]
  },
  {
   "cell_type": "code",
   "execution_count": 233,
   "metadata": {
    "collapsed": true
   },
   "outputs": [],
   "source": [
    "#create the DMatrix\n",
    "dtrain = xgb.DMatrix(train[features], train.SalePrice)\n",
    "dtest =  xgb.DMatrix(test[features], test.SalePrice)"
   ]
  },
  {
   "cell_type": "code",
   "execution_count": 234,
   "metadata": {
    "collapsed": true
   },
   "outputs": [],
   "source": [
    "params_for_xgb_cv = {'n_estimators': 1000, 'seed':0,'objective': 'reg:linear',\n",
    "         'colsample_bytree': 0.6,\n",
    " 'learning_rate': 0.01,\n",
    " 'max_depth': 7,\n",
    " 'min_child_weight': 1,\n",
    " 'subsample': 0.7} #these are params from model4"
   ]
  },
  {
   "cell_type": "code",
   "execution_count": 236,
   "metadata": {
    "collapsed": true
   },
   "outputs": [
    {
     "name": "stdout",
     "output_type": "stream",
     "text": [
      "[0]\ttrain-rmse:196024+1757.91\ttest-rmse:195896+6987.82\n",
      "[25]\ttrain-rmse:155061+1419.58\ttest-rmse:155306+6395.2\n",
      "[50]\ttrain-rmse:123104+1201.43\ttest-rmse:123893+5862.86\n",
      "[75]\ttrain-rmse:98151.5+1021.44\ttest-rmse:99630.9+5482.61\n",
      "[100]\ttrain-rmse:78613.9+836.878\ttest-rmse:81048.6+5178.1\n",
      "[125]\ttrain-rmse:63325.9+708.667\ttest-rmse:66837.8+4916.1\n",
      "[150]\ttrain-rmse:51351.4+588.024\ttest-rmse:56200.7+4734.05\n",
      "[175]\ttrain-rmse:41983.8+537.325\ttest-rmse:48274.1+4470.43\n",
      "[200]\ttrain-rmse:34596.3+457.286\ttest-rmse:42395.2+4290.94\n",
      "[225]\ttrain-rmse:28794.2+381.012\ttest-rmse:38113.8+4116.85\n",
      "[250]\ttrain-rmse:24219.2+344.048\ttest-rmse:35080.3+3985.85\n",
      "[275]\ttrain-rmse:20625.7+300.301\ttest-rmse:32949.5+3843.65\n",
      "[300]\ttrain-rmse:17782.9+253.099\ttest-rmse:31387.8+3799.27\n",
      "[325]\ttrain-rmse:15512.5+218.841\ttest-rmse:30244+3753.96\n",
      "[350]\ttrain-rmse:13742.1+208.759\ttest-rmse:29498.1+3758.59\n",
      "[375]\ttrain-rmse:12293.6+184.756\ttest-rmse:28937.5+3768.54\n",
      "[400]\ttrain-rmse:11128.7+153.92\ttest-rmse:28542.5+3781.74\n",
      "[425]\ttrain-rmse:10184.5+139.068\ttest-rmse:28238.8+3811.21\n",
      "[450]\ttrain-rmse:9429.91+132.992\ttest-rmse:28059.4+3861.56\n",
      "[475]\ttrain-rmse:8801.9+121.185\ttest-rmse:27880+3869.19\n",
      "[500]\ttrain-rmse:8273.9+118.932\ttest-rmse:27738.5+3896.96\n",
      "[525]\ttrain-rmse:7834.3+109.589\ttest-rmse:27623.4+3922.28\n",
      "[550]\ttrain-rmse:7449.32+98.6492\ttest-rmse:27532+3942.38\n",
      "[575]\ttrain-rmse:7131.97+91.7543\ttest-rmse:27489.8+3955.59\n",
      "[600]\ttrain-rmse:6838+89.8248\ttest-rmse:27409.8+3991.05\n",
      "[625]\ttrain-rmse:6587.07+102.627\ttest-rmse:27354.9+4009.04\n",
      "[650]\ttrain-rmse:6355.43+117.729\ttest-rmse:27297.4+4030.72\n",
      "[675]\ttrain-rmse:6156.4+133.908\ttest-rmse:27265.7+4046.22\n",
      "[700]\ttrain-rmse:5956.38+138.014\ttest-rmse:27231.9+4053.21\n",
      "[725]\ttrain-rmse:5772.55+149.997\ttest-rmse:27195.1+4063.18\n",
      "[750]\ttrain-rmse:5585.23+158.235\ttest-rmse:27149.8+4070.12\n",
      "[775]\ttrain-rmse:5425.7+162.975\ttest-rmse:27129.1+4076.18\n",
      "[800]\ttrain-rmse:5262.28+167.203\ttest-rmse:27098.2+4086.33\n",
      "[825]\ttrain-rmse:5102.84+166.264\ttest-rmse:27071.1+4099.95\n",
      "[850]\ttrain-rmse:4949.01+169.042\ttest-rmse:27047.2+4099.99\n",
      "[875]\ttrain-rmse:4788.01+156.887\ttest-rmse:27024.5+4103.58\n",
      "[900]\ttrain-rmse:4637.25+150.852\ttest-rmse:27011.4+4100.68\n",
      "[925]\ttrain-rmse:4492.65+143.714\ttest-rmse:26998.4+4104.4\n",
      "[950]\ttrain-rmse:4354.86+133.871\ttest-rmse:26991.4+4097.29\n",
      "[975]\ttrain-rmse:4196.64+129.452\ttest-rmse:26980.7+4102.71\n",
      "[1000]\ttrain-rmse:4057.89+118.524\ttest-rmse:26972.4+4102.63\n",
      "[1025]\ttrain-rmse:3919.44+111.162\ttest-rmse:26964.5+4099.36\n",
      "[1050]\ttrain-rmse:3783.54+95.032\ttest-rmse:26953.8+4099.98\n",
      "[1075]\ttrain-rmse:3653.49+84.8022\ttest-rmse:26941.4+4100.57\n",
      "[1100]\ttrain-rmse:3534.96+82.6002\ttest-rmse:26932.2+4109.41\n",
      "[1125]\ttrain-rmse:3417.66+78.9135\ttest-rmse:26923.9+4114.52\n",
      "[1150]\ttrain-rmse:3303.22+72.6997\ttest-rmse:26916+4110.54\n",
      "[1175]\ttrain-rmse:3179.84+72.7236\ttest-rmse:26911.9+4110.1\n",
      "[1200]\ttrain-rmse:3072.93+69.6772\ttest-rmse:26904.7+4114.95\n",
      "[1225]\ttrain-rmse:2966.09+63.6492\ttest-rmse:26898.1+4115.02\n",
      "[1250]\ttrain-rmse:2850.85+61.822\ttest-rmse:26895.3+4116.84\n",
      "[1275]\ttrain-rmse:2748.14+60.4147\ttest-rmse:26889.6+4121.43\n",
      "[1300]\ttrain-rmse:2643.51+54.243\ttest-rmse:26885.5+4121.27\n",
      "[1325]\ttrain-rmse:2543.62+49.5461\ttest-rmse:26879.8+4122.9\n",
      "[1350]\ttrain-rmse:2449.52+46.8352\ttest-rmse:26879.9+4122.94\n",
      "[1375]\ttrain-rmse:2354.98+45.8023\ttest-rmse:26877.4+4123.85\n",
      "[1400]\ttrain-rmse:2268.47+42.3425\ttest-rmse:26874.3+4123.82\n",
      "[1425]\ttrain-rmse:2185.95+38.5087\ttest-rmse:26871+4124.91\n",
      "[1450]\ttrain-rmse:2099.47+36.2401\ttest-rmse:26869.5+4121.96\n",
      "[1475]\ttrain-rmse:2022.02+34.95\ttest-rmse:26866.3+4122.56\n",
      "[1500]\ttrain-rmse:1946.91+32.614\ttest-rmse:26866.4+4122.03\n",
      "[1525]\ttrain-rmse:1872.18+32.5469\ttest-rmse:26866.1+4123.06\n",
      "[1550]\ttrain-rmse:1804.06+33.0049\ttest-rmse:26865+4122.64\n",
      "[1575]\ttrain-rmse:1736.87+33.0636\ttest-rmse:26864.2+4125.47\n",
      "[1600]\ttrain-rmse:1669.05+28.9781\ttest-rmse:26863.6+4126.16\n",
      "[1625]\ttrain-rmse:1606.3+30.3989\ttest-rmse:26862.4+4126.43\n",
      "[1650]\ttrain-rmse:1544.57+28.7482\ttest-rmse:26862+4125.49\n",
      "[1675]\ttrain-rmse:1487.6+28.8481\ttest-rmse:26860.9+4125.55\n",
      "[1700]\ttrain-rmse:1433.62+27.6082\ttest-rmse:26861.3+4124.54\n",
      "[1725]\ttrain-rmse:1379.63+29.0791\ttest-rmse:26861.6+4123.47\n"
     ]
    }
   ],
   "source": [
    "cv_xgb = xgb.cv(dtrain=dtrain,\n",
    "       params=params_for_xgb_cv,\n",
    "       verbose_eval=25,\n",
    "       num_boost_round=3000,\n",
    "       early_stopping_rounds=50,\n",
    "      nfold=5)"
   ]
  },
  {
   "cell_type": "code",
   "execution_count": 237,
   "metadata": {
    "collapsed": false
   },
   "outputs": [
    {
     "data": {
      "text/html": [
       "<div>\n",
       "<table border=\"1\" class=\"dataframe\">\n",
       "  <thead>\n",
       "    <tr style=\"text-align: right;\">\n",
       "      <th></th>\n",
       "      <th>test-rmse-mean</th>\n",
       "      <th>test-rmse-std</th>\n",
       "      <th>train-rmse-mean</th>\n",
       "      <th>train-rmse-std</th>\n",
       "    </tr>\n",
       "  </thead>\n",
       "  <tbody>\n",
       "    <tr>\n",
       "      <th>1675</th>\n",
       "      <td>26860.912110</td>\n",
       "      <td>4125.545257</td>\n",
       "      <td>1487.601660</td>\n",
       "      <td>28.848063</td>\n",
       "    </tr>\n",
       "    <tr>\n",
       "      <th>1676</th>\n",
       "      <td>26860.941406</td>\n",
       "      <td>4125.699889</td>\n",
       "      <td>1485.886914</td>\n",
       "      <td>28.540819</td>\n",
       "    </tr>\n",
       "    <tr>\n",
       "      <th>1677</th>\n",
       "      <td>26860.892188</td>\n",
       "      <td>4125.776692</td>\n",
       "      <td>1483.738232</td>\n",
       "      <td>28.632785</td>\n",
       "    </tr>\n",
       "    <tr>\n",
       "      <th>1678</th>\n",
       "      <td>26860.832031</td>\n",
       "      <td>4125.639797</td>\n",
       "      <td>1481.522217</td>\n",
       "      <td>28.901118</td>\n",
       "    </tr>\n",
       "    <tr>\n",
       "      <th>1679</th>\n",
       "      <td>26860.708984</td>\n",
       "      <td>4125.375703</td>\n",
       "      <td>1478.853174</td>\n",
       "      <td>28.883741</td>\n",
       "    </tr>\n",
       "  </tbody>\n",
       "</table>\n",
       "</div>"
      ],
      "text/plain": [
       "      test-rmse-mean  test-rmse-std  train-rmse-mean  train-rmse-std\n",
       "1675    26860.912110    4125.545257      1487.601660       28.848063\n",
       "1676    26860.941406    4125.699889      1485.886914       28.540819\n",
       "1677    26860.892188    4125.776692      1483.738232       28.632785\n",
       "1678    26860.832031    4125.639797      1481.522217       28.901118\n",
       "1679    26860.708984    4125.375703      1478.853174       28.883741"
      ]
     },
     "execution_count": 237,
     "metadata": {},
     "output_type": "execute_result"
    }
   ],
   "source": [
    "cv_xgb.tail(5)"
   ]
  },
  {
   "cell_type": "code",
   "execution_count": 242,
   "metadata": {
    "collapsed": false
   },
   "outputs": [
    {
     "data": {
      "text/plain": [
       "(1680, 4)"
      ]
     },
     "execution_count": 242,
     "metadata": {},
     "output_type": "execute_result"
    }
   ],
   "source": [
    "cv_xgb.shape"
   ]
  },
  {
   "cell_type": "code",
   "execution_count": 244,
   "metadata": {
    "collapsed": false
   },
   "outputs": [
    {
     "data": {
      "text/plain": [
       "1680"
      ]
     },
     "execution_count": 244,
     "metadata": {},
     "output_type": "execute_result"
    }
   ],
   "source": [
    "cv_xgb.shape[0]"
   ]
  },
  {
   "cell_type": "code",
   "execution_count": 245,
   "metadata": {
    "collapsed": true
   },
   "outputs": [],
   "source": [
    "#build xgb model with this number of rounds\n",
    "xgb_cv_model = xgb.train(dtrain=dtrain,\n",
    "                         params=params_for_xgb_cv,\n",
    "                         num_boost_round=cv_xgb.shape[0])"
   ]
  },
  {
   "cell_type": "code",
   "execution_count": 247,
   "metadata": {
    "collapsed": true
   },
   "outputs": [],
   "source": [
    "dtrain_for_predict = xgb.DMatrix(train[features])"
   ]
  },
  {
   "cell_type": "code",
   "execution_count": 249,
   "metadata": {
    "collapsed": false,
    "scrolled": true
   },
   "outputs": [
    {
     "data": {
      "text/plain": [
       "1740.3644134599572"
      ]
     },
     "execution_count": 249,
     "metadata": {},
     "output_type": "execute_result"
    }
   ],
   "source": [
    "np.sqrt(mean_squared_error(y_true=train.SalePrice, y_pred=xgb_cv_model.predict(dtrain_for_predict)))"
   ]
  },
  {
   "cell_type": "code",
   "execution_count": 250,
   "metadata": {
    "collapsed": true
   },
   "outputs": [],
   "source": [
    "#train RMSE for model4: 4375.9308943604892\n",
    "#train RMSE for xgb cv model: 1740.3644134599572"
   ]
  },
  {
   "cell_type": "code",
   "execution_count": 251,
   "metadata": {
    "collapsed": false
   },
   "outputs": [
    {
     "data": {
      "text/plain": [
       "<xgboost.core.DMatrix at 0x7fc69961bd50>"
      ]
     },
     "execution_count": 251,
     "metadata": {},
     "output_type": "execute_result"
    }
   ],
   "source": [
    "dtest"
   ]
  },
  {
   "cell_type": "code",
   "execution_count": 252,
   "metadata": {
    "collapsed": false
   },
   "outputs": [
    {
     "data": {
      "text/plain": [
       "21224.640981566205"
      ]
     },
     "execution_count": 252,
     "metadata": {},
     "output_type": "execute_result"
    }
   ],
   "source": [
    "np.sqrt(mean_squared_error(y_true=test.SalePrice, y_pred=xgb_cv_model.predict(dtest)))"
   ]
  },
  {
   "cell_type": "code",
   "execution_count": 253,
   "metadata": {
    "collapsed": false
   },
   "outputs": [
    {
     "data": {
      "text/plain": [
       "21249.554442243039"
      ]
     },
     "execution_count": 253,
     "metadata": {},
     "output_type": "execute_result"
    }
   ],
   "source": [
    "#test RMSE for model 4:\n",
    "np.sqrt(mean_squared_error(y_true=test.SalePrice, y_pred=sklearn_xgb_model4.predict(test[features])))"
   ]
  },
  {
   "cell_type": "code",
   "execution_count": 254,
   "metadata": {
    "collapsed": true
   },
   "outputs": [],
   "source": [
    "#test RMSE of xgb model less than that of model 4"
   ]
  },
  {
   "cell_type": "code",
   "execution_count": 255,
   "metadata": {
    "collapsed": false
   },
   "outputs": [
    {
     "data": {
      "text/plain": [
       "<matplotlib.axes._subplots.AxesSubplot at 0x7fc69723e6d0>"
      ]
     },
     "execution_count": 255,
     "metadata": {},
     "output_type": "execute_result"
    },
    {
     "data": {
      "image/png": "[encoded data removed]",
      "text/plain": [
       "<matplotlib.figure.Figure at 0x7fc69723fb90>"
      ]
     },
     "metadata": {},
     "output_type": "display_data"
    }
   ],
   "source": [
    "#xgb.plot_importance(final_gb)\n",
    "xgb.plot_importance(xgb_cv_model)"
   ]
  },
  {
   "cell_type": "code",
   "execution_count": 261,
   "metadata": {
    "collapsed": true
   },
   "outputs": [],
   "source": [
    "feats_score = xgb_cv_model.get_fscore()"
   ]
  },
  {
   "cell_type": "code",
   "execution_count": 257,
   "metadata": {
    "collapsed": false
   },
   "outputs": [
    {
     "data": {
      "text/plain": [
       "dict"
      ]
     },
     "execution_count": 257,
     "metadata": {},
     "output_type": "execute_result"
    }
   ],
   "source": [
    "type(feats_score)"
   ]
  },
  {
   "cell_type": "code",
   "execution_count": 262,
   "metadata": {
    "collapsed": false
   },
   "outputs": [],
   "source": [
    "feats_score_df = pd.DataFrame()"
   ]
  },
  {
   "cell_type": "code",
   "execution_count": 263,
   "metadata": {
    "collapsed": true
   },
   "outputs": [],
   "source": [
    "feats_score_df['feat'] = feats_score"
   ]
  },
  {
   "cell_type": "code",
   "execution_count": 264,
   "metadata": {
    "collapsed": true
   },
   "outputs": [
    {
     "data": {
      "text/html": [
       "<div>\n",
       "<table border=\"1\" class=\"dataframe\">\n",
       "  <thead>\n",
       "    <tr style=\"text-align: right;\">\n",
       "      <th></th>\n",
       "      <th>feat</th>\n",
       "    </tr>\n",
       "  </thead>\n",
       "  <tbody>\n",
       "    <tr>\n",
       "      <th>1stFlrSF</th>\n",
       "      <td>3SsnPorch</td>\n",
       "    </tr>\n",
       "    <tr>\n",
       "      <th>2ndFlrSF</th>\n",
       "      <td>ExterCond</td>\n",
       "    </tr>\n",
       "    <tr>\n",
       "      <th>3SsnPorch</th>\n",
       "      <td>BsmtFullBath</td>\n",
       "    </tr>\n",
       "    <tr>\n",
       "      <th>BedroomAbvGr</th>\n",
       "      <td>BsmtUnfSF</td>\n",
       "    </tr>\n",
       "    <tr>\n",
       "      <th>BldgType</th>\n",
       "      <td>GarageQual</td>\n",
       "    </tr>\n",
       "    <tr>\n",
       "      <th>BsmtCond</th>\n",
       "      <td>Exterior1st</td>\n",
       "    </tr>\n",
       "    <tr>\n",
       "      <th>BsmtExposure</th>\n",
       "      <td>OpenPorchSF</td>\n",
       "    </tr>\n",
       "    <tr>\n",
       "      <th>BsmtFinSF1</th>\n",
       "      <td>GarageYrBlt</td>\n",
       "    </tr>\n",
       "    <tr>\n",
       "      <th>BsmtFinSF2</th>\n",
       "      <td>HalfBath</td>\n",
       "    </tr>\n",
       "    <tr>\n",
       "      <th>BsmtFinType1</th>\n",
       "      <td>MoSold</td>\n",
       "    </tr>\n",
       "    <tr>\n",
       "      <th>BsmtFinType2</th>\n",
       "      <td>OverallCond</td>\n",
       "    </tr>\n",
       "    <tr>\n",
       "      <th>BsmtFullBath</th>\n",
       "      <td>LotArea</td>\n",
       "    </tr>\n",
       "    <tr>\n",
       "      <th>BsmtHalfBath</th>\n",
       "      <td>MasVnrType</td>\n",
       "    </tr>\n",
       "    <tr>\n",
       "      <th>BsmtQual</th>\n",
       "      <td>Electrical</td>\n",
       "    </tr>\n",
       "    <tr>\n",
       "      <th>BsmtUnfSF</th>\n",
       "      <td>BsmtQual</td>\n",
       "    </tr>\n",
       "    <tr>\n",
       "      <th>CentralAir</th>\n",
       "      <td>BsmtExposure</td>\n",
       "    </tr>\n",
       "    <tr>\n",
       "      <th>Condition1</th>\n",
       "      <td>GrLivArea</td>\n",
       "    </tr>\n",
       "    <tr>\n",
       "      <th>Condition2</th>\n",
       "      <td>YearRemodAdd</td>\n",
       "    </tr>\n",
       "    <tr>\n",
       "      <th>Electrical</th>\n",
       "      <td>EnclosedPorch</td>\n",
       "    </tr>\n",
       "    <tr>\n",
       "      <th>EnclosedPorch</th>\n",
       "      <td>Foundation</td>\n",
       "    </tr>\n",
       "    <tr>\n",
       "      <th>ExterCond</th>\n",
       "      <td>1stFlrSF</td>\n",
       "    </tr>\n",
       "    <tr>\n",
       "      <th>ExterQual</th>\n",
       "      <td>GarageType</td>\n",
       "    </tr>\n",
       "    <tr>\n",
       "      <th>Exterior1st</th>\n",
       "      <td>Fireplaces</td>\n",
       "    </tr>\n",
       "    <tr>\n",
       "      <th>Exterior2nd</th>\n",
       "      <td>HeatingQC</td>\n",
       "    </tr>\n",
       "    <tr>\n",
       "      <th>Fireplaces</th>\n",
       "      <td>LotFrontage</td>\n",
       "    </tr>\n",
       "    <tr>\n",
       "      <th>Foundation</th>\n",
       "      <td>MiscVal</td>\n",
       "    </tr>\n",
       "    <tr>\n",
       "      <th>FullBath</th>\n",
       "      <td>CentralAir</td>\n",
       "    </tr>\n",
       "    <tr>\n",
       "      <th>Functional</th>\n",
       "      <td>OverallQual</td>\n",
       "    </tr>\n",
       "    <tr>\n",
       "      <th>GarageArea</th>\n",
       "      <td>KitchenAbvGr</td>\n",
       "    </tr>\n",
       "    <tr>\n",
       "      <th>GarageCars</th>\n",
       "      <td>Condition2</td>\n",
       "    </tr>\n",
       "    <tr>\n",
       "      <th>...</th>\n",
       "      <td>...</td>\n",
       "    </tr>\n",
       "    <tr>\n",
       "      <th>LandSlope</th>\n",
       "      <td>ScreenPorch</td>\n",
       "    </tr>\n",
       "    <tr>\n",
       "      <th>LotArea</th>\n",
       "      <td>Exterior2nd</td>\n",
       "    </tr>\n",
       "    <tr>\n",
       "      <th>LotConfig</th>\n",
       "      <td>Heating</td>\n",
       "    </tr>\n",
       "    <tr>\n",
       "      <th>LotFrontage</th>\n",
       "      <td>MSSubClass</td>\n",
       "    </tr>\n",
       "    <tr>\n",
       "      <th>LotShape</th>\n",
       "      <td>WoodDeckSF</td>\n",
       "    </tr>\n",
       "    <tr>\n",
       "      <th>LowQualFinSF</th>\n",
       "      <td>YearBuilt</td>\n",
       "    </tr>\n",
       "    <tr>\n",
       "      <th>MSSubClass</th>\n",
       "      <td>KitchenQual</td>\n",
       "    </tr>\n",
       "    <tr>\n",
       "      <th>MSZoning</th>\n",
       "      <td>BsmtFinType2</td>\n",
       "    </tr>\n",
       "    <tr>\n",
       "      <th>MasVnrArea</th>\n",
       "      <td>BsmtFinType1</td>\n",
       "    </tr>\n",
       "    <tr>\n",
       "      <th>MasVnrType</th>\n",
       "      <td>PoolArea</td>\n",
       "    </tr>\n",
       "    <tr>\n",
       "      <th>MiscVal</th>\n",
       "      <td>BsmtFinSF1</td>\n",
       "    </tr>\n",
       "    <tr>\n",
       "      <th>MoSold</th>\n",
       "      <td>BsmtFinSF2</td>\n",
       "    </tr>\n",
       "    <tr>\n",
       "      <th>Neighborhood</th>\n",
       "      <td>GarageCond</td>\n",
       "    </tr>\n",
       "    <tr>\n",
       "      <th>OpenPorchSF</th>\n",
       "      <td>LandContour</td>\n",
       "    </tr>\n",
       "    <tr>\n",
       "      <th>OverallCond</th>\n",
       "      <td>RoofMatl</td>\n",
       "    </tr>\n",
       "    <tr>\n",
       "      <th>OverallQual</th>\n",
       "      <td>Neighborhood</td>\n",
       "    </tr>\n",
       "    <tr>\n",
       "      <th>PavedDrive</th>\n",
       "      <td>BsmtCond</td>\n",
       "    </tr>\n",
       "    <tr>\n",
       "      <th>PoolArea</th>\n",
       "      <td>BedroomAbvGr</td>\n",
       "    </tr>\n",
       "    <tr>\n",
       "      <th>RoofMatl</th>\n",
       "      <td>SaleCondition</td>\n",
       "    </tr>\n",
       "    <tr>\n",
       "      <th>RoofStyle</th>\n",
       "      <td>ExterQual</td>\n",
       "    </tr>\n",
       "    <tr>\n",
       "      <th>SaleCondition</th>\n",
       "      <td>Functional</td>\n",
       "    </tr>\n",
       "    <tr>\n",
       "      <th>SaleType</th>\n",
       "      <td>YrSold</td>\n",
       "    </tr>\n",
       "    <tr>\n",
       "      <th>ScreenPorch</th>\n",
       "      <td>RoofStyle</td>\n",
       "    </tr>\n",
       "    <tr>\n",
       "      <th>Street</th>\n",
       "      <td>Street</td>\n",
       "    </tr>\n",
       "    <tr>\n",
       "      <th>TotRmsAbvGrd</th>\n",
       "      <td>HouseStyle</td>\n",
       "    </tr>\n",
       "    <tr>\n",
       "      <th>TotalBsmtSF</th>\n",
       "      <td>LowQualFinSF</td>\n",
       "    </tr>\n",
       "    <tr>\n",
       "      <th>WoodDeckSF</th>\n",
       "      <td>GarageArea</td>\n",
       "    </tr>\n",
       "    <tr>\n",
       "      <th>YearBuilt</th>\n",
       "      <td>MSZoning</td>\n",
       "    </tr>\n",
       "    <tr>\n",
       "      <th>YearRemodAdd</th>\n",
       "      <td>GarageCars</td>\n",
       "    </tr>\n",
       "    <tr>\n",
       "      <th>YrSold</th>\n",
       "      <td>Id</td>\n",
       "    </tr>\n",
       "  </tbody>\n",
       "</table>\n",
       "<p>74 rows × 1 columns</p>\n",
       "</div>"
      ],
      "text/plain": [
       "                        feat\n",
       "1stFlrSF           3SsnPorch\n",
       "2ndFlrSF           ExterCond\n",
       "3SsnPorch       BsmtFullBath\n",
       "BedroomAbvGr       BsmtUnfSF\n",
       "BldgType          GarageQual\n",
       "BsmtCond         Exterior1st\n",
       "BsmtExposure     OpenPorchSF\n",
       "BsmtFinSF1       GarageYrBlt\n",
       "BsmtFinSF2          HalfBath\n",
       "BsmtFinType1          MoSold\n",
       "BsmtFinType2     OverallCond\n",
       "BsmtFullBath         LotArea\n",
       "BsmtHalfBath      MasVnrType\n",
       "BsmtQual          Electrical\n",
       "BsmtUnfSF           BsmtQual\n",
       "CentralAir      BsmtExposure\n",
       "Condition1         GrLivArea\n",
       "Condition2      YearRemodAdd\n",
       "Electrical     EnclosedPorch\n",
       "EnclosedPorch     Foundation\n",
       "ExterCond           1stFlrSF\n",
       "ExterQual         GarageType\n",
       "Exterior1st       Fireplaces\n",
       "Exterior2nd        HeatingQC\n",
       "Fireplaces       LotFrontage\n",
       "Foundation           MiscVal\n",
       "FullBath          CentralAir\n",
       "Functional       OverallQual\n",
       "GarageArea      KitchenAbvGr\n",
       "GarageCars        Condition2\n",
       "...                      ...\n",
       "LandSlope        ScreenPorch\n",
       "LotArea          Exterior2nd\n",
       "LotConfig            Heating\n",
       "LotFrontage       MSSubClass\n",
       "LotShape          WoodDeckSF\n",
       "LowQualFinSF       YearBuilt\n",
       "MSSubClass       KitchenQual\n",
       "MSZoning        BsmtFinType2\n",
       "MasVnrArea      BsmtFinType1\n",
       "MasVnrType          PoolArea\n",
       "MiscVal           BsmtFinSF1\n",
       "MoSold            BsmtFinSF2\n",
       "Neighborhood      GarageCond\n",
       "OpenPorchSF      LandContour\n",
       "OverallCond         RoofMatl\n",
       "OverallQual     Neighborhood\n",
       "PavedDrive          BsmtCond\n",
       "PoolArea        BedroomAbvGr\n",
       "RoofMatl       SaleCondition\n",
       "RoofStyle          ExterQual\n",
       "SaleCondition     Functional\n",
       "SaleType              YrSold\n",
       "ScreenPorch        RoofStyle\n",
       "Street                Street\n",
       "TotRmsAbvGrd      HouseStyle\n",
       "TotalBsmtSF     LowQualFinSF\n",
       "WoodDeckSF        GarageArea\n",
       "YearBuilt           MSZoning\n",
       "YearRemodAdd      GarageCars\n",
       "YrSold                    Id\n",
       "\n",
       "[74 rows x 1 columns]"
      ]
     },
     "execution_count": 264,
     "metadata": {},
     "output_type": "execute_result"
    }
   ],
   "source": [
    "feats_score_df"
   ]
  },
  {
   "cell_type": "code",
   "execution_count": 268,
   "metadata": {
    "collapsed": false
   },
   "outputs": [],
   "source": [
    "a = pd.DataFrame.from_dict(feats_score,'index')"
   ]
  },
  {
   "cell_type": "code",
   "execution_count": 270,
   "metadata": {
    "collapsed": false,
    "scrolled": true
   },
   "outputs": [
    {
     "data": {
      "text/html": [
       "<div>\n",
       "<table border=\"1\" class=\"dataframe\">\n",
       "  <thead>\n",
       "    <tr style=\"text-align: right;\">\n",
       "      <th></th>\n",
       "      <th>0</th>\n",
       "    </tr>\n",
       "  </thead>\n",
       "  <tbody>\n",
       "    <tr>\n",
       "      <th>3SsnPorch</th>\n",
       "      <td>289</td>\n",
       "    </tr>\n",
       "    <tr>\n",
       "      <th>ExterCond</th>\n",
       "      <td>355</td>\n",
       "    </tr>\n",
       "    <tr>\n",
       "      <th>BsmtFullBath</th>\n",
       "      <td>571</td>\n",
       "    </tr>\n",
       "    <tr>\n",
       "      <th>BsmtUnfSF</th>\n",
       "      <td>4533</td>\n",
       "    </tr>\n",
       "    <tr>\n",
       "      <th>GarageQual</th>\n",
       "      <td>123</td>\n",
       "    </tr>\n",
       "  </tbody>\n",
       "</table>\n",
       "</div>"
      ],
      "text/plain": [
       "                 0\n",
       "3SsnPorch      289\n",
       "ExterCond      355\n",
       "BsmtFullBath   571\n",
       "BsmtUnfSF     4533\n",
       "GarageQual     123"
      ]
     },
     "execution_count": 270,
     "metadata": {},
     "output_type": "execute_result"
    }
   ],
   "source": [
    "a.head()"
   ]
  },
  {
   "cell_type": "code",
   "execution_count": 271,
   "metadata": {
    "collapsed": true
   },
   "outputs": [],
   "source": [
    "b = pd.DataFrame(feats_score.items(), columns=['feature', 'score'])"
   ]
  },
  {
   "cell_type": "code",
   "execution_count": 272,
   "metadata": {
    "collapsed": false
   },
   "outputs": [
    {
     "data": {
      "text/html": [
       "<div>\n",
       "<table border=\"1\" class=\"dataframe\">\n",
       "  <thead>\n",
       "    <tr style=\"text-align: right;\">\n",
       "      <th></th>\n",
       "      <th>feature</th>\n",
       "      <th>score</th>\n",
       "    </tr>\n",
       "  </thead>\n",
       "  <tbody>\n",
       "    <tr>\n",
       "      <th>0</th>\n",
       "      <td>3SsnPorch</td>\n",
       "      <td>289</td>\n",
       "    </tr>\n",
       "    <tr>\n",
       "      <th>1</th>\n",
       "      <td>ExterCond</td>\n",
       "      <td>355</td>\n",
       "    </tr>\n",
       "    <tr>\n",
       "      <th>2</th>\n",
       "      <td>BsmtFullBath</td>\n",
       "      <td>571</td>\n",
       "    </tr>\n",
       "    <tr>\n",
       "      <th>3</th>\n",
       "      <td>BsmtUnfSF</td>\n",
       "      <td>4533</td>\n",
       "    </tr>\n",
       "    <tr>\n",
       "      <th>4</th>\n",
       "      <td>GarageQual</td>\n",
       "      <td>123</td>\n",
       "    </tr>\n",
       "  </tbody>\n",
       "</table>\n",
       "</div>"
      ],
      "text/plain": [
       "        feature  score\n",
       "0     3SsnPorch    289\n",
       "1     ExterCond    355\n",
       "2  BsmtFullBath    571\n",
       "3     BsmtUnfSF   4533\n",
       "4    GarageQual    123"
      ]
     },
     "execution_count": 272,
     "metadata": {},
     "output_type": "execute_result"
    }
   ],
   "source": [
    "b.head()"
   ]
  },
  {
   "cell_type": "code",
   "execution_count": 274,
   "metadata": {
    "collapsed": false,
    "scrolled": true
   },
   "outputs": [
    {
     "name": "stderr",
     "output_type": "stream",
     "text": [
      "/home/shenbaga/anaconda2/lib/python2.7/site-packages/ipykernel/__main__.py:1: FutureWarning: sort(columns=....) is deprecated, use sort_values(by=.....)\n",
      "  if __name__ == '__main__':\n"
     ]
    },
    {
     "data": {
      "text/html": [
       "<div>\n",
       "<table border=\"1\" class=\"dataframe\">\n",
       "  <thead>\n",
       "    <tr style=\"text-align: right;\">\n",
       "      <th></th>\n",
       "      <th>feature</th>\n",
       "      <th>score</th>\n",
       "    </tr>\n",
       "  </thead>\n",
       "  <tbody>\n",
       "    <tr>\n",
       "      <th>20</th>\n",
       "      <td>1stFlrSF</td>\n",
       "      <td>9381</td>\n",
       "    </tr>\n",
       "    <tr>\n",
       "      <th>3</th>\n",
       "      <td>BsmtUnfSF</td>\n",
       "      <td>4533</td>\n",
       "    </tr>\n",
       "    <tr>\n",
       "      <th>54</th>\n",
       "      <td>BsmtFinSF1</td>\n",
       "      <td>4429</td>\n",
       "    </tr>\n",
       "    <tr>\n",
       "      <th>73</th>\n",
       "      <td>Id</td>\n",
       "      <td>4389</td>\n",
       "    </tr>\n",
       "    <tr>\n",
       "      <th>11</th>\n",
       "      <td>LotArea</td>\n",
       "      <td>4296</td>\n",
       "    </tr>\n",
       "    <tr>\n",
       "      <th>39</th>\n",
       "      <td>2ndFlrSF</td>\n",
       "      <td>3786</td>\n",
       "    </tr>\n",
       "    <tr>\n",
       "      <th>16</th>\n",
       "      <td>GrLivArea</td>\n",
       "      <td>3754</td>\n",
       "    </tr>\n",
       "    <tr>\n",
       "      <th>70</th>\n",
       "      <td>GarageArea</td>\n",
       "      <td>3669</td>\n",
       "    </tr>\n",
       "    <tr>\n",
       "      <th>24</th>\n",
       "      <td>LotFrontage</td>\n",
       "      <td>3594</td>\n",
       "    </tr>\n",
       "    <tr>\n",
       "      <th>7</th>\n",
       "      <td>GarageYrBlt</td>\n",
       "      <td>3148</td>\n",
       "    </tr>\n",
       "    <tr>\n",
       "      <th>32</th>\n",
       "      <td>TotalBsmtSF</td>\n",
       "      <td>2663</td>\n",
       "    </tr>\n",
       "    <tr>\n",
       "      <th>35</th>\n",
       "      <td>MasVnrArea</td>\n",
       "      <td>2253</td>\n",
       "    </tr>\n",
       "    <tr>\n",
       "      <th>9</th>\n",
       "      <td>MoSold</td>\n",
       "      <td>2224</td>\n",
       "    </tr>\n",
       "    <tr>\n",
       "      <th>6</th>\n",
       "      <td>OpenPorchSF</td>\n",
       "      <td>2019</td>\n",
       "    </tr>\n",
       "    <tr>\n",
       "      <th>59</th>\n",
       "      <td>Neighborhood</td>\n",
       "      <td>1982</td>\n",
       "    </tr>\n",
       "    <tr>\n",
       "      <th>49</th>\n",
       "      <td>YearBuilt</td>\n",
       "      <td>1873</td>\n",
       "    </tr>\n",
       "    <tr>\n",
       "      <th>48</th>\n",
       "      <td>WoodDeckSF</td>\n",
       "      <td>1865</td>\n",
       "    </tr>\n",
       "    <tr>\n",
       "      <th>61</th>\n",
       "      <td>BedroomAbvGr</td>\n",
       "      <td>1851</td>\n",
       "    </tr>\n",
       "    <tr>\n",
       "      <th>17</th>\n",
       "      <td>YearRemodAdd</td>\n",
       "      <td>1828</td>\n",
       "    </tr>\n",
       "    <tr>\n",
       "      <th>15</th>\n",
       "      <td>BsmtExposure</td>\n",
       "      <td>1609</td>\n",
       "    </tr>\n",
       "    <tr>\n",
       "      <th>5</th>\n",
       "      <td>Exterior1st</td>\n",
       "      <td>1562</td>\n",
       "    </tr>\n",
       "    <tr>\n",
       "      <th>10</th>\n",
       "      <td>OverallCond</td>\n",
       "      <td>1432</td>\n",
       "    </tr>\n",
       "    <tr>\n",
       "      <th>27</th>\n",
       "      <td>OverallQual</td>\n",
       "      <td>1287</td>\n",
       "    </tr>\n",
       "    <tr>\n",
       "      <th>52</th>\n",
       "      <td>BsmtFinType1</td>\n",
       "      <td>1262</td>\n",
       "    </tr>\n",
       "    <tr>\n",
       "      <th>65</th>\n",
       "      <td>YrSold</td>\n",
       "      <td>1220</td>\n",
       "    </tr>\n",
       "    <tr>\n",
       "      <th>45</th>\n",
       "      <td>Exterior2nd</td>\n",
       "      <td>1021</td>\n",
       "    </tr>\n",
       "    <tr>\n",
       "      <th>18</th>\n",
       "      <td>EnclosedPorch</td>\n",
       "      <td>945</td>\n",
       "    </tr>\n",
       "    <tr>\n",
       "      <th>62</th>\n",
       "      <td>SaleCondition</td>\n",
       "      <td>920</td>\n",
       "    </tr>\n",
       "    <tr>\n",
       "      <th>34</th>\n",
       "      <td>TotRmsAbvGrd</td>\n",
       "      <td>920</td>\n",
       "    </tr>\n",
       "    <tr>\n",
       "      <th>55</th>\n",
       "      <td>BsmtFinSF2</td>\n",
       "      <td>897</td>\n",
       "    </tr>\n",
       "    <tr>\n",
       "      <th>...</th>\n",
       "      <td>...</td>\n",
       "      <td>...</td>\n",
       "    </tr>\n",
       "    <tr>\n",
       "      <th>71</th>\n",
       "      <td>MSZoning</td>\n",
       "      <td>476</td>\n",
       "    </tr>\n",
       "    <tr>\n",
       "      <th>57</th>\n",
       "      <td>LandContour</td>\n",
       "      <td>475</td>\n",
       "    </tr>\n",
       "    <tr>\n",
       "      <th>21</th>\n",
       "      <td>GarageType</td>\n",
       "      <td>472</td>\n",
       "    </tr>\n",
       "    <tr>\n",
       "      <th>12</th>\n",
       "      <td>MasVnrType</td>\n",
       "      <td>457</td>\n",
       "    </tr>\n",
       "    <tr>\n",
       "      <th>63</th>\n",
       "      <td>ExterQual</td>\n",
       "      <td>446</td>\n",
       "    </tr>\n",
       "    <tr>\n",
       "      <th>19</th>\n",
       "      <td>Foundation</td>\n",
       "      <td>419</td>\n",
       "    </tr>\n",
       "    <tr>\n",
       "      <th>41</th>\n",
       "      <td>FullBath</td>\n",
       "      <td>388</td>\n",
       "    </tr>\n",
       "    <tr>\n",
       "      <th>8</th>\n",
       "      <td>HalfBath</td>\n",
       "      <td>374</td>\n",
       "    </tr>\n",
       "    <tr>\n",
       "      <th>64</th>\n",
       "      <td>Functional</td>\n",
       "      <td>370</td>\n",
       "    </tr>\n",
       "    <tr>\n",
       "      <th>72</th>\n",
       "      <td>GarageCars</td>\n",
       "      <td>369</td>\n",
       "    </tr>\n",
       "    <tr>\n",
       "      <th>1</th>\n",
       "      <td>ExterCond</td>\n",
       "      <td>355</td>\n",
       "    </tr>\n",
       "    <tr>\n",
       "      <th>66</th>\n",
       "      <td>RoofStyle</td>\n",
       "      <td>345</td>\n",
       "    </tr>\n",
       "    <tr>\n",
       "      <th>42</th>\n",
       "      <td>SaleType</td>\n",
       "      <td>332</td>\n",
       "    </tr>\n",
       "    <tr>\n",
       "      <th>51</th>\n",
       "      <td>BsmtFinType2</td>\n",
       "      <td>315</td>\n",
       "    </tr>\n",
       "    <tr>\n",
       "      <th>0</th>\n",
       "      <td>3SsnPorch</td>\n",
       "      <td>289</td>\n",
       "    </tr>\n",
       "    <tr>\n",
       "      <th>13</th>\n",
       "      <td>Electrical</td>\n",
       "      <td>275</td>\n",
       "    </tr>\n",
       "    <tr>\n",
       "      <th>31</th>\n",
       "      <td>BsmtHalfBath</td>\n",
       "      <td>221</td>\n",
       "    </tr>\n",
       "    <tr>\n",
       "      <th>36</th>\n",
       "      <td>PavedDrive</td>\n",
       "      <td>219</td>\n",
       "    </tr>\n",
       "    <tr>\n",
       "      <th>26</th>\n",
       "      <td>CentralAir</td>\n",
       "      <td>218</td>\n",
       "    </tr>\n",
       "    <tr>\n",
       "      <th>38</th>\n",
       "      <td>LandSlope</td>\n",
       "      <td>140</td>\n",
       "    </tr>\n",
       "    <tr>\n",
       "      <th>53</th>\n",
       "      <td>PoolArea</td>\n",
       "      <td>123</td>\n",
       "    </tr>\n",
       "    <tr>\n",
       "      <th>4</th>\n",
       "      <td>GarageQual</td>\n",
       "      <td>123</td>\n",
       "    </tr>\n",
       "    <tr>\n",
       "      <th>56</th>\n",
       "      <td>GarageCond</td>\n",
       "      <td>107</td>\n",
       "    </tr>\n",
       "    <tr>\n",
       "      <th>29</th>\n",
       "      <td>Condition2</td>\n",
       "      <td>87</td>\n",
       "    </tr>\n",
       "    <tr>\n",
       "      <th>25</th>\n",
       "      <td>MiscVal</td>\n",
       "      <td>72</td>\n",
       "    </tr>\n",
       "    <tr>\n",
       "      <th>58</th>\n",
       "      <td>RoofMatl</td>\n",
       "      <td>69</td>\n",
       "    </tr>\n",
       "    <tr>\n",
       "      <th>28</th>\n",
       "      <td>KitchenAbvGr</td>\n",
       "      <td>55</td>\n",
       "    </tr>\n",
       "    <tr>\n",
       "      <th>69</th>\n",
       "      <td>LowQualFinSF</td>\n",
       "      <td>51</td>\n",
       "    </tr>\n",
       "    <tr>\n",
       "      <th>46</th>\n",
       "      <td>Heating</td>\n",
       "      <td>41</td>\n",
       "    </tr>\n",
       "    <tr>\n",
       "      <th>67</th>\n",
       "      <td>Street</td>\n",
       "      <td>4</td>\n",
       "    </tr>\n",
       "  </tbody>\n",
       "</table>\n",
       "<p>74 rows × 2 columns</p>\n",
       "</div>"
      ],
      "text/plain": [
       "          feature  score\n",
       "20       1stFlrSF   9381\n",
       "3       BsmtUnfSF   4533\n",
       "54     BsmtFinSF1   4429\n",
       "73             Id   4389\n",
       "11        LotArea   4296\n",
       "39       2ndFlrSF   3786\n",
       "16      GrLivArea   3754\n",
       "70     GarageArea   3669\n",
       "24    LotFrontage   3594\n",
       "7     GarageYrBlt   3148\n",
       "32    TotalBsmtSF   2663\n",
       "35     MasVnrArea   2253\n",
       "9          MoSold   2224\n",
       "6     OpenPorchSF   2019\n",
       "59   Neighborhood   1982\n",
       "49      YearBuilt   1873\n",
       "48     WoodDeckSF   1865\n",
       "61   BedroomAbvGr   1851\n",
       "17   YearRemodAdd   1828\n",
       "15   BsmtExposure   1609\n",
       "5     Exterior1st   1562\n",
       "10    OverallCond   1432\n",
       "27    OverallQual   1287\n",
       "52   BsmtFinType1   1262\n",
       "65         YrSold   1220\n",
       "45    Exterior2nd   1021\n",
       "18  EnclosedPorch    945\n",
       "62  SaleCondition    920\n",
       "34   TotRmsAbvGrd    920\n",
       "55     BsmtFinSF2    897\n",
       "..            ...    ...\n",
       "71       MSZoning    476\n",
       "57    LandContour    475\n",
       "21     GarageType    472\n",
       "12     MasVnrType    457\n",
       "63      ExterQual    446\n",
       "19     Foundation    419\n",
       "41       FullBath    388\n",
       "8        HalfBath    374\n",
       "64     Functional    370\n",
       "72     GarageCars    369\n",
       "1       ExterCond    355\n",
       "66      RoofStyle    345\n",
       "42       SaleType    332\n",
       "51   BsmtFinType2    315\n",
       "0       3SsnPorch    289\n",
       "13     Electrical    275\n",
       "31   BsmtHalfBath    221\n",
       "36     PavedDrive    219\n",
       "26     CentralAir    218\n",
       "38      LandSlope    140\n",
       "53       PoolArea    123\n",
       "4      GarageQual    123\n",
       "56     GarageCond    107\n",
       "29     Condition2     87\n",
       "25        MiscVal     72\n",
       "58       RoofMatl     69\n",
       "28   KitchenAbvGr     55\n",
       "69   LowQualFinSF     51\n",
       "46        Heating     41\n",
       "67         Street      4\n",
       "\n",
       "[74 rows x 2 columns]"
      ]
     },
     "execution_count": 274,
     "metadata": {},
     "output_type": "execute_result"
    }
   ],
   "source": [
    "b.sort(columns='score',ascending=False)"
   ]
  },
  {
   "cell_type": "code",
   "execution_count": 275,
   "metadata": {
    "collapsed": false,
    "scrolled": true
   },
   "outputs": [
    {
     "data": {
      "text/plain": [
       "['1stFlrSF',\n",
       " '2ndFlrSF',\n",
       " '3SsnPorch',\n",
       " 'BedroomAbvGr',\n",
       " 'BldgType',\n",
       " 'BsmtCond',\n",
       " 'BsmtExposure',\n",
       " 'BsmtFinSF1',\n",
       " 'BsmtFinSF2',\n",
       " 'BsmtFinType1',\n",
       " 'BsmtFinType2',\n",
       " 'BsmtFullBath',\n",
       " 'BsmtHalfBath',\n",
       " 'BsmtQual',\n",
       " 'BsmtUnfSF',\n",
       " 'CentralAir',\n",
       " 'Condition1',\n",
       " 'Condition2',\n",
       " 'Electrical',\n",
       " 'EnclosedPorch',\n",
       " 'ExterCond',\n",
       " 'ExterQual',\n",
       " 'Exterior1st',\n",
       " 'Exterior2nd',\n",
       " 'Fireplaces',\n",
       " 'Foundation',\n",
       " 'FullBath',\n",
       " 'Functional',\n",
       " 'GarageArea',\n",
       " 'GarageCars',\n",
       " 'GarageCond',\n",
       " 'GarageFinish',\n",
       " 'GarageQual',\n",
       " 'GarageType',\n",
       " 'GarageYrBlt',\n",
       " 'GrLivArea',\n",
       " 'HalfBath',\n",
       " 'Heating',\n",
       " 'HeatingQC',\n",
       " 'HouseStyle',\n",
       " 'Id',\n",
       " 'KitchenAbvGr',\n",
       " 'KitchenQual',\n",
       " 'LandContour',\n",
       " 'LandSlope',\n",
       " 'LotArea',\n",
       " 'LotConfig',\n",
       " 'LotFrontage',\n",
       " 'LotShape',\n",
       " 'LowQualFinSF',\n",
       " 'MSSubClass',\n",
       " 'MSZoning',\n",
       " 'MasVnrArea',\n",
       " 'MasVnrType',\n",
       " 'MiscVal',\n",
       " 'MoSold',\n",
       " 'Neighborhood',\n",
       " 'OpenPorchSF',\n",
       " 'OverallCond',\n",
       " 'OverallQual',\n",
       " 'PavedDrive',\n",
       " 'PoolArea',\n",
       " 'RoofMatl',\n",
       " 'RoofStyle',\n",
       " 'SaleCondition',\n",
       " 'SaleType',\n",
       " 'ScreenPorch',\n",
       " 'Street',\n",
       " 'TotRmsAbvGrd',\n",
       " 'TotalBsmtSF',\n",
       " 'Utilities',\n",
       " 'WoodDeckSF',\n",
       " 'YearBuilt',\n",
       " 'YearRemodAdd',\n",
       " 'YrSold']"
      ]
     },
     "execution_count": 275,
     "metadata": {},
     "output_type": "execute_result"
    }
   ],
   "source": [
    "#'id' seems to be in the features which is not right\n",
    "features"
   ]
  },
  {
   "cell_type": "code",
   "execution_count": 277,
   "metadata": {
    "collapsed": false
   },
   "outputs": [],
   "source": [
    "features.remove('Id')"
   ]
  },
  {
   "cell_type": "code",
   "execution_count": 279,
   "metadata": {
    "collapsed": false,
    "scrolled": true
   },
   "outputs": [
    {
     "data": {
      "text/plain": [
       "['1stFlrSF',\n",
       " '2ndFlrSF',\n",
       " '3SsnPorch',\n",
       " 'BedroomAbvGr',\n",
       " 'BldgType',\n",
       " 'BsmtCond',\n",
       " 'BsmtExposure',\n",
       " 'BsmtFinSF1',\n",
       " 'BsmtFinSF2',\n",
       " 'BsmtFinType1',\n",
       " 'BsmtFinType2',\n",
       " 'BsmtFullBath',\n",
       " 'BsmtHalfBath',\n",
       " 'BsmtQual',\n",
       " 'BsmtUnfSF',\n",
       " 'CentralAir',\n",
       " 'Condition1',\n",
       " 'Condition2',\n",
       " 'Electrical',\n",
       " 'EnclosedPorch',\n",
       " 'ExterCond',\n",
       " 'ExterQual',\n",
       " 'Exterior1st',\n",
       " 'Exterior2nd',\n",
       " 'Fireplaces',\n",
       " 'Foundation',\n",
       " 'FullBath',\n",
       " 'Functional',\n",
       " 'GarageArea',\n",
       " 'GarageCars',\n",
       " 'GarageCond',\n",
       " 'GarageFinish',\n",
       " 'GarageQual',\n",
       " 'GarageType',\n",
       " 'GarageYrBlt',\n",
       " 'GrLivArea',\n",
       " 'HalfBath',\n",
       " 'Heating',\n",
       " 'HeatingQC',\n",
       " 'HouseStyle',\n",
       " 'KitchenAbvGr',\n",
       " 'KitchenQual',\n",
       " 'LandContour',\n",
       " 'LandSlope',\n",
       " 'LotArea',\n",
       " 'LotConfig',\n",
       " 'LotFrontage',\n",
       " 'LotShape',\n",
       " 'LowQualFinSF',\n",
       " 'MSSubClass',\n",
       " 'MSZoning',\n",
       " 'MasVnrArea',\n",
       " 'MasVnrType',\n",
       " 'MiscVal',\n",
       " 'MoSold',\n",
       " 'Neighborhood',\n",
       " 'OpenPorchSF',\n",
       " 'OverallCond',\n",
       " 'OverallQual',\n",
       " 'PavedDrive',\n",
       " 'PoolArea',\n",
       " 'RoofMatl',\n",
       " 'RoofStyle',\n",
       " 'SaleCondition',\n",
       " 'SaleType',\n",
       " 'ScreenPorch',\n",
       " 'Street',\n",
       " 'TotRmsAbvGrd',\n",
       " 'TotalBsmtSF',\n",
       " 'Utilities',\n",
       " 'WoodDeckSF',\n",
       " 'YearBuilt',\n",
       " 'YearRemodAdd',\n",
       " 'YrSold']"
      ]
     },
     "execution_count": 279,
     "metadata": {},
     "output_type": "execute_result"
    }
   ],
   "source": [
    "features"
   ]
  },
  {
   "cell_type": "code",
   "execution_count": null,
   "metadata": {
    "collapsed": true
   },
   "outputs": [],
   "source": []
  },
  {
   "cell_type": "code",
   "execution_count": 65,
   "metadata": {
    "collapsed": true
   },
   "outputs": [],
   "source": [
    "xgb1_param = xgb1.get_params()"
   ]
  },
  {
   "cell_type": "code",
   "execution_count": 57,
   "metadata": {
    "collapsed": true
   },
   "outputs": [],
   "source": [
    "import xgboost as xgb"
   ]
  },
  {
   "cell_type": "code",
   "execution_count": 58,
   "metadata": {
    "collapsed": false,
    "scrolled": true
   },
   "outputs": [],
   "source": [
    "xgtrain1 = xgb.DMatrix(final_train[features], y_train)"
   ]
  },
  {
   "cell_type": "code",
   "execution_count": 59,
   "metadata": {
    "collapsed": true
   },
   "outputs": [],
   "source": [
    "import datetime"
   ]
  },
  {
   "cell_type": "code",
   "execution_count": 63,
   "metadata": {
    "collapsed": true
   },
   "outputs": [],
   "source": [
    "from time import time"
   ]
  },
  {
   "cell_type": "code",
   "execution_count": 66,
   "metadata": {
    "collapsed": false
   },
   "outputs": [
    {
     "name": "stdout",
     "output_type": "stream",
     "text": [
      "2016-12-13 14:28:47.388370\n",
      "2.09135483106\n"
     ]
    }
   ],
   "source": [
    "print datetime.datetime.now()\n",
    "\n",
    "start = time()\n",
    "\n",
    "cvresult1 = xgb.cv(xgb1_param, \n",
    "                   xgtrain1,\n",
    "                   num_boost_round=xgb1.get_params()['n_estimators'],\n",
    "                   nfold = 5,\n",
    "                   early_stopping_rounds = 50\n",
    "                    )\n",
    "\n",
    "end = time()\n",
    "\n",
    "print ((end-start)/60.0)"
   ]
  },
  {
   "cell_type": "code",
   "execution_count": 67,
   "metadata": {
    "collapsed": false
   },
   "outputs": [
    {
     "data": {
      "text/plain": [
       "XGBRegressor(base_score=7.76, colsample_bylevel=1, colsample_bytree=0.5,\n",
       "       gamma=0, learning_rate=0.01, max_delta_step=0, max_depth=12,\n",
       "       min_child_weight=1, missing=None, n_estimators=1000, nthread=4,\n",
       "       objective='reg:linear', reg_alpha=1, reg_lambda=1,\n",
       "       scale_pos_weight=1, seed=2016, silent=0, subsample=0.8)"
      ]
     },
     "execution_count": 67,
     "metadata": {},
     "output_type": "execute_result"
    }
   ],
   "source": [
    "xgb1.set_params(n_estimators = cvresult1.shape[0])"
   ]
  },
  {
   "cell_type": "code",
   "execution_count": 68,
   "metadata": {
    "collapsed": false
   },
   "outputs": [
    {
     "data": {
      "text/html": [
       "<div>\n",
       "<table border=\"1\" class=\"dataframe\">\n",
       "  <thead>\n",
       "    <tr style=\"text-align: right;\">\n",
       "      <th></th>\n",
       "      <th>test-rmse-mean</th>\n",
       "      <th>test-rmse-std</th>\n",
       "      <th>train-rmse-mean</th>\n",
       "      <th>train-rmse-std</th>\n",
       "    </tr>\n",
       "  </thead>\n",
       "  <tbody>\n",
       "    <tr>\n",
       "      <th>995</th>\n",
       "      <td>25795.191015</td>\n",
       "      <td>4482.769775</td>\n",
       "      <td>812.140759</td>\n",
       "      <td>65.450779</td>\n",
       "    </tr>\n",
       "    <tr>\n",
       "      <th>996</th>\n",
       "      <td>25795.004297</td>\n",
       "      <td>4482.854516</td>\n",
       "      <td>809.928979</td>\n",
       "      <td>65.418423</td>\n",
       "    </tr>\n",
       "    <tr>\n",
       "      <th>997</th>\n",
       "      <td>25794.696484</td>\n",
       "      <td>4482.616681</td>\n",
       "      <td>807.931482</td>\n",
       "      <td>65.609977</td>\n",
       "    </tr>\n",
       "    <tr>\n",
       "      <th>998</th>\n",
       "      <td>25794.366797</td>\n",
       "      <td>4482.819010</td>\n",
       "      <td>805.453662</td>\n",
       "      <td>65.210054</td>\n",
       "    </tr>\n",
       "    <tr>\n",
       "      <th>999</th>\n",
       "      <td>25794.195312</td>\n",
       "      <td>4482.776178</td>\n",
       "      <td>803.348120</td>\n",
       "      <td>65.082152</td>\n",
       "    </tr>\n",
       "  </tbody>\n",
       "</table>\n",
       "</div>"
      ],
      "text/plain": [
       "     test-rmse-mean  test-rmse-std  train-rmse-mean  train-rmse-std\n",
       "995    25795.191015    4482.769775       812.140759       65.450779\n",
       "996    25795.004297    4482.854516       809.928979       65.418423\n",
       "997    25794.696484    4482.616681       807.931482       65.609977\n",
       "998    25794.366797    4482.819010       805.453662       65.210054\n",
       "999    25794.195312    4482.776178       803.348120       65.082152"
      ]
     },
     "execution_count": 68,
     "metadata": {},
     "output_type": "execute_result"
    }
   ],
   "source": [
    "cvresult1.tail(5)"
   ]
  },
  {
   "cell_type": "code",
   "execution_count": 69,
   "metadata": {
    "collapsed": false
   },
   "outputs": [
    {
     "data": {
      "text/plain": [
       "XGBRegressor(base_score=7.76, colsample_bylevel=1, colsample_bytree=0.5,\n",
       "       gamma=0, learning_rate=0.01, max_delta_step=0, max_depth=12,\n",
       "       min_child_weight=1, missing=None, n_estimators=1000, nthread=4,\n",
       "       objective='reg:linear', reg_alpha=1, reg_lambda=1,\n",
       "       scale_pos_weight=1, seed=2016, silent=0, subsample=0.8)"
      ]
     },
     "execution_count": 69,
     "metadata": {},
     "output_type": "execute_result"
    }
   ],
   "source": [
    "xgb1.fit(final_train[features], y_train)"
   ]
  },
  {
   "cell_type": "code",
   "execution_count": 71,
   "metadata": {
    "collapsed": true
   },
   "outputs": [],
   "source": [
    "from sklearn import metrics"
   ]
  },
  {
   "cell_type": "code",
   "execution_count": 72,
   "metadata": {
    "collapsed": false
   },
   "outputs": [
    {
     "name": "stdout",
     "output_type": "stream",
     "text": [
      "Accuracy : 7.181e+05\n"
     ]
    }
   ],
   "source": [
    "#Predict training set:\n",
    "dtrain_predictions = xgb1.predict(final_train[features])\n",
    "print \"Accuracy : %.4g\" % metrics.mean_squared_error(y_train, dtrain_predictions)"
   ]
  },
  {
   "cell_type": "code",
   "execution_count": 73,
   "metadata": {
    "collapsed": true
   },
   "outputs": [],
   "source": [
    "#predict the test values\n",
    "submission = pd.read_csv(directory + 'sample_submission.csv')\n",
    "submission.iloc[:, 1] = xgb1.predict(final_test[features])\n",
    "submission.to_csv('Simple_XGB1_Test.csv', index=None)"
   ]
  },
  {
   "cell_type": "code",
   "execution_count": 74,
   "metadata": {
    "collapsed": true
   },
   "outputs": [],
   "source": [
    "#this submission on LB: 1122 ShenbagaKumarS 0.13270 Tue, 13 Dec 2016 09:12:31 "
   ]
  },
  {
   "cell_type": "code",
   "execution_count": 75,
   "metadata": {
    "collapsed": true
   },
   "outputs": [],
   "source": [
    "#try the same simple XGB with a log transform on the SalePrice"
   ]
  },
  {
   "cell_type": "code",
   "execution_count": 76,
   "metadata": {
    "collapsed": true
   },
   "outputs": [],
   "source": [
    "import seaborn as sns"
   ]
  },
  {
   "cell_type": "code",
   "execution_count": 77,
   "metadata": {
    "collapsed": false
   },
   "outputs": [
    {
     "data": {
      "text/plain": [
       "<matplotlib.axes._subplots.AxesSubplot at 0x7f8dff4c77d0>"
      ]
     },
     "execution_count": 77,
     "metadata": {},
     "output_type": "execute_result"
    },
    {
     "data": {
      "image/png": "[encoded data removed]",
      "text/plain": [
       "<matplotlib.figure.Figure at 0x7f8e0301bdd0>"
      ]
     },
     "metadata": {},
     "output_type": "display_data"
    }
   ],
   "source": [
    "sns.distplot(y_train)"
   ]
  },
  {
   "cell_type": "code",
   "execution_count": 78,
   "metadata": {
    "collapsed": false
   },
   "outputs": [
    {
     "data": {
      "text/plain": [
       "<matplotlib.axes._subplots.AxesSubplot at 0x7f8dff5f7e10>"
      ]
     },
     "execution_count": 78,
     "metadata": {},
     "output_type": "execute_result"
    },
    {
     "data": {
      "image/png": "[encoded data removed]",
      "text/plain": [
       "<matplotlib.figure.Figure at 0x7f8dff598190>"
      ]
     },
     "metadata": {},
     "output_type": "display_data"
    }
   ],
   "source": [
    "sns.distplot(np.log(y_train))"
   ]
  },
  {
   "cell_type": "code",
   "execution_count": 79,
   "metadata": {
    "collapsed": true
   },
   "outputs": [],
   "source": [
    "#the log transformed saleprice is more normal than simple saleprice"
   ]
  },
  {
   "cell_type": "code",
   "execution_count": 80,
   "metadata": {
    "collapsed": true
   },
   "outputs": [],
   "source": [
    "y_train = np.log(y_train)"
   ]
  },
  {
   "cell_type": "code",
   "execution_count": 81,
   "metadata": {
    "collapsed": true
   },
   "outputs": [],
   "source": [
    "xgb2 = XGBRegressor(\n",
    "    learning_rate =0.01,\n",
    "    n_estimators=1000,\n",
    "    max_depth=12,\n",
    "    min_child_weight=1,\n",
    "    gamma=0,\n",
    "    subsample=0.8,\n",
    "    colsample_bytree=0.5,\n",
    "    nthread=4,\n",
    "    scale_pos_weight=1,\n",
    "    seed=2016,\n",
    "    silent = 0,\n",
    "    base_score = 7.76,\n",
    "    reg_alpha = 1\n",
    ")"
   ]
  },
  {
   "cell_type": "code",
   "execution_count": 82,
   "metadata": {
    "collapsed": true
   },
   "outputs": [],
   "source": [
    "xgb2_param = xgb2.get_params()"
   ]
  },
  {
   "cell_type": "code",
   "execution_count": 83,
   "metadata": {
    "collapsed": true
   },
   "outputs": [],
   "source": [
    "xgtrain2 = xgb.DMatrix(final_train[features], y_train)"
   ]
  },
  {
   "cell_type": "code",
   "execution_count": 84,
   "metadata": {
    "collapsed": false
   },
   "outputs": [
    {
     "name": "stdout",
     "output_type": "stream",
     "text": [
      "2016-12-13 14:47:43.308126\n",
      "1.74513246616\n"
     ]
    }
   ],
   "source": [
    "print datetime.datetime.now()\n",
    "\n",
    "start = time()\n",
    "\n",
    "cvresult1 = xgb.cv(xgb2_param, \n",
    "                   xgtrain2,\n",
    "                   num_boost_round=xgb2.get_params()['n_estimators'],\n",
    "                   nfold = 5,\n",
    "                   early_stopping_rounds = 50\n",
    "                    )\n",
    "\n",
    "end = time()\n",
    "\n",
    "print ((end-start)/60.0)"
   ]
  },
  {
   "cell_type": "code",
   "execution_count": 85,
   "metadata": {
    "collapsed": false
   },
   "outputs": [
    {
     "data": {
      "text/plain": [
       "XGBRegressor(base_score=7.76, colsample_bylevel=1, colsample_bytree=0.5,\n",
       "       gamma=0, learning_rate=0.01, max_delta_step=0, max_depth=12,\n",
       "       min_child_weight=1, missing=None, n_estimators=1000, nthread=4,\n",
       "       objective='reg:linear', reg_alpha=1, reg_lambda=1,\n",
       "       scale_pos_weight=1, seed=2016, silent=0, subsample=0.8)"
      ]
     },
     "execution_count": 85,
     "metadata": {},
     "output_type": "execute_result"
    }
   ],
   "source": [
    "xgb2.set_params(n_estimators = cvresult1.shape[0])"
   ]
  },
  {
   "cell_type": "code",
   "execution_count": 87,
   "metadata": {
    "collapsed": false
   },
   "outputs": [
    {
     "data": {
      "text/plain": [
       "XGBRegressor(base_score=7.76, colsample_bylevel=1, colsample_bytree=0.5,\n",
       "       gamma=0, learning_rate=0.01, max_delta_step=0, max_depth=12,\n",
       "       min_child_weight=1, missing=None, n_estimators=1000, nthread=4,\n",
       "       objective='reg:linear', reg_alpha=1, reg_lambda=1,\n",
       "       scale_pos_weight=1, seed=2016, silent=0, subsample=0.8)"
      ]
     },
     "execution_count": 87,
     "metadata": {},
     "output_type": "execute_result"
    }
   ],
   "source": [
    "xgb2.fit(final_train[features], y_train)"
   ]
  },
  {
   "cell_type": "code",
   "execution_count": 88,
   "metadata": {
    "collapsed": false
   },
   "outputs": [
    {
     "name": "stdout",
     "output_type": "stream",
     "text": [
      "Accuracy : 0.003723\n"
     ]
    }
   ],
   "source": [
    "#Predict training set:\n",
    "dtrain_predictions = xgb2.predict(final_train[features])\n",
    "print \"Accuracy : %.4g\" % metrics.mean_squared_error(y_train, dtrain_predictions)"
   ]
  },
  {
   "cell_type": "code",
   "execution_count": 91,
   "metadata": {
    "collapsed": false
   },
   "outputs": [],
   "source": [
    "#predict the test values\n",
    "submission2 = pd.read_csv(directory + 'sample_submission.csv')\n",
    "submission2.iloc[:, 1] = np.exp(xgb2.predict(final_test[features]))\n",
    "submission2.to_csv('Simple_XGB2_Test.csv', index=None)"
   ]
  },
  {
   "cell_type": "code",
   "execution_count": 92,
   "metadata": {
    "collapsed": true
   },
   "outputs": [],
   "source": [
    "#above  submission scored 0.13865"
   ]
  },
  {
   "cell_type": "code",
   "execution_count": 93,
   "metadata": {
    "collapsed": false
   },
   "outputs": [
    {
     "data": {
      "text/html": [
       "<div>\n",
       "<table border=\"1\" class=\"dataframe\">\n",
       "  <thead>\n",
       "    <tr style=\"text-align: right;\">\n",
       "      <th></th>\n",
       "      <th>test-rmse-mean</th>\n",
       "      <th>test-rmse-std</th>\n",
       "      <th>train-rmse-mean</th>\n",
       "      <th>train-rmse-std</th>\n",
       "    </tr>\n",
       "  </thead>\n",
       "  <tbody>\n",
       "    <tr>\n",
       "      <th>990</th>\n",
       "      <td>0.126386</td>\n",
       "      <td>0.017678</td>\n",
       "      <td>0.061271</td>\n",
       "      <td>0.001737</td>\n",
       "    </tr>\n",
       "    <tr>\n",
       "      <th>991</th>\n",
       "      <td>0.126377</td>\n",
       "      <td>0.017676</td>\n",
       "      <td>0.061238</td>\n",
       "      <td>0.001738</td>\n",
       "    </tr>\n",
       "    <tr>\n",
       "      <th>992</th>\n",
       "      <td>0.126376</td>\n",
       "      <td>0.017681</td>\n",
       "      <td>0.061209</td>\n",
       "      <td>0.001736</td>\n",
       "    </tr>\n",
       "    <tr>\n",
       "      <th>993</th>\n",
       "      <td>0.126367</td>\n",
       "      <td>0.017684</td>\n",
       "      <td>0.061179</td>\n",
       "      <td>0.001734</td>\n",
       "    </tr>\n",
       "    <tr>\n",
       "      <th>994</th>\n",
       "      <td>0.126357</td>\n",
       "      <td>0.017690</td>\n",
       "      <td>0.061145</td>\n",
       "      <td>0.001724</td>\n",
       "    </tr>\n",
       "    <tr>\n",
       "      <th>995</th>\n",
       "      <td>0.126348</td>\n",
       "      <td>0.017697</td>\n",
       "      <td>0.061112</td>\n",
       "      <td>0.001719</td>\n",
       "    </tr>\n",
       "    <tr>\n",
       "      <th>996</th>\n",
       "      <td>0.126346</td>\n",
       "      <td>0.017697</td>\n",
       "      <td>0.061081</td>\n",
       "      <td>0.001717</td>\n",
       "    </tr>\n",
       "    <tr>\n",
       "      <th>997</th>\n",
       "      <td>0.126335</td>\n",
       "      <td>0.017699</td>\n",
       "      <td>0.061053</td>\n",
       "      <td>0.001712</td>\n",
       "    </tr>\n",
       "    <tr>\n",
       "      <th>998</th>\n",
       "      <td>0.126327</td>\n",
       "      <td>0.017699</td>\n",
       "      <td>0.061020</td>\n",
       "      <td>0.001703</td>\n",
       "    </tr>\n",
       "    <tr>\n",
       "      <th>999</th>\n",
       "      <td>0.126321</td>\n",
       "      <td>0.017706</td>\n",
       "      <td>0.060985</td>\n",
       "      <td>0.001698</td>\n",
       "    </tr>\n",
       "  </tbody>\n",
       "</table>\n",
       "</div>"
      ],
      "text/plain": [
       "     test-rmse-mean  test-rmse-std  train-rmse-mean  train-rmse-std\n",
       "990        0.126386       0.017678         0.061271        0.001737\n",
       "991        0.126377       0.017676         0.061238        0.001738\n",
       "992        0.126376       0.017681         0.061209        0.001736\n",
       "993        0.126367       0.017684         0.061179        0.001734\n",
       "994        0.126357       0.017690         0.061145        0.001724\n",
       "995        0.126348       0.017697         0.061112        0.001719\n",
       "996        0.126346       0.017697         0.061081        0.001717\n",
       "997        0.126335       0.017699         0.061053        0.001712\n",
       "998        0.126327       0.017699         0.061020        0.001703\n",
       "999        0.126321       0.017706         0.060985        0.001698"
      ]
     },
     "execution_count": 93,
     "metadata": {},
     "output_type": "execute_result"
    }
   ],
   "source": [
    "cvresult1.tail(10)"
   ]
  },
  {
   "cell_type": "code",
   "execution_count": 94,
   "metadata": {
    "collapsed": true
   },
   "outputs": [],
   "source": [
    "#the n_estimators = 1000 is not helping our case. we should increase it\n",
    "#code from https://www.kaggle.com/humananalog/house-prices-advanced-regression-techniques/xgboost-lasso\n",
    "#only the params for XGB from this code"
   ]
  },
  {
   "cell_type": "code",
   "execution_count": 95,
   "metadata": {
    "collapsed": true
   },
   "outputs": [],
   "source": [
    "regr1 = xgb.XGBRegressor(\n",
    "                 colsample_bytree=0.2,\n",
    "                 gamma=0.0,\n",
    "                 learning_rate=0.01,\n",
    "                 max_depth=4,\n",
    "                 min_child_weight=1.5,\n",
    "                 n_estimators=7200,                                                                  \n",
    "                 reg_alpha=0.9,\n",
    "                 reg_lambda=0.6,\n",
    "                 subsample=0.2,\n",
    "                 seed=42,\n",
    "                 silent=1)"
   ]
  },
  {
   "cell_type": "code",
   "execution_count": 96,
   "metadata": {
    "collapsed": false
   },
   "outputs": [
    {
     "data": {
      "text/plain": [
       "XGBRegressor(base_score=0.5, colsample_bylevel=1, colsample_bytree=0.2,\n",
       "       gamma=0.0, learning_rate=0.01, max_delta_step=0, max_depth=4,\n",
       "       min_child_weight=1.5, missing=None, n_estimators=7200, nthread=-1,\n",
       "       objective='reg:linear', reg_alpha=0.9, reg_lambda=0.6,\n",
       "       scale_pos_weight=1, seed=42, silent=1, subsample=0.2)"
      ]
     },
     "execution_count": 96,
     "metadata": {},
     "output_type": "execute_result"
    }
   ],
   "source": [
    "regr1.fit(final_train[features], y_train)"
   ]
  },
  {
   "cell_type": "code",
   "execution_count": 102,
   "metadata": {
    "collapsed": false
   },
   "outputs": [
    {
     "name": "stdout",
     "output_type": "stream",
     "text": [
      "Accuracy : 0.005379\n"
     ]
    }
   ],
   "source": [
    "dtrain_predictions = regr1.predict(final_train[features])\n",
    "print \"Accuracy : %.4g\" % metrics.mean_squared_error(y_train, dtrain_predictions)"
   ]
  },
  {
   "cell_type": "code",
   "execution_count": 100,
   "metadata": {
    "collapsed": false,
    "scrolled": true
   },
   "outputs": [
    {
     "data": {
      "text/plain": [
       "array([ 204622.453125,  178345.734375,  212552.015625, ...,  255859.5625  ,\n",
       "        138547.859375,  151746.390625], dtype=float32)"
      ]
     },
     "execution_count": 100,
     "metadata": {},
     "output_type": "execute_result"
    }
   ],
   "source": [
    "y_pred"
   ]
  },
  {
   "cell_type": "code",
   "execution_count": 103,
   "metadata": {
    "collapsed": true
   },
   "outputs": [
    {
     "data": {
      "text/plain": [
       "0       12.247694\n",
       "1       12.109011\n",
       "2       12.317167\n",
       "3       11.849398\n",
       "4       12.429216\n",
       "5       11.870600\n",
       "6       12.634603\n",
       "7       12.206073\n",
       "8       11.774520\n",
       "9       11.678440\n",
       "10      11.771436\n",
       "11      12.751300\n",
       "12      11.877569\n",
       "13      12.540758\n",
       "14      11.964001\n",
       "15      11.790557\n",
       "16      11.911702\n",
       "17      11.407565\n",
       "18      11.976659\n",
       "19      11.842229\n",
       "20      12.692503\n",
       "21      11.845103\n",
       "22      12.345835\n",
       "23      11.774520\n",
       "24      11.944708\n",
       "25      12.454104\n",
       "26      11.811547\n",
       "27      12.631340\n",
       "28      12.242887\n",
       "29      11.134589\n",
       "          ...    \n",
       "1430    12.165980\n",
       "1431    11.875831\n",
       "1432    11.074421\n",
       "1433    12.136187\n",
       "1434    11.982929\n",
       "1435    12.066811\n",
       "1436    11.699405\n",
       "1437    12.885671\n",
       "1438    11.916389\n",
       "1439    12.190959\n",
       "1440    12.160029\n",
       "1441    11.913713\n",
       "1442    12.644328\n",
       "1443    11.703546\n",
       "1444    12.098487\n",
       "1445    11.767568\n",
       "1446    11.969717\n",
       "1447    12.388394\n",
       "1448    11.626254\n",
       "1449    11.429544\n",
       "1450    11.820410\n",
       "1451    12.567551\n",
       "1452    11.884489\n",
       "1453    11.344507\n",
       "1454    12.128111\n",
       "1455    12.072541\n",
       "1456    12.254863\n",
       "1457    12.493130\n",
       "1458    11.864462\n",
       "1459    11.901583\n",
       "Name: SalePrice, dtype: float64"
      ]
     },
     "execution_count": 103,
     "metadata": {},
     "output_type": "execute_result"
    }
   ],
   "source": [
    "y_train"
   ]
  },
  {
   "cell_type": "code",
   "execution_count": 104,
   "metadata": {
    "collapsed": false
   },
   "outputs": [
    {
     "data": {
      "text/plain": [
       "array([ 12.22892189,  12.0914793 ,  12.26694202, ...,  12.452384  ,\n",
       "        11.83897114,  11.92996597], dtype=float32)"
      ]
     },
     "execution_count": 104,
     "metadata": {},
     "output_type": "execute_result"
    }
   ],
   "source": [
    "dtrain_predictions"
   ]
  },
  {
   "cell_type": "code",
   "execution_count": 117,
   "metadata": {
    "collapsed": false
   },
   "outputs": [
    {
     "name": "stdout",
     "output_type": "stream",
     "text": [
      "Accuracy : 2.521e+08\n"
     ]
    }
   ],
   "source": [
    "print \"Accuracy : %.4g\" % metrics.mean_squared_error(np.exp(y_train), np.exp(dtrain_predictions))"
   ]
  },
  {
   "cell_type": "code",
   "execution_count": 105,
   "metadata": {
    "collapsed": false,
    "scrolled": true
   },
   "outputs": [
    {
     "name": "stdout",
     "output_type": "stream",
     "text": [
      "Accuracy : 2.521e+08\n"
     ]
    }
   ],
   "source": [
    "print \"Accuracy : %.4g\" % metrics.mean_squared_error(final_train['SalePrice'], np.exp(dtrain_predictions))"
   ]
  },
  {
   "cell_type": "code",
   "execution_count": 118,
   "metadata": {
    "collapsed": false
   },
   "outputs": [
    {
     "name": "stdout",
     "output_type": "stream",
     "text": [
      "Accuracy : 1.018e-20\n"
     ]
    }
   ],
   "source": [
    "print \"Accuracy : %.4g\" % metrics.mean_squared_error(np.exp(y_train), final_train['SalePrice'])"
   ]
  },
  {
   "cell_type": "code",
   "execution_count": 106,
   "metadata": {
    "collapsed": false
   },
   "outputs": [
    {
     "data": {
      "text/plain": [
       "array([ 0.        ,  2.30258509,  4.60517019])"
      ]
     },
     "execution_count": 106,
     "metadata": {},
     "output_type": "execute_result"
    }
   ],
   "source": [
    "np.log([1,10,100])"
   ]
  },
  {
   "cell_type": "code",
   "execution_count": 107,
   "metadata": {
    "collapsed": false
   },
   "outputs": [
    {
     "data": {
      "text/plain": [
       "array([ 0.,  1.])"
      ]
     },
     "execution_count": 107,
     "metadata": {},
     "output_type": "execute_result"
    }
   ],
   "source": [
    "np.log([1, np.e])"
   ]
  },
  {
   "cell_type": "code",
   "execution_count": 108,
   "metadata": {
    "collapsed": false
   },
   "outputs": [
    {
     "data": {
      "text/plain": [
       "2.718281828459045"
      ]
     },
     "execution_count": 108,
     "metadata": {},
     "output_type": "execute_result"
    }
   ],
   "source": [
    "np.e"
   ]
  },
  {
   "cell_type": "code",
   "execution_count": 109,
   "metadata": {
    "collapsed": false
   },
   "outputs": [
    {
     "data": {
      "text/plain": [
       "15.154234532556728"
      ]
     },
     "execution_count": 109,
     "metadata": {},
     "output_type": "execute_result"
    }
   ],
   "source": [
    "np.exp(2.71828)"
   ]
  },
  {
   "cell_type": "code",
   "execution_count": 119,
   "metadata": {
    "collapsed": true
   },
   "outputs": [],
   "source": [
    "#predict the test values\n",
    "submission3 = pd.read_csv(directory + 'sample_submission.csv')\n",
    "submission3.iloc[:, 1] = np.exp(regr1.predict(final_test[features]))\n",
    "submission3.to_csv('Simple_Regr1_Test.csv', index=None)"
   ]
  },
  {
   "cell_type": "code",
   "execution_count": 120,
   "metadata": {
    "collapsed": true
   },
   "outputs": [],
   "source": [
    "#this simple regression scored best till date for me:\n",
    "#850 \tnew \t ShenbagaKumarS \t 0.12628 \t3 \tTue, 13 Dec 2016 10:04:20 "
   ]
  },
  {
   "cell_type": "code",
   "execution_count": 121,
   "metadata": {
    "collapsed": true
   },
   "outputs": [],
   "source": [
    "xgb_params = {\n",
    "    'seed': 0,\n",
    "    'colsample_bytree': 0.2,\n",
    "    'silent': 1,\n",
    "    'subsample': 0.7,\n",
    "    'learning_rate': 0.01,\n",
    "    'objective': 'reg:linear',\n",
    "    'max_depth': 12,\n",
    "    'min_child_weight': 1.5,\n",
    "    'booster': 'gbtree',\n",
    "}"
   ]
  },
  {
   "cell_type": "code",
   "execution_count": 123,
   "metadata": {
    "collapsed": false
   },
   "outputs": [
    {
     "name": "stderr",
     "output_type": "stream",
     "text": [
      "/home/shenbaga/anaconda2/lib/python2.7/site-packages/sklearn/cross_validation.py:44: DeprecationWarning: This module was deprecated in version 0.18 in favor of the model_selection module into which all the refactored classes and functions are moved. Also note that the interface of the new CV iterators are different from that of this module. This module will be removed in 0.20.\n",
      "  \"This module will be removed in 0.20.\", DeprecationWarning)\n"
     ]
    }
   ],
   "source": [
    "from sklearn.cross_validation import KFold"
   ]
  },
  {
   "cell_type": "code",
   "execution_count": 127,
   "metadata": {
    "collapsed": true
   },
   "outputs": [],
   "source": [
    "import gc"
   ]
  },
  {
   "cell_type": "code",
   "execution_count": 131,
   "metadata": {
    "collapsed": false,
    "scrolled": true
   },
   "outputs": [
    {
     "name": "stdout",
     "output_type": "stream",
     "text": [
      "Fold 1\n",
      "[0]\ttrain-rmse:196858\teval-rmse:185552\n",
      "Multiple eval metrics have been passed: 'eval-rmse' will be used for early stopping.\n",
      "\n",
      "Will train until eval-rmse hasn't improved in 25 rounds.\n",
      "[50]\ttrain-rmse:124203\teval-rmse:115274\n",
      "[100]\ttrain-rmse:80206.6\teval-rmse:72859.5\n",
      "[150]\ttrain-rmse:53310.9\teval-rmse:48316.1\n",
      "[200]\ttrain-rmse:36495.8\teval-rmse:34085.8\n",
      "[250]\ttrain-rmse:25961.1\teval-rmse:26412.7\n",
      "[300]\ttrain-rmse:19146.8\teval-rmse:22638.2\n",
      "[350]\ttrain-rmse:14521.8\teval-rmse:20780\n",
      "[400]\ttrain-rmse:11384.7\teval-rmse:19921.7\n",
      "[450]\ttrain-rmse:9075.91\teval-rmse:19675.6\n",
      "[500]\ttrain-rmse:7484.14\teval-rmse:19459.3\n",
      "[550]\ttrain-rmse:6265.42\teval-rmse:19360.6\n",
      "[600]\ttrain-rmse:5374.04\teval-rmse:19287\n",
      "Stopping. Best iteration:\n",
      "[612]\ttrain-rmse:5183.83\teval-rmse:19264.6\n",
      "\n",
      "Fold 2\n",
      "[0]\ttrain-rmse:194934\teval-rmse:203153\n",
      "Multiple eval metrics have been passed: 'eval-rmse' will be used for early stopping.\n",
      "\n",
      "Will train until eval-rmse hasn't improved in 25 rounds.\n",
      "[50]\ttrain-rmse:122942\teval-rmse:129381\n",
      "[100]\ttrain-rmse:79360.2\teval-rmse:85496.9\n",
      "[150]\ttrain-rmse:52674.2\teval-rmse:59835.2\n",
      "[200]\ttrain-rmse:36053.4\teval-rmse:44637.1\n",
      "[250]\ttrain-rmse:25696.5\teval-rmse:36180.4\n",
      "[300]\ttrain-rmse:18949.1\teval-rmse:31558.8\n",
      "[350]\ttrain-rmse:14364.3\teval-rmse:28806\n",
      "[400]\ttrain-rmse:11281.7\teval-rmse:27116.1\n",
      "[450]\ttrain-rmse:9013.92\teval-rmse:26187.4\n",
      "[500]\ttrain-rmse:7427.35\teval-rmse:25510.6\n",
      "[550]\ttrain-rmse:6212.18\teval-rmse:25116.4\n",
      "[600]\ttrain-rmse:5327.23\teval-rmse:24856.2\n",
      "[650]\ttrain-rmse:4600.13\teval-rmse:24651.1\n",
      "[700]\ttrain-rmse:4052.49\teval-rmse:24515.4\n",
      "[750]\ttrain-rmse:3577.14\teval-rmse:24367\n",
      "[800]\ttrain-rmse:3195.57\teval-rmse:24299.6\n",
      "[850]\ttrain-rmse:2858.8\teval-rmse:24238.4\n",
      "[900]\ttrain-rmse:2560.8\teval-rmse:24177.6\n",
      "[950]\ttrain-rmse:2303.84\teval-rmse:24154.5\n",
      "Stopping. Best iteration:\n",
      "[958]\ttrain-rmse:2266.16\teval-rmse:24148\n",
      "\n",
      "Fold 3\n",
      "[0]\ttrain-rmse:195573\teval-rmse:197535\n",
      "Multiple eval metrics have been passed: 'eval-rmse' will be used for early stopping.\n",
      "\n",
      "Will train until eval-rmse hasn't improved in 25 rounds.\n",
      "[50]\ttrain-rmse:123354\teval-rmse:124178\n",
      "[100]\ttrain-rmse:79599.7\teval-rmse:80180.6\n",
      "[150]\ttrain-rmse:52898.7\teval-rmse:54235.3\n",
      "[200]\ttrain-rmse:36236.7\teval-rmse:39124.2\n",
      "[250]\ttrain-rmse:25747.2\teval-rmse:30893.3\n",
      "[300]\ttrain-rmse:18982.5\teval-rmse:26534.3\n",
      "[350]\ttrain-rmse:14367.3\teval-rmse:24346.4\n",
      "[400]\ttrain-rmse:11262.2\teval-rmse:23321.9\n",
      "[450]\ttrain-rmse:9004.74\teval-rmse:22806.4\n",
      "[500]\ttrain-rmse:7443.22\teval-rmse:22440.4\n",
      "[550]\ttrain-rmse:6187.05\teval-rmse:22279.2\n",
      "[600]\ttrain-rmse:5306.12\teval-rmse:22169\n",
      "[650]\ttrain-rmse:4581.24\teval-rmse:22102.8\n",
      "[700]\ttrain-rmse:4019.47\teval-rmse:22053\n",
      "[750]\ttrain-rmse:3533.35\teval-rmse:22025.3\n",
      "[800]\ttrain-rmse:3144.56\teval-rmse:22000.2\n",
      "Stopping. Best iteration:\n",
      "[807]\ttrain-rmse:3098.3\teval-rmse:21998.4\n",
      "\n",
      "Fold 4\n",
      "[0]\ttrain-rmse:195389\teval-rmse:199055\n",
      "Multiple eval metrics have been passed: 'eval-rmse' will be used for early stopping.\n",
      "\n",
      "Will train until eval-rmse hasn't improved in 25 rounds.\n",
      "[50]\ttrain-rmse:123156\teval-rmse:126097\n",
      "[100]\ttrain-rmse:79374\teval-rmse:82842.2\n",
      "[150]\ttrain-rmse:52699.6\teval-rmse:58456.8\n",
      "[200]\ttrain-rmse:36051.3\teval-rmse:45306.6\n",
      "[250]\ttrain-rmse:25622.8\teval-rmse:39599.9\n",
      "[300]\ttrain-rmse:18922.9\teval-rmse:37395.4\n",
      "[350]\ttrain-rmse:14409.6\teval-rmse:36482.7\n",
      "[400]\ttrain-rmse:11349.2\teval-rmse:36302.3\n",
      "Stopping. Best iteration:\n",
      "[391]\ttrain-rmse:11809.7\teval-rmse:36260.3\n",
      "\n",
      "Fold 5\n",
      "[0]\ttrain-rmse:194379\teval-rmse:207795\n",
      "Multiple eval metrics have been passed: 'eval-rmse' will be used for early stopping.\n",
      "\n",
      "Will train until eval-rmse hasn't improved in 25 rounds.\n",
      "[50]\ttrain-rmse:122395\teval-rmse:135831\n",
      "[100]\ttrain-rmse:78702.8\teval-rmse:93077.4\n",
      "[150]\ttrain-rmse:52206.4\teval-rmse:67477.3\n",
      "[200]\ttrain-rmse:35746.5\teval-rmse:52618.2\n",
      "[250]\ttrain-rmse:25439.8\teval-rmse:43974.5\n",
      "[300]\ttrain-rmse:18797.6\teval-rmse:39012.2\n",
      "[350]\ttrain-rmse:14304.3\teval-rmse:36264.3\n",
      "[400]\ttrain-rmse:11252\teval-rmse:34477.3\n",
      "[450]\ttrain-rmse:9047.91\teval-rmse:33347.8\n",
      "[500]\ttrain-rmse:7462.44\teval-rmse:32616.6\n",
      "[550]\ttrain-rmse:6252.59\teval-rmse:32135\n",
      "[600]\ttrain-rmse:5385.84\teval-rmse:31748.6\n",
      "[650]\ttrain-rmse:4674.61\teval-rmse:31440.5\n",
      "[700]\ttrain-rmse:4165.14\teval-rmse:31249.7\n",
      "[750]\ttrain-rmse:3681.82\teval-rmse:31101.7\n",
      "[800]\ttrain-rmse:3292.9\teval-rmse:30935.4\n",
      "[850]\ttrain-rmse:2967.26\teval-rmse:30796.7\n",
      "[900]\ttrain-rmse:2673.6\teval-rmse:30700.8\n",
      "[950]\ttrain-rmse:2414.15\teval-rmse:30663.8\n",
      "[1000]\ttrain-rmse:2181.94\teval-rmse:30604.4\n",
      "[1050]\ttrain-rmse:1989.61\teval-rmse:30550.9\n",
      "Stopping. Best iteration:\n",
      "[1058]\ttrain-rmse:1962.07\teval-rmse:30544.8\n",
      "\n",
      "Fold 6\n",
      "[0]\ttrain-rmse:195672\teval-rmse:196623\n",
      "Multiple eval metrics have been passed: 'eval-rmse' will be used for early stopping.\n",
      "\n",
      "Will train until eval-rmse hasn't improved in 25 rounds.\n",
      "[50]\ttrain-rmse:123445\teval-rmse:125907\n",
      "[100]\ttrain-rmse:79510.7\teval-rmse:83726.9\n",
      "[150]\ttrain-rmse:52808.8\teval-rmse:59096.3\n",
      "[200]\ttrain-rmse:36284.2\teval-rmse:44642\n",
      "[250]\ttrain-rmse:25851.3\teval-rmse:36367.3\n",
      "[300]\ttrain-rmse:19059\teval-rmse:31723.4\n",
      "[350]\ttrain-rmse:14468.1\teval-rmse:28794.3\n",
      "[400]\ttrain-rmse:11317.3\teval-rmse:27169.2\n",
      "[450]\ttrain-rmse:9083.86\teval-rmse:26204\n",
      "[500]\ttrain-rmse:7441.86\teval-rmse:25541.3\n",
      "[550]\ttrain-rmse:6179.95\teval-rmse:25118.2\n",
      "[600]\ttrain-rmse:5271.37\teval-rmse:24830.7\n",
      "[650]\ttrain-rmse:4528.9\teval-rmse:24641.7\n",
      "[700]\ttrain-rmse:4004.81\teval-rmse:24552.5\n",
      "[750]\ttrain-rmse:3541.7\teval-rmse:24406.3\n",
      "[800]\ttrain-rmse:3151.45\teval-rmse:24327.8\n",
      "[850]\ttrain-rmse:2804.34\teval-rmse:24278.8\n",
      "[900]\ttrain-rmse:2515.17\teval-rmse:24245.9\n",
      "[950]\ttrain-rmse:2262.88\teval-rmse:24197.9\n",
      "[1000]\ttrain-rmse:2044.09\teval-rmse:24164.6\n",
      "[1050]\ttrain-rmse:1853.93\teval-rmse:24136.9\n",
      "[1100]\ttrain-rmse:1678.35\teval-rmse:24108.1\n",
      "[1150]\ttrain-rmse:1515.82\teval-rmse:24104.7\n",
      "Stopping. Best iteration:\n",
      "[1128]\ttrain-rmse:1583.2\teval-rmse:24102.1\n",
      "\n",
      "Fold 7\n",
      "[0]\ttrain-rmse:196830\teval-rmse:185820\n",
      "Multiple eval metrics have been passed: 'eval-rmse' will be used for early stopping.\n",
      "\n",
      "Will train until eval-rmse hasn't improved in 25 rounds.\n",
      "[50]\ttrain-rmse:124172\teval-rmse:114844\n",
      "[100]\ttrain-rmse:79990.1\teval-rmse:73313.9\n",
      "[150]\ttrain-rmse:53157.6\teval-rmse:49340.1\n",
      "[200]\ttrain-rmse:36372.4\teval-rmse:36030.6\n",
      "[250]\ttrain-rmse:25938.6\teval-rmse:29245.9\n",
      "[300]\ttrain-rmse:19156.6\teval-rmse:25805.8\n",
      "[350]\ttrain-rmse:14543.5\teval-rmse:24201.2\n",
      "[400]\ttrain-rmse:11405.5\teval-rmse:23363.5\n",
      "[450]\ttrain-rmse:9193.53\teval-rmse:22901.6\n",
      "[500]\ttrain-rmse:7541.09\teval-rmse:22614.5\n",
      "[550]\ttrain-rmse:6283.61\teval-rmse:22433.6\n",
      "[600]\ttrain-rmse:5373.91\teval-rmse:22286.9\n",
      "[650]\ttrain-rmse:4615.78\teval-rmse:22225.9\n",
      "Stopping. Best iteration:\n",
      "[643]\ttrain-rmse:4702.07\teval-rmse:22216\n",
      "\n",
      "Fold 8\n",
      "[0]\ttrain-rmse:196937\teval-rmse:184858\n",
      "Multiple eval metrics have been passed: 'eval-rmse' will be used for early stopping.\n",
      "\n",
      "Will train until eval-rmse hasn't improved in 25 rounds.\n",
      "[50]\ttrain-rmse:124256\teval-rmse:115116\n",
      "[100]\ttrain-rmse:80015.6\teval-rmse:73718.6\n",
      "[150]\ttrain-rmse:53045.8\teval-rmse:49787.7\n",
      "[200]\ttrain-rmse:36317.5\teval-rmse:36215.4\n",
      "[250]\ttrain-rmse:25836.6\teval-rmse:29046\n",
      "[300]\ttrain-rmse:19060.7\teval-rmse:25562.7\n",
      "[350]\ttrain-rmse:14470.8\teval-rmse:23530.9\n",
      "[400]\ttrain-rmse:11336.2\teval-rmse:22391.4\n",
      "[450]\ttrain-rmse:9161.77\teval-rmse:21893.9\n",
      "[500]\ttrain-rmse:7530.06\teval-rmse:21535.7\n",
      "[550]\ttrain-rmse:6271.25\teval-rmse:21248.9\n",
      "[600]\ttrain-rmse:5346.33\teval-rmse:21147.8\n",
      "[650]\ttrain-rmse:4583.12\teval-rmse:21023.2\n",
      "[700]\ttrain-rmse:4031.73\teval-rmse:20970.1\n",
      "[750]\ttrain-rmse:3540.25\teval-rmse:20936.9\n",
      "[800]\ttrain-rmse:3137.51\teval-rmse:20902\n",
      "[850]\ttrain-rmse:2798.22\teval-rmse:20891.3\n",
      "[900]\ttrain-rmse:2502.67\teval-rmse:20873.7\n",
      "[950]\ttrain-rmse:2251.35\teval-rmse:20874\n",
      "[1000]\ttrain-rmse:2021.74\teval-rmse:20858.6\n",
      "Stopping. Best iteration:\n",
      "[1003]\ttrain-rmse:2012.39\teval-rmse:20858.2\n",
      "\n",
      "Fold 9\n",
      "[0]\ttrain-rmse:194433\teval-rmse:207328\n",
      "Multiple eval metrics have been passed: 'eval-rmse' will be used for early stopping.\n",
      "\n",
      "Will train until eval-rmse hasn't improved in 25 rounds.\n",
      "[50]\ttrain-rmse:122380\teval-rmse:135668\n",
      "[100]\ttrain-rmse:78670.2\teval-rmse:93185\n",
      "[150]\ttrain-rmse:52154\teval-rmse:68325.3\n",
      "[200]\ttrain-rmse:35775.3\teval-rmse:54265.5\n",
      "[250]\ttrain-rmse:25621.4\teval-rmse:46659.5\n",
      "[300]\ttrain-rmse:19037.5\teval-rmse:42157.4\n",
      "[350]\ttrain-rmse:14669.8\teval-rmse:39728.2\n",
      "[400]\ttrain-rmse:11695\teval-rmse:38077.5\n",
      "[450]\ttrain-rmse:9623.73\teval-rmse:36977.4\n",
      "[500]\ttrain-rmse:8020.59\teval-rmse:36305.3\n",
      "[550]\ttrain-rmse:6802.41\teval-rmse:35742.9\n",
      "[600]\ttrain-rmse:5894.68\teval-rmse:35388\n",
      "[650]\ttrain-rmse:5202.46\teval-rmse:34972.2\n",
      "[700]\ttrain-rmse:4648.91\teval-rmse:34734.3\n",
      "[750]\ttrain-rmse:4175.28\teval-rmse:34532.1\n",
      "[800]\ttrain-rmse:3770.92\teval-rmse:34300.5\n",
      "[850]\ttrain-rmse:3414.59\teval-rmse:34138.1\n",
      "[900]\ttrain-rmse:3109.11\teval-rmse:33968\n",
      "[950]\ttrain-rmse:2810.4\teval-rmse:33836\n",
      "[1000]\ttrain-rmse:2566.86\teval-rmse:33661\n",
      "[1050]\ttrain-rmse:2349.28\teval-rmse:33530.5\n",
      "[1100]\ttrain-rmse:2141.89\teval-rmse:33410.5\n",
      "[1150]\ttrain-rmse:1965.25\teval-rmse:33336.7\n",
      "[1200]\ttrain-rmse:1794.93\teval-rmse:33241.1\n",
      "[1250]\ttrain-rmse:1650.05\teval-rmse:33188.7\n",
      "[1300]\ttrain-rmse:1514.72\teval-rmse:33139.4\n",
      "[1350]\ttrain-rmse:1397.07\teval-rmse:33083.7\n",
      "[1400]\ttrain-rmse:1291.56\teval-rmse:33029.3\n",
      "[1450]\ttrain-rmse:1181.85\teval-rmse:32960.9\n",
      "[1500]\ttrain-rmse:1080.73\teval-rmse:32908.3\n",
      "[1550]\ttrain-rmse:1002.51\teval-rmse:32862.7\n",
      "[1600]\ttrain-rmse:920.04\teval-rmse:32840.7\n",
      "[1650]\ttrain-rmse:844.089\teval-rmse:32805.5\n",
      "[1700]\ttrain-rmse:778.14\teval-rmse:32773.7\n",
      "[1750]\ttrain-rmse:714.728\teval-rmse:32751.3\n",
      "[1800]\ttrain-rmse:655.029\teval-rmse:32721.7\n",
      "[1850]\ttrain-rmse:602.797\teval-rmse:32704.3\n",
      "[1900]\ttrain-rmse:558.535\teval-rmse:32687.6\n",
      "[1950]\ttrain-rmse:518.371\teval-rmse:32674.7\n",
      "[2000]\ttrain-rmse:479.678\teval-rmse:32655.4\n",
      "[2050]\ttrain-rmse:444.06\teval-rmse:32634.6\n",
      "[2100]\ttrain-rmse:409.519\teval-rmse:32619.3\n",
      "[2150]\ttrain-rmse:381.763\teval-rmse:32607.9\n",
      "[2200]\ttrain-rmse:352.405\teval-rmse:32597.1\n",
      "[2250]\ttrain-rmse:326.79\teval-rmse:32590.4\n",
      "[2300]\ttrain-rmse:302.223\teval-rmse:32581.7\n",
      "[2350]\ttrain-rmse:280.672\teval-rmse:32572.3\n",
      "[2400]\ttrain-rmse:260.446\teval-rmse:32565.5\n",
      "[2450]\ttrain-rmse:242.243\teval-rmse:32558.1\n",
      "[2500]\ttrain-rmse:225.344\teval-rmse:32550.1\n",
      "[2550]\ttrain-rmse:208.39\teval-rmse:32543.3\n",
      "[2600]\ttrain-rmse:194.017\teval-rmse:32539\n",
      "[2650]\ttrain-rmse:180.094\teval-rmse:32532.2\n",
      "[2700]\ttrain-rmse:167.636\teval-rmse:32529.5\n",
      "[2750]\ttrain-rmse:155.426\teval-rmse:32525.2\n",
      "[2800]\ttrain-rmse:146.277\teval-rmse:32523.2\n",
      "[2850]\ttrain-rmse:136.696\teval-rmse:32519.2\n",
      "[2900]\ttrain-rmse:128.487\teval-rmse:32513.6\n",
      "[2950]\ttrain-rmse:119.839\teval-rmse:32510.1\n",
      "[3000]\ttrain-rmse:112.142\teval-rmse:32506.7\n",
      "[3050]\ttrain-rmse:105.62\teval-rmse:32505\n",
      "[3100]\ttrain-rmse:98.8544\teval-rmse:32501.3\n",
      "[3150]\ttrain-rmse:93.1134\teval-rmse:32499.8\n",
      "[3200]\ttrain-rmse:87.5638\teval-rmse:32498\n",
      "[3250]\ttrain-rmse:82.1377\teval-rmse:32495.1\n",
      "[3300]\ttrain-rmse:77.2138\teval-rmse:32493.4\n",
      "[3350]\ttrain-rmse:73.2275\teval-rmse:32491.1\n",
      "[3400]\ttrain-rmse:69.6399\teval-rmse:32489.5\n",
      "[3450]\ttrain-rmse:65.9788\teval-rmse:32488.1\n",
      "[3500]\ttrain-rmse:62.6531\teval-rmse:32486.8\n",
      "[3550]\ttrain-rmse:59.839\teval-rmse:32485.9\n",
      "[3600]\ttrain-rmse:57.0059\teval-rmse:32485\n",
      "[3650]\ttrain-rmse:54.0088\teval-rmse:32484.1\n",
      "[3700]\ttrain-rmse:51.3186\teval-rmse:32483.1\n",
      "[3750]\ttrain-rmse:48.802\teval-rmse:32482.4\n",
      "[3800]\ttrain-rmse:46.1397\teval-rmse:32481.7\n",
      "[3850]\ttrain-rmse:43.9601\teval-rmse:32481.1\n",
      "[3900]\ttrain-rmse:41.8406\teval-rmse:32480.5\n",
      "[3950]\ttrain-rmse:39.7779\teval-rmse:32480.2\n",
      "[4000]\ttrain-rmse:38.0444\teval-rmse:32479.9\n",
      "[4050]\ttrain-rmse:36.3596\teval-rmse:32479.2\n",
      "[4100]\ttrain-rmse:34.8313\teval-rmse:32478.6\n",
      "[4150]\ttrain-rmse:33.2719\teval-rmse:32478.4\n",
      "[4200]\ttrain-rmse:32.0138\teval-rmse:32477.9\n",
      "[4250]\ttrain-rmse:30.8878\teval-rmse:32477.6\n",
      "[4300]\ttrain-rmse:29.4739\teval-rmse:32477.2\n",
      "[4350]\ttrain-rmse:28.3271\teval-rmse:32477\n",
      "[4400]\ttrain-rmse:27.2606\teval-rmse:32476.7\n",
      "[4450]\ttrain-rmse:25.9225\teval-rmse:32476.5\n",
      "[4500]\ttrain-rmse:24.857\teval-rmse:32476.2\n",
      "[4550]\ttrain-rmse:23.7741\teval-rmse:32476.1\n",
      "[4600]\ttrain-rmse:22.8256\teval-rmse:32475.9\n",
      "Stopping. Best iteration:\n",
      "[4615]\ttrain-rmse:22.5272\teval-rmse:32475.8\n",
      "\n",
      "Fold 10\n",
      "[0]\ttrain-rmse:196580\teval-rmse:188198\n",
      "Multiple eval metrics have been passed: 'eval-rmse' will be used for early stopping.\n",
      "\n",
      "Will train until eval-rmse hasn't improved in 25 rounds.\n",
      "[50]\ttrain-rmse:123960\teval-rmse:116740\n",
      "[100]\ttrain-rmse:79671.6\teval-rmse:73931.3\n",
      "[150]\ttrain-rmse:52757.1\teval-rmse:49572.3\n",
      "[200]\ttrain-rmse:36060.5\teval-rmse:36189.6\n",
      "[250]\ttrain-rmse:25638.4\teval-rmse:29629.2\n",
      "[300]\ttrain-rmse:18855.6\teval-rmse:26625.5\n",
      "[350]\ttrain-rmse:14280.4\teval-rmse:25378.6\n",
      "[400]\ttrain-rmse:11151\teval-rmse:24794\n",
      "[450]\ttrain-rmse:8994.12\teval-rmse:24579\n",
      "[500]\ttrain-rmse:7362.86\teval-rmse:24420.4\n",
      "[550]\ttrain-rmse:6124.69\teval-rmse:24329.4\n",
      "Stopping. Best iteration:\n",
      "[563]\ttrain-rmse:5862.64\teval-rmse:24326.3\n",
      "\n"
     ]
    }
   ],
   "source": [
    "#another try at XGB:\n",
    "best_nrounds = 20000  # 640 score from above commented out code (Faron)\n",
    "allpredictions = pd.DataFrame()\n",
    "kfolds = 10  # 10 folds is better!\n",
    "if kfolds > 1:\n",
    "    kf = KFold(final_train.shape[0], n_folds=kfolds)\n",
    "    for i, (train_index, test_index) in enumerate(kf):\n",
    "        dtest = xgb.DMatrix(final_test[features])\n",
    "        print('Fold {0}'.format(i + 1))\n",
    "        X_train, X_val = final_train.iloc[train_index], final_train.iloc[test_index]\n",
    "        #cols_ = [x for x in X_train.columns if 'loss' not in x][1:]\n",
    "        dtrain = \\\n",
    "            xgb.DMatrix(X_train[features],\n",
    "                        label=X_train.SalePrice)\n",
    "        dvalid = \\\n",
    "            xgb.DMatrix(X_val[features],\n",
    "                        label=X_val.SalePrice)\n",
    "        watchlist = [(dtrain, 'train'), (dvalid, 'eval')]\n",
    "\n",
    "        gbdt = xgb.train(xgb_params, dtrain, best_nrounds, watchlist,\n",
    "                         verbose_eval=50,\n",
    "                         early_stopping_rounds=25)\n",
    "        del dtrain\n",
    "        del dvalid\n",
    "        gc.collect()\n",
    "        allpredictions['p' + str(i)] = \\\n",
    "            gbdt.predict(dtest, ntree_limit=gbdt.best_ntree_limit)\n",
    "        del dtest\n",
    "        del gbdt\n",
    "        gc.collect()"
   ]
  },
  {
   "cell_type": "code",
   "execution_count": 132,
   "metadata": {
    "collapsed": false
   },
   "outputs": [
    {
     "name": "stdout",
     "output_type": "stream",
     "text": [
      "              p0             p1             p2             p3             p4  \\\n",
      "0  122681.281250  125905.414062  126039.281250  121798.250000  122815.367188   \n",
      "1  156236.781250  160374.312500  158290.781250  154428.906250  162108.984375   \n",
      "2  180695.828125  180509.812500  181398.828125  177257.703125  187105.187500   \n",
      "3  188826.203125  192362.406250  187448.828125  185784.203125  191009.046875   \n",
      "4  188866.234375  183393.281250  185623.781250  182080.078125  186805.281250   \n",
      "\n",
      "              p5             p6             p7             p8             p9  \n",
      "0  126145.695312  125441.015625  124813.562500  124308.281250  123817.710938  \n",
      "1  158384.593750  156956.796875  158185.875000  159457.531250  160369.406250  \n",
      "2  179880.265625  183176.703125  185452.968750  182569.375000  181139.234375  \n",
      "3  188363.500000  188499.375000  191847.046875  190342.203125  187190.250000  \n",
      "4  187482.750000  183810.125000  184338.687500  184603.609375  186558.234375  \n"
     ]
    }
   ],
   "source": [
    "print(allpredictions.head())"
   ]
  },
  {
   "cell_type": "code",
   "execution_count": 133,
   "metadata": {
    "collapsed": true
   },
   "outputs": [],
   "source": [
    "submission = pd.read_csv(directory + 'sample_submission.csv')\n",
    "submission.iloc[:, 1] = allpredictions.mean(axis=1).values\n",
    "submission.to_csv('xgbmeansubmission.csv', index=None)"
   ]
  },
  {
   "cell_type": "code",
   "execution_count": 134,
   "metadata": {
    "collapsed": true
   },
   "outputs": [],
   "source": [
    "#this submission scored 0.12981"
   ]
  },
  {
   "cell_type": "code",
   "execution_count": 135,
   "metadata": {
    "collapsed": true
   },
   "outputs": [],
   "source": [
    "#learn CV in XGB"
   ]
  },
  {
   "cell_type": "code",
   "execution_count": 136,
   "metadata": {
    "collapsed": true
   },
   "outputs": [],
   "source": [
    "param = {'max_depth':2, 'eta':1, 'silent':1, 'objective':'reg:linear'}"
   ]
  },
  {
   "cell_type": "code",
   "execution_count": 141,
   "metadata": {
    "collapsed": true
   },
   "outputs": [],
   "source": [
    "num_round = 5"
   ]
  },
  {
   "cell_type": "code",
   "execution_count": 138,
   "metadata": {
    "collapsed": true
   },
   "outputs": [],
   "source": [
    "dtrain = xgb.DMatrix(final_train[features], final_train.SalePrice)"
   ]
  },
  {
   "cell_type": "code",
   "execution_count": 142,
   "metadata": {
    "collapsed": true
   },
   "outputs": [],
   "source": [
    "res = xgb.cv(param, dtrain, num_round, nfold=5,\n",
    "       metrics={'error'}, seed = 0)"
   ]
  },
  {
   "cell_type": "code",
   "execution_count": 143,
   "metadata": {
    "collapsed": false
   },
   "outputs": [
    {
     "data": {
      "text/html": [
       "<div>\n",
       "<table border=\"1\" class=\"dataframe\">\n",
       "  <thead>\n",
       "    <tr style=\"text-align: right;\">\n",
       "      <th></th>\n",
       "      <th>test-error-mean</th>\n",
       "      <th>test-error-std</th>\n",
       "      <th>train-error-mean</th>\n",
       "      <th>train-error-std</th>\n",
       "    </tr>\n",
       "  </thead>\n",
       "  <tbody>\n",
       "    <tr>\n",
       "      <th>0</th>\n",
       "      <td>-180920.2</td>\n",
       "      <td>6797.554051</td>\n",
       "      <td>-180920.196875</td>\n",
       "      <td>1699.387815</td>\n",
       "    </tr>\n",
       "    <tr>\n",
       "      <th>1</th>\n",
       "      <td>-180920.2</td>\n",
       "      <td>6797.554051</td>\n",
       "      <td>-180920.196875</td>\n",
       "      <td>1699.387815</td>\n",
       "    </tr>\n",
       "    <tr>\n",
       "      <th>2</th>\n",
       "      <td>-180920.2</td>\n",
       "      <td>6797.554051</td>\n",
       "      <td>-180920.196875</td>\n",
       "      <td>1699.387815</td>\n",
       "    </tr>\n",
       "    <tr>\n",
       "      <th>3</th>\n",
       "      <td>-180920.2</td>\n",
       "      <td>6797.554051</td>\n",
       "      <td>-180920.196875</td>\n",
       "      <td>1699.387815</td>\n",
       "    </tr>\n",
       "    <tr>\n",
       "      <th>4</th>\n",
       "      <td>-180920.2</td>\n",
       "      <td>6797.554051</td>\n",
       "      <td>-180920.196875</td>\n",
       "      <td>1699.387815</td>\n",
       "    </tr>\n",
       "  </tbody>\n",
       "</table>\n",
       "</div>"
      ],
      "text/plain": [
       "   test-error-mean  test-error-std  train-error-mean  train-error-std\n",
       "0        -180920.2     6797.554051    -180920.196875      1699.387815\n",
       "1        -180920.2     6797.554051    -180920.196875      1699.387815\n",
       "2        -180920.2     6797.554051    -180920.196875      1699.387815\n",
       "3        -180920.2     6797.554051    -180920.196875      1699.387815\n",
       "4        -180920.2     6797.554051    -180920.196875      1699.387815"
      ]
     },
     "execution_count": 143,
     "metadata": {},
     "output_type": "execute_result"
    }
   ],
   "source": [
    "res"
   ]
  },
  {
   "cell_type": "code",
   "execution_count": null,
   "metadata": {
    "collapsed": true
   },
   "outputs": [],
   "source": []
  }
 ],
 "metadata": {
  "anaconda-cloud": {},
  "kernelspec": {
   "display_name": "Python [conda root]",
   "language": "python",
   "name": "conda-root-py"
  },
  "language_info": {
   "codemirror_mode": {
    "name": "ipython",
    "version": 2
   },
   "file_extension": ".py",
   "mimetype": "text/x-python",
   "name": "python",
   "nbconvert_exporter": "python",
   "pygments_lexer": "ipython2",
   "version": "2.7.12"
  }
 },
 "nbformat": 4,
 "nbformat_minor": 1
}
